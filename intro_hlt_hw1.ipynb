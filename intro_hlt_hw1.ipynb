{
  "cells": [
    {
      "cell_type": "markdown",
      "metadata": {
        "id": "view-in-github",
        "colab_type": "text"
      },
      "source": [
        "<a href=\"https://colab.research.google.com/github/averyk22/human_language_technology/blob/main/intro_hlt_hw1.ipynb\" target=\"_parent\"><img src=\"https://colab.research.google.com/assets/colab-badge.svg\" alt=\"Open In Colab\"/></a>"
      ]
    },
    {
      "cell_type": "markdown",
      "metadata": {
        "id": "eLm_JxCxrkIE",
        "pycharm": {
          "name": "#%% md\n"
        }
      },
      "source": [
        "# Assignment 1\n",
        "\n",
        "In the first assignment, you will implement some of the algorithms you have learnt in the first two weeks of lectures: n-gram language models, and syntactic parsing using the CYK algorithm.\n",
        "\n",
        "# Setup\n",
        "\n",
        "For this and other assignments, we will be using Google Colab, for both code as well as descriptive questions. Your task is to finish all the questions in the Colab notebook and then upload a PDF version of the notebook, and a viewable link on Gradescope.\n",
        "\n",
        "### Google colaboratory\n",
        "\n",
        "Before getting started, get familiar with google colaboratory:\n",
        "https://colab.research.google.com/notebooks/welcome.ipynb\n",
        "\n",
        "This is a neat python environment that works in the cloud and does not require you to\n",
        "set up anything on your personal machine\n",
        "(it also has some built-in IDE features that make writing code easier).\n",
        "Moreover, it allows you to copy any existing collaboratory file, alter it and share\n",
        "with other people.\n",
        "\n",
        "### Submission\n",
        "\n",
        "Before you start working on this homework do the following steps:\n",
        "\n",
        "1. Press __File > Save a copy in Drive...__ tab. This will allow you to have your own copy and change it.\n",
        "2. Follow all the steps in this collaboratory file and write / change / uncomment code as necessary.\n",
        "3. Do not forget to occasionally press __File > Save__ tab to save your progress.\n",
        "4. After all the changes are done and progress is saved press __Share__ button (top right corner of the page), press __get shareable link__ and make sure you have the option __Anyone with the link can view__ selected. Copy the link and paste it in the box below.\n",
        "5. After completing the notebook, press __File > Download .ipynb__ to download a local copy on your computer, and then upload the file to Gradescope.\n",
        "\n",
        "\n",
        "__Paste your notebook link in the box below.__ _(0 points)_"
      ]
    },
    {
      "cell_type": "markdown",
      "metadata": {
        "id": "inEvaul0l3GR"
      },
      "source": [
        "\n",
        "\n",
        "```\n",
        "# Paste your Colab notebook link here\n",
        "```\n",
        "\n"
      ]
    },
    {
      "cell_type": "code",
      "execution_count": null,
      "metadata": {
        "scrolled": true,
        "id": "51H53CHOl3GR"
      },
      "outputs": [],
      "source": [
        "# Downloads required packages and files\n",
        "required_files = \"https://github.com/jhu-intro-hlt/jhu-intro-hlt.github.io/raw/master/assignments/hw1-files/student/required_files.zip\"\n",
        "! wget $required_files && unzip -o required_files.zip\n",
        "! pip install -r requirements.txt"
      ]
    },
    {
      "cell_type": "code",
      "execution_count": null,
      "metadata": {
        "id": "pEX1BnxNl3GS"
      },
      "outputs": [],
      "source": [
        "# Initialize Otter\n",
        "import otter\n",
        "grader = otter.Notebook(colab=True)"
      ]
    },
    {
      "cell_type": "code",
      "execution_count": null,
      "metadata": {
        "pycharm": {
          "name": "#%%\n"
        },
        "id": "616QyAz3l3GS"
      },
      "outputs": [],
      "source": [
        "import random\n",
        "import math\n",
        "import re\n",
        "import os\n",
        "import urllib\n",
        "import json\n",
        "from typing import *\n",
        "from collections import Counter, defaultdict\n",
        "\n",
        "import numpy as np\n",
        "import nltk\n",
        "import matplotlib.pyplot as plt\n",
        "from nltk.tokenize import RegexpTokenizer, sent_tokenize\n",
        "\n",
        "nltk.download('punkt')\n",
        "nltk.download('punkt_tab')"
      ]
    },
    {
      "cell_type": "markdown",
      "metadata": {
        "id": "sWXKLhH1N0IU",
        "pycharm": {
          "name": "#%% md\n"
        }
      },
      "source": [
        "## Part 1: N-gram Language Models\n",
        "\n",
        "For the first part of this assignment, you will implement a trigram language model and train it on a small corpus. You will then implement a scoring function to compute the perplexity of the model on a held-out test set. Finally, you will implement some methods to deal with sparsity (zero count) issues in your model.\n",
        "\n",
        "To ease you into the implementation, we will provide some boilerplate code that you would need to fill in depending upon the functionalities the code is supposed to perform. For the first few sections below, we will use the complete text from Leo Tolstoy's \"War and Peace,\" which is freely available from [Project Gutenberg](https://www.gutenberg.org/). Run the following code block to download the text."
      ]
    },
    {
      "cell_type": "code",
      "execution_count": null,
      "metadata": {
        "pycharm": {
          "name": "#%%\n"
        },
        "id": "fmw2bHZPl3GT"
      },
      "outputs": [],
      "source": [
        "def download_data():\n",
        "    def _download(url: str, filename: str) -> str:\n",
        "        txt = urllib.request.urlopen(url)\n",
        "        with open(filename, 'w') as f:\n",
        "            f.write(txt.read().decode('utf-8'))\n",
        "\n",
        "    _download('https://cs.stanford.edu/people/karpathy/char-rnn/warpeace_input.txt', 'warpeace_input.txt')\n",
        "    _download('http://www.gutenberg.org/files/1399/1399-0.txt', '1399-0.txt')\n",
        "\n",
        "download_data()"
      ]
    },
    {
      "cell_type": "markdown",
      "metadata": {
        "id": "obJJmlMlSs2d",
        "pycharm": {
          "name": "#%% md\n"
        }
      },
      "source": [
        "The complete text downloaded above contains punctuations which are not important for our purposes. So we will perform a basic text preprocessing using the [NLTK toolkit](https://www.nltk.org/). We will store the processed text into a list of strings, where each string will contain words without any punctuations. We will also convert all words to lower case."
      ]
    },
    {
      "cell_type": "code",
      "execution_count": null,
      "metadata": {
        "id": "eoKZKaRGVYa1",
        "pycharm": {
          "name": "#%%\n"
        }
      },
      "outputs": [],
      "source": [
        "# Loading the text\n",
        "try:\n",
        "    with open('warpeace_input.txt', 'r') as file:\n",
        "        corpus_raw = file.read().replace('\\n', ' ')\n",
        "except FileNotFoundError:\n",
        "    with open('../../warpeace_input.txt', 'r') as file:\n",
        "        corpus_raw = file.read().replace('\\n', ' ')"
      ]
    },
    {
      "cell_type": "code",
      "execution_count": null,
      "metadata": {
        "id": "1r_Q1XbTWCst",
        "pycharm": {
          "name": "#%%\n"
        }
      },
      "outputs": [],
      "source": [
        "sentences = sent_tokenize(corpus_raw)\n",
        "\n",
        "corpus = []\n",
        "tokenizer = RegexpTokenizer(r'\\w+')\n",
        "for sentence in sentences:\n",
        "    tokens = tokenizer.tokenize(sentence)\n",
        "    corpus.append([token.lower() for token in tokens])\n",
        "\n",
        "print(\"Corpus has {} sentences\".format(len(corpus)))"
      ]
    },
    {
      "cell_type": "markdown",
      "metadata": {
        "id": "ykO86GMkPQ2E",
        "pycharm": {
          "name": "#%% md\n"
        }
      },
      "source": [
        "### Warm-up: n-gram counts from a corpus\n",
        "\n",
        "Let's start with implementing a simple function for obtaining n-grams and their counts from a string. Complete the following function. _(5 points)_\n",
        "\n",
        "__Note 1:__ Use the special token `~` for both beginning of sentence (BOS) and end of sentence (EOS) tokens. For example, the sentence \"Mary has a little lamb\" has the bigrams \"_~ Mary_\", \"_Mary has_\", \"_has a_\", \"_a little_\", \"_little lamb_\", and \"_lamb ~_\".\n",
        "\n",
        "__Note 2:__ You don't need to do any further text processing beyond what has already been done before.\n",
        "\n",
        "__Note 3:__ For the usage of `collections.Counter`, you can refer to [its python doc](https://docs.python.org/3/library/collections.html#collections.Counter)."
      ]
    },
    {
      "cell_type": "code",
      "execution_count": null,
      "metadata": {
        "pycharm": {
          "name": "#%%\n"
        },
        "tags": [],
        "id": "2e33ebbwl3GU"
      },
      "outputs": [],
      "source": [
        "def generate_ngrams(text: List[str], n: int) -> Counter:\n",
        "    \"\"\"Generates all n-grams (i.e. n-1 context words) for the given text.\n",
        "\n",
        "    Parameters\n",
        "    ----------\n",
        "    text : List[str]\n",
        "        Input text (list of strings) after tokenization.\n",
        "    n : int\n",
        "        n-gram parameter (must be greater than or equal to 1).\n",
        "\n",
        "    Returns\n",
        "    -------\n",
        "    ngrams : Counter\n",
        "        Output n-grams dictionary as {ngram: count} (Dict[Tuple, int]),\n",
        "        where `ngram` is a n-gram tuple and `count` is an integer count.\n",
        "        e.g. ('Mary','has') and value as count of the n-gram in the text.\n",
        "    \"\"\"\n",
        "    assert (isinstance(n, int) and n > 0)\n",
        "\n",
        "    ngrams = Counter()\n",
        "\n",
        "    # TODO: Your code here.\n",
        "    ...\n",
        "\n",
        "    return ngrams\n",
        "\n",
        "\n",
        "def generate_ngrams_sentences(text: List[List[str]], n: int) -> Counter:\n",
        "    \"\"\"Generates n-grams for each sentence and aggregates them.\"\"\"\n",
        "    all_ngrams = Counter()\n",
        "    for sentence in text:\n",
        "        all_ngrams.update(generate_ngrams(sentence, n))\n",
        "    return all_ngrams"
      ]
    },
    {
      "cell_type": "code",
      "execution_count": null,
      "metadata": {
        "pycharm": {
          "name": "#%%\n"
        },
        "scrolled": true,
        "tags": [],
        "id": "b9nXynL4l3GV"
      },
      "outputs": [],
      "source": [
        "# Test your implementation on some sentences from the corpus we downloaded above\n",
        "# and verify if it works correctly.\n",
        "text = corpus[:10]\n",
        "print(text)\n",
        "\n",
        "ngrams = generate_ngrams_sentences(text, 3)\n",
        "print(ngrams)"
      ]
    },
    {
      "cell_type": "code",
      "execution_count": null,
      "metadata": {
        "deletable": false,
        "editable": false,
        "id": "pgDfiTQjl3GV"
      },
      "outputs": [],
      "source": [
        "grader.check(\"warmup-ngram\")"
      ]
    },
    {
      "cell_type": "markdown",
      "metadata": {
        "id": "igo0_GcfRcX7",
        "pycharm": {
          "name": "#%% md\n"
        }
      },
      "source": [
        "<!-- BEGIN QUESTION -->\n",
        "\n",
        "__Question:__ Plot a histogram of counts vs. number of unigrams with that count (you can choose a subset of the corpus, say 500 sentences). Repeat for bigrams and trigrams. They should be all placed into a single plot. _(3 points)_"
      ]
    },
    {
      "cell_type": "code",
      "execution_count": null,
      "metadata": {
        "pycharm": {
          "name": "#%%\n"
        },
        "tags": [],
        "id": "pccdFETSl3GV"
      },
      "outputs": [],
      "source": [
        "fig, axs = plt.subplots(1, 3, tight_layout=True)\n",
        "\n",
        "# Picks a subset of the corpus\n",
        "# TODO: Your code here\n",
        "...\n",
        "\n",
        "# Unigram counts\n",
        "# TODO: Your code here\n",
        "...\n",
        "\n",
        "# Bigram counts\n",
        "# TODO: Your code here\n",
        "...\n",
        "\n",
        "# Trigram counts\n",
        "# TODO: Your code here\n",
        "...\n",
        "\n",
        "plt.show()"
      ]
    },
    {
      "cell_type": "markdown",
      "metadata": {
        "pycharm": {
          "name": "#%% md\n"
        },
        "id": "lOBzYm5Yl3GV"
      },
      "source": [
        "<!-- END QUESTION -->\n",
        "\n",
        "<!-- BEGIN QUESTION -->\n",
        "\n",
        "__Question:__ What observation can you make from the plots? _(2 points)_"
      ]
    },
    {
      "cell_type": "markdown",
      "metadata": {
        "pycharm": {
          "name": "#%% md\n"
        },
        "id": "4m3ctuMZl3GV"
      },
      "source": [
        "__Answer:__"
      ]
    },
    {
      "cell_type": "markdown",
      "metadata": {
        "id": "FHw3RXbPl3GW"
      },
      "source": [
        "_Type your answer here, replacing this text._"
      ]
    },
    {
      "cell_type": "markdown",
      "metadata": {
        "id": "GtFid2zSLIaU",
        "pycharm": {
          "name": "#%% md\n"
        }
      },
      "source": [
        "<!-- END QUESTION -->\n",
        "\n",
        "### Implementing an n-gram language model\n",
        "\n",
        "Next, you will implement a class for an trigram (n=3) language model. This will be a barebones trigram LM, i.e., no smoothing or OOV handling is required. Complete\n",
        "the functions in the following `NgramLM` class. _(20 points)_\n",
        "\n",
        "Note that the class itself is\n",
        "for a general n-gram LM, but we will instantiate it with n=3."
      ]
    },
    {
      "cell_type": "markdown",
      "metadata": {
        "id": "v8sHS1fYl3GW"
      },
      "source": [
        "_Type your answer here, replacing this text._"
      ]
    },
    {
      "cell_type": "code",
      "execution_count": null,
      "metadata": {
        "id": "TEDwFtlFMNhP",
        "pycharm": {
          "name": "#%%\n"
        },
        "tags": []
      },
      "outputs": [],
      "source": [
        "class NgramLM(object):\n",
        "    \"\"\"A basic n-gram language model without any smoothing.\"\"\"\n",
        "\n",
        "    def __init__(self, n: int):\n",
        "        assert (isinstance(n, int) and n > 0)\n",
        "\n",
        "        self.n: int = n\n",
        "        self.vocab: Set[str] = set()  # A set of all words appearing in the corpus.\n",
        "        self.ngrams = Counter()  # count(ABC) - Dict[Tuple, int]\n",
        "        self.ngram_contexts = Counter()  # count(AB) - Dict[Tuple, int]\n",
        "        self.contexts = defaultdict(set)  # {AB: {C1,C2,C2}} - Dict[Tuple, Set[str]]\n",
        "\n",
        "    def generate_ngrams(self, text: List[str]) -> Counter:\n",
        "        \"\"\"Generates all n-grams (i.e. n-1 context words) for the given text.\n",
        "        In this method, we assume n is defined at the class initialization,\n",
        "        so you should use `self.n`.\n",
        "\n",
        "        Parameters\n",
        "        ----------\n",
        "        text : List[str]\n",
        "            Input text (list of strings) after tokenization.\n",
        "\n",
        "        Returns\n",
        "        -------\n",
        "        ngrams : Counter\n",
        "            Output n-grams dictionary as {ngram: count} (Dict[Tuple, int]),\n",
        "            where `ngram` is a n-gram tuple and `count` is an integer count.\n",
        "            e.g. ('Mary','has') and value as count of the n-gram in the text.\n",
        "        \"\"\"\n",
        "        return generate_ngrams(text, self.n)\n",
        "\n",
        "    def generate_ngrams_sentences(self, text: List[List[str]]) -> Counter:\n",
        "        \"\"\"Generates n-grams for each sentence and aggregates them.\"\"\"\n",
        "        return generate_ngrams_sentences(text, self.n)\n",
        "\n",
        "    def update(self, text: List[str]):\n",
        "        \"\"\"Updates the model n-grams based on the given text input.\n",
        "\n",
        "        Parameters\n",
        "        ----------\n",
        "        text : List[str]\n",
        "        \"\"\"\n",
        "        # TODO: Your code here\n",
        "        ...\n",
        "\n",
        "    def word_prob(self, context: Tuple[str], word: str) -> float:\n",
        "        \"\"\"Returns the probability of a word given a context. The context is a\n",
        "        string of words, with length n-1.\n",
        "\n",
        "        Parameters\n",
        "        ----------\n",
        "        context : Tuple[str]\n",
        "            A tuple of words describing the context for the next word.\n",
        "        word : str\n",
        "            The next word that the probability is computed for.\n",
        "\n",
        "        Returns\n",
        "        -------\n",
        "        prob : float\n",
        "            The estimated probability of the next word given the context.\n",
        "        \"\"\"\n",
        "        # TODO: Your code here\n",
        "        ...\n",
        "\n",
        "    def next_word_candidates(self, context: Tuple[str]) -> List[str]:\n",
        "        \"\"\"Generates a list of tokens based on the given context, which would be\n",
        "        later used as candidates for the next word prediction.\n",
        "\n",
        "        Parameters\n",
        "        ----------\n",
        "        context : Tuple[str]\n",
        "            A tuple of words describing the context for the next word.\n",
        "\n",
        "        Returns\n",
        "        -------\n",
        "        words : List[str]\n",
        "            A list of candidate tokens for the next word.\n",
        "        \"\"\"\n",
        "        # TODO: Your code here\n",
        "        ...\n",
        "\n",
        "    def random_word(self, context: Tuple[str]) -> str:\n",
        "        \"\"\"Generates a random word based on the given context.\n",
        "\n",
        "        Note:\n",
        "        Please use a random function from `random` instead of `numpy`;\n",
        "        otherwise, the autograder might not be happy.\n",
        "\n",
        "        Parameters\n",
        "        ----------\n",
        "        context : Tuple[str]\n",
        "            A tuple of words describing the context for the next word.\n",
        "\n",
        "        Returns\n",
        "        -------\n",
        "        word : str\n",
        "            One randomly drawn word from the distribution defined given the context.\n",
        "        \"\"\"\n",
        "        assert context in self.contexts, f'Encountered unseen context={context}.'\n",
        "\n",
        "        # TODO: Your code here\n",
        "        ...\n",
        "\n",
        "    def random_text(self, length: int) -> List[str]:\n",
        "        \"\"\"Generates random text of the specified word length excluding \"~\" (BOS).\n",
        "\n",
        "        Note:\n",
        "        - The final word of the generated text *can* be \"~\" (EOS), but it is not necessary.\n",
        "        - The generation should always start with \"~\" (BOS).\n",
        "        - Only the number of starting \"~\" (BOS) is excluded from the generation, any\n",
        "        ending \"~\" (EOS) is still counted to the `length`. It means that you should\n",
        "        draw a number of `length` samples.\n",
        "\n",
        "        Note:\n",
        "        Please use a random function from `random` instead of `numpy`;\n",
        "        otherwise, the autograder might not be happy.\n",
        "\n",
        "        Parameters\n",
        "        ----------\n",
        "        length : int\n",
        "            The designated length to generate.\n",
        "\n",
        "        \"\"\"\n",
        "        # TODO: Your code here\n",
        "        ..."
      ]
    },
    {
      "cell_type": "code",
      "execution_count": null,
      "metadata": {
        "cellView": "code",
        "id": "8krtKhK7XLbM",
        "pycharm": {
          "name": "#%%\n"
        },
        "tags": []
      },
      "outputs": [],
      "source": [
        "# Training block for a trigram language model\n",
        "trigramlm = NgramLM(3)\n",
        "for sentence in corpus:\n",
        "    trigramlm.update(sentence)"
      ]
    },
    {
      "cell_type": "code",
      "execution_count": null,
      "metadata": {
        "deletable": false,
        "editable": false,
        "id": "Cs_N0phol3GW"
      },
      "outputs": [],
      "source": [
        "grader.check(\"ngramlm-impl\")"
      ]
    },
    {
      "cell_type": "markdown",
      "metadata": {
        "pycharm": {
          "name": "#%% md\n"
        },
        "id": "6tjcHSLol3GX"
      },
      "source": [
        "__Question:__ What is the size of the training data (number of tokens)? _(1 point)_"
      ]
    },
    {
      "cell_type": "code",
      "execution_count": null,
      "metadata": {
        "pycharm": {
          "name": "#%%\n"
        },
        "tags": [],
        "id": "vNh0lq9Jl3GX"
      },
      "outputs": [],
      "source": [
        "training_corpus_size = ...\n",
        "training_corpus_size"
      ]
    },
    {
      "cell_type": "markdown",
      "metadata": {
        "pycharm": {
          "name": "#%% md\n"
        },
        "id": "iTHJnKx_l3GX"
      },
      "source": [
        "__Question:__ What is the size of the vocabulary? _(1 point)_"
      ]
    },
    {
      "cell_type": "code",
      "execution_count": null,
      "metadata": {
        "pycharm": {
          "name": "#%%\n"
        },
        "tags": [],
        "id": "TFblKI62l3GX"
      },
      "outputs": [],
      "source": [
        "trigramlm_vocab_size = ...\n",
        "trigramlm_vocab_size"
      ]
    },
    {
      "cell_type": "markdown",
      "metadata": {
        "pycharm": {
          "name": "#%% md\n"
        },
        "id": "shhXhONFl3GX"
      },
      "source": [
        "<!-- BEGIN QUESTION -->\n",
        "\n",
        "__Question:__ What is the optimal time complexity of computing ngrams? How long does the training take? _(2 points)_\n",
        "\n",
        "*Note*: please use big-O notation to show the time complexity and explain variables involved accordingly."
      ]
    },
    {
      "cell_type": "markdown",
      "metadata": {
        "pycharm": {
          "name": "#%% md\n"
        },
        "id": "6vVw8VHJl3GX"
      },
      "source": [
        "__Answer:__"
      ]
    },
    {
      "cell_type": "markdown",
      "metadata": {
        "id": "yL12R_YBl3GX"
      },
      "source": [
        "_Type your answer here, replacing this text._"
      ]
    },
    {
      "cell_type": "code",
      "execution_count": null,
      "metadata": {
        "pycharm": {
          "name": "#%%\n"
        },
        "tags": [],
        "id": "bgVeiqNMl3GX"
      },
      "outputs": [],
      "source": [
        "# TODO: put the training time (in ms) of a trigram LM below.\n",
        "trigram_training_time = ...\n",
        "trigram_training_time"
      ]
    },
    {
      "cell_type": "markdown",
      "metadata": {
        "pycharm": {
          "name": "#%% md\n"
        },
        "id": "5RC2nZbUl3GX"
      },
      "source": [
        "<!-- END QUESTION -->\n",
        "\n",
        "<!-- BEGIN QUESTION -->\n",
        "\n",
        "__Question:__ How would the training time scale if you have a corpus containing 1 billion tokens? Is this training time reasonable? If not, can you think of ways to improve it? _(2 points)_"
      ]
    },
    {
      "cell_type": "markdown",
      "metadata": {
        "id": "Dlxn8YSdasgO",
        "pycharm": {
          "name": "#%% md\n"
        }
      },
      "source": [
        "__Answer:__"
      ]
    },
    {
      "cell_type": "markdown",
      "metadata": {
        "id": "kQ3k6C5pl3GX"
      },
      "source": [
        "_Type your answer here, replacing this text._"
      ]
    },
    {
      "cell_type": "markdown",
      "metadata": {
        "id": "RxTPrtaKbzf5",
        "pycharm": {
          "name": "#%% md\n"
        }
      },
      "source": [
        "<!-- END QUESTION -->\n",
        "\n",
        "#### Predicting/generating text using the trained LM\n",
        "\n",
        "One of the applications of an LM is to automatically predict the next word given a context (such as in Smart Keyboards), or to generate a piece of text of a given length. Use the `random_word` and `random_text` functions you implemented earlier to answer the questions below. For full credit, you need to show how you arrived at the answer."
      ]
    },
    {
      "cell_type": "markdown",
      "metadata": {
        "id": "dgQQ-KgTeGFm",
        "pycharm": {
          "name": "#%% md\n"
        }
      },
      "source": [
        "__Question:__ Please implement the function that computes an empirical distribution for the next word prediction conditioning on a context. Consider the context \"by her\". You can generate a random word for a large number of times, say 1000, using this context and count how many times each word are generated to calculate its empirical probability accordingly. _(3 points)_"
      ]
    },
    {
      "cell_type": "code",
      "execution_count": null,
      "metadata": {
        "pycharm": {
          "name": "#%%\n"
        },
        "tags": [],
        "id": "Hrr8pjJCl3GX"
      },
      "outputs": [],
      "source": [
        "def compute_empirical_distribution(model: NgramLM, context: Tuple[str], num_samples: int) -> Dict[str, float]:\n",
        "    \"\"\"Computes an empirical distribution for the next word conditioning on the given context.\n",
        "\n",
        "    Parameters\n",
        "    ----------\n",
        "    model : NgramLM\n",
        "        A trained Ngram Language Model.\n",
        "    context : Tuple[str]\n",
        "        The context used to predict a next word.\n",
        "    num_samples : int\n",
        "        The number of samples to be drawn to compute the empirical distribution.\n",
        "\n",
        "    Returns\n",
        "    -------\n",
        "    emp_distr : Dict[str, float]\n",
        "        An empirical distribution for the next word\n",
        "\n",
        "    \"\"\"\n",
        "    emp_distr: Dict[str, float] = {}\n",
        "\n",
        "    # TODO: Your code here\n",
        "    ...\n",
        "\n",
        "    return emp_distr"
      ]
    },
    {
      "cell_type": "code",
      "execution_count": null,
      "metadata": {
        "pycharm": {
          "name": "#%%\n"
        },
        "scrolled": true,
        "tags": [],
        "id": "5tLy5kSjl3GX"
      },
      "outputs": [],
      "source": [
        "compute_empirical_distribution(trigramlm, ('by', 'her'), 1000)"
      ]
    },
    {
      "cell_type": "code",
      "execution_count": null,
      "metadata": {
        "deletable": false,
        "editable": false,
        "id": "12AAUdZpl3GX"
      },
      "outputs": [],
      "source": [
        "grader.check(\"ngramlm-empirical-distribution\")"
      ]
    },
    {
      "cell_type": "markdown",
      "metadata": {
        "pycharm": {
          "name": "#%% md\n"
        },
        "id": "9wOIHp1-l3GY"
      },
      "source": [
        "<!-- BEGIN QUESTION -->\n",
        "\n",
        "__Question:__ Does the empirical probability match the output of `word_prob((\"by\", \"her\"), \"husband\")`? Could you explain why it matches or not? Could you propose a way to measure how the empirical distribution differs from the theoretical distribution? _(3 points)_"
      ]
    },
    {
      "cell_type": "markdown",
      "metadata": {
        "pycharm": {
          "name": "#%% md\n"
        },
        "id": "gej9Q0Ldl3GY"
      },
      "source": [
        "__Answer:__"
      ]
    },
    {
      "cell_type": "markdown",
      "metadata": {
        "id": "QjCgqKj4l3GY"
      },
      "source": [
        "_Type your answer here, replacing this text._"
      ]
    },
    {
      "cell_type": "markdown",
      "metadata": {
        "id": "iy7Rtc7L6psV",
        "pycharm": {
          "name": "#%% md\n"
        }
      },
      "source": [
        "<!-- END QUESTION -->\n",
        "\n",
        "<!-- BEGIN QUESTION -->\n",
        "\n",
        "__Question:__ Generate a random text of length 100 words. Comment on the local and global semantics of the generated text. _(2 points)_"
      ]
    },
    {
      "cell_type": "markdown",
      "metadata": {
        "pycharm": {
          "name": "#%% md\n"
        },
        "id": "kskAoByZl3GY"
      },
      "source": [
        "__Answer:__"
      ]
    },
    {
      "cell_type": "markdown",
      "metadata": {
        "id": "LtyaXjtrl3GY"
      },
      "source": [
        "_Type your answer here, replacing this text._"
      ]
    },
    {
      "cell_type": "code",
      "execution_count": null,
      "metadata": {
        "pycharm": {
          "name": "#%%\n"
        },
        "tags": [],
        "id": "gcSrXyhwl3GY"
      },
      "outputs": [],
      "source": [
        "# TODO: Your code here\n",
        "...\n",
        "print(generated_text)  # Please make sure this prints out a `str` instead of a `list`."
      ]
    },
    {
      "cell_type": "markdown",
      "metadata": {
        "pycharm": {
          "name": "#%% md\n"
        },
        "id": "wjqzn5COl3GY"
      },
      "source": [
        "<!-- END QUESTION -->\n",
        "\n",
        "<!-- BEGIN QUESTION -->\n",
        "\n",
        "__Question:__ Now train a 4-gram LM on the same data and generate a 100-word text again. Do you observe any differences between the outputs of the two models? _(2 points)_"
      ]
    },
    {
      "cell_type": "markdown",
      "metadata": {
        "pycharm": {
          "name": "#%% md\n"
        },
        "id": "iepuif9Al3GY"
      },
      "source": [
        "__Answer:__"
      ]
    },
    {
      "cell_type": "markdown",
      "metadata": {
        "id": "rs0ukwNMl3Ga"
      },
      "source": [
        "_Type your answer here, replacing this text._"
      ]
    },
    {
      "cell_type": "code",
      "execution_count": null,
      "metadata": {
        "pycharm": {
          "name": "#%%\n"
        },
        "scrolled": true,
        "tags": [],
        "id": "QFMvVRO4l3Ga"
      },
      "outputs": [],
      "source": [
        "# You should train you 4-gram model here in the same way as training a trigram model\n",
        "# You should use the same `corpus` for training\n",
        "qgramlm = ...\n",
        "qgramlm"
      ]
    },
    {
      "cell_type": "code",
      "execution_count": null,
      "metadata": {
        "pycharm": {
          "name": "#%%\n"
        },
        "tags": [],
        "id": "4EKOoAijl3Ga"
      },
      "outputs": [],
      "source": [
        "# TODO: Your code here\n",
        "...\n",
        "print(qgram_generated_text)  # Please make sure this prints out a `str` instead of a `list`."
      ]
    },
    {
      "cell_type": "markdown",
      "metadata": {
        "id": "dxh0pOSn9N1O",
        "pycharm": {
          "name": "#%% md\n"
        }
      },
      "source": [
        "<!-- END QUESTION -->\n",
        "\n",
        "### Evaluating the LM: Perplexity\n",
        "\n",
        "In the context of language modeling, perplexity measures how an LM predicts a sample. It is computed as the per word inverse probability of a held-out set:\n",
        "\n",
        "$$ Perplexity(W) = P(W_1 W_2 \\ldots W_N)^{-1/N} $$\n",
        "\n",
        "Complete the following function which computes the perplexity of an ngram language model given the class object and a dataset (represented as a list of strings as done earlier). _(8 points)_\n",
        "\n",
        "__Note 1:__ You may assume that the text is normalized as done before, so no text processing is required in the function.\n",
        "\n",
        "__Note 2:__ Consider performing computations in the log domain to avoid underflow errors. Recall the log equalities:\n",
        "\n",
        "$$ P = 2^{\\log_2 P} $$\n",
        "$$ \\log (a_1 a_2 \\ldots a_N)^{1/N} = \\frac{1}{N}\\left( \\log a_1 + \\log a_2 + \\ldots + \\log a_N \\right) $$"
      ]
    },
    {
      "cell_type": "code",
      "execution_count": null,
      "metadata": {
        "id": "yg5Ezw1PK4fo",
        "pycharm": {
          "name": "#%%\n"
        },
        "tags": []
      },
      "outputs": [],
      "source": [
        "def perplexity(model: NgramLM, data: List[List[str]]) -> float:\n",
        "    \"\"\"Function to compute perplexity of ngram LM.\n",
        "\n",
        "    Parameters\n",
        "    ----------\n",
        "    model : NgramLM\n",
        "        A class object denoted a trained `NgramLM`.\n",
        "    text : List[List[str]]\n",
        "        A list of sentences, where each sentence is a list of tokens.\n",
        "\n",
        "    Returns\n",
        "    -------\n",
        "    perp : float\n",
        "        Perplexity of the LM on given string.\n",
        "    \"\"\"\n",
        "    # TODO: Your code here\n",
        "    ..."
      ]
    },
    {
      "cell_type": "code",
      "execution_count": null,
      "metadata": {
        "deletable": false,
        "editable": false,
        "id": "__lPVrGXl3Ga"
      },
      "outputs": [],
      "source": [
        "grader.check(\"ngramlm-perp-impl\")"
      ]
    },
    {
      "cell_type": "markdown",
      "metadata": {
        "id": "drgo2ZhMgvTA",
        "pycharm": {
          "name": "#%% md\n"
        }
      },
      "source": [
        "__Question:__ What is the perplexity of the model on the training corpus? _(1 point)_"
      ]
    },
    {
      "cell_type": "code",
      "execution_count": null,
      "metadata": {
        "id": "eWiy10LSNhl2",
        "pycharm": {
          "name": "#%%\n"
        },
        "tags": []
      },
      "outputs": [],
      "source": [
        "# TODO: Your code here\n",
        "trigram_perp_on_training = ...\n",
        "trigram_perp_on_training"
      ]
    },
    {
      "cell_type": "code",
      "execution_count": null,
      "metadata": {
        "deletable": false,
        "editable": false,
        "id": "Nnqd4GPDl3Ga"
      },
      "outputs": [],
      "source": [
        "grader.check(\"ngramlm-tri-perp-on-training\")"
      ]
    },
    {
      "cell_type": "markdown",
      "metadata": {
        "id": "x6kIPjp58mDa",
        "pycharm": {
          "name": "#%% md\n"
        }
      },
      "source": [
        "__Question:__ What is the perplexity of the 4-gram LM you trained earlier on the training corpus? _(1 point)_"
      ]
    },
    {
      "cell_type": "code",
      "execution_count": null,
      "metadata": {
        "pycharm": {
          "name": "#%%\n"
        },
        "tags": [],
        "id": "99eNyxeZl3Gb"
      },
      "outputs": [],
      "source": [
        "# TODO: Your code here\n",
        "qgram_perp_on_training = ...\n",
        "qgram_perp_on_training"
      ]
    },
    {
      "cell_type": "code",
      "execution_count": null,
      "metadata": {
        "deletable": false,
        "editable": false,
        "id": "TWaHcLUil3Gb"
      },
      "outputs": [],
      "source": [
        "grader.check(\"ngramlm-quad-perp-on-training\")"
      ]
    },
    {
      "cell_type": "markdown",
      "metadata": {
        "id": "giDoTrs9ORpD",
        "pycharm": {
          "name": "#%% md\n"
        }
      },
      "source": [
        "You will now use your above implementation to evaluate your model on a small held out development set from Leo Tolstoy's Anna Karenina. First we download and preprocess this data similar to how we did for the training set."
      ]
    },
    {
      "cell_type": "code",
      "execution_count": null,
      "metadata": {
        "id": "wwmOEmrt5sMW",
        "pycharm": {
          "name": "#%%\n"
        }
      },
      "outputs": [],
      "source": [
        "# Process the text file to get the contents of Chapter 1\n",
        "try:\n",
        "    with open('1399-0.txt', 'r') as file:\n",
        "        dev_raw = file.read().replace('\\n', ' ')\n",
        "except FileNotFoundError:\n",
        "    with open('../../1399-0.txt', 'r') as file:\n",
        "        dev_raw = file.read().replace('\\n', ' ')"
      ]
    },
    {
      "cell_type": "code",
      "execution_count": null,
      "metadata": {
        "id": "zWqwXVzo6UJj",
        "pycharm": {
          "name": "#%%\n"
        },
        "scrolled": true
      },
      "outputs": [],
      "source": [
        "pattern = \"Chapter 1(.*)Chapter 2\"\n",
        "dev_ch1 = re.search(pattern, dev_raw).group(1)\n",
        "\n",
        "sentences = sent_tokenize(dev_ch1)\n",
        "\n",
        "dev_text = []\n",
        "tokenizer = RegexpTokenizer(r'\\w+')\n",
        "for sentence in sentences:\n",
        "    tokens = tokenizer.tokenize(sentence)\n",
        "    dev_text.append([token.lower() for token in tokens])\n",
        "\n",
        "print(\"Dev data has {} sentences\".format(len(dev_text)))"
      ]
    },
    {
      "cell_type": "markdown",
      "metadata": {
        "id": "Mi8ach2U7Tx3",
        "pycharm": {
          "name": "#%% md\n"
        }
      },
      "source": [
        "__Question:__ Compute the perplexity of the 3-gram LM on the development set prepared above. _(1 points)_"
      ]
    },
    {
      "cell_type": "code",
      "execution_count": null,
      "metadata": {
        "id": "T-qiPw6p7PcG",
        "pycharm": {
          "name": "#%%\n"
        },
        "tags": []
      },
      "outputs": [],
      "source": [
        "# TODO: Your code here\n",
        "trigram_perp_on_dev = ...\n",
        "trigram_perp_on_dev"
      ]
    },
    {
      "cell_type": "code",
      "execution_count": null,
      "metadata": {
        "deletable": false,
        "editable": false,
        "id": "FeWlDzdYl3Gb"
      },
      "outputs": [],
      "source": [
        "grader.check(\"ngramlm-tri-perp-on-dev\")"
      ]
    },
    {
      "cell_type": "markdown",
      "metadata": {
        "pycharm": {
          "name": "#%% md\n"
        },
        "id": "WDho_CV2l3Gb"
      },
      "source": [
        "<!-- BEGIN QUESTION -->\n",
        "\n",
        "__Question:__ What is the reason for this perplexity value? _(2 points)_"
      ]
    },
    {
      "cell_type": "markdown",
      "metadata": {
        "pycharm": {
          "name": "#%% md\n"
        },
        "id": "M681Cczrl3Gb"
      },
      "source": [
        "__Answer:__"
      ]
    },
    {
      "cell_type": "markdown",
      "metadata": {
        "id": "hApl4YF1l3Gb"
      },
      "source": [
        "_Type your answer here, replacing this text._"
      ]
    },
    {
      "cell_type": "markdown",
      "metadata": {
        "id": "PJRKm-HE8B7Q",
        "pycharm": {
          "name": "#%% md\n"
        }
      },
      "source": [
        "<!-- END QUESTION -->\n",
        "\n",
        "### Zeros and generalization\n",
        "\n",
        "From the above, you would have realized that our trigram LM in the barebones setting is probably not robust enough to be deployed in general settings, due to the data sparsity problem. This problem is dealt with by using \"smoothing\" methods for unseen n-grams and the `<UNK>` token for OOV words.\n",
        "\n",
        "In this section, you will implement Laplace (add-one) smoothing and use the `<UNK>` token for handling OOV words in the evaluation set. Complete the following class definition to achieve this. _(15 points)_"
      ]
    },
    {
      "cell_type": "code",
      "execution_count": null,
      "metadata": {
        "id": "v6a4wXKvTf6E",
        "pycharm": {
          "name": "#%%\n"
        },
        "tags": []
      },
      "outputs": [],
      "source": [
        "class NgramLMWithLaplaceSmoothing(NgramLM):\n",
        "    \"\"\"An n-gram language model with OOV handling and Laplace smoothing.\n",
        "    This class inherits all bahaviors from previous defined `NgramLM`.\n",
        "    Please be careful with the implementations here as you have to be consistent\n",
        "    with all interfaces.\n",
        "    \"\"\"\n",
        "\n",
        "    def __init__(self, n: int):\n",
        "        super(NgramLMWithLaplaceSmoothing, self).__init__(n=n)\n",
        "\n",
        "    def next_word_candidates(self, context: Tuple[str]) -> List[str]:\n",
        "        \"\"\"Generates a list of tokens based on the given context, which would be\n",
        "        later used as candidates for the next word prediction.\n",
        "\n",
        "        Note: in this overriden version, you should deal with the OOV words.\n",
        "\n",
        "        Parameters\n",
        "        ----------\n",
        "        context : Tuple[str]\n",
        "            A tuple of words describing the context for the next word.\n",
        "\n",
        "        Returns\n",
        "        -------\n",
        "        words : List[str]\n",
        "            A list of candidate tokens for the next word.\n",
        "        \"\"\"\n",
        "        # TODO: Your code here\n",
        "        ...\n",
        "\n",
        "    def word_prob(self, context: Tuple[str], word: str) -> float:\n",
        "        \"\"\"Returns the probability of a word given a context. The context is a\n",
        "        string of words, with length n-1.\n",
        "\n",
        "        Note: in this overriden version, you should deal with the OOV words.\n",
        "\n",
        "        Parameters\n",
        "        ----------\n",
        "        context : Tuple[str]\n",
        "            A tuple of words describing the context for the next word.\n",
        "        word : str\n",
        "            The next word that the probability is computed for.\n",
        "\n",
        "        Returns\n",
        "        -------\n",
        "        prob : float\n",
        "            The estimated probability of the next word given the context.\n",
        "        \"\"\"\n",
        "        # TODO: Your code here\n",
        "        ..."
      ]
    },
    {
      "cell_type": "code",
      "execution_count": null,
      "metadata": {
        "pycharm": {
          "name": "#%%\n"
        },
        "tags": [],
        "id": "TXX1--Dxl3Gb"
      },
      "outputs": [],
      "source": [
        "# Training block for a trigram language model with Laplace smoothing\n",
        "trigramlm_laplace = NgramLMWithLaplaceSmoothing(3)\n",
        "for sentence in corpus:\n",
        "    trigramlm_laplace.update(sentence)"
      ]
    },
    {
      "cell_type": "markdown",
      "metadata": {
        "id": "rE7UsXK5UL-_",
        "pycharm": {
          "name": "#%% md\n"
        }
      },
      "source": [
        "__Question:__ Report the perplexity of the new LM on the development data. (3 points)"
      ]
    },
    {
      "cell_type": "code",
      "execution_count": null,
      "metadata": {
        "pycharm": {
          "name": "#%%\n"
        },
        "tags": [],
        "id": "bVQdsbGRl3Gb"
      },
      "outputs": [],
      "source": [
        "# TODO: Your code here\n",
        "trigram_laplace_perp_on_training = ...\n",
        "trigram_laplace_perp_on_training"
      ]
    },
    {
      "cell_type": "markdown",
      "metadata": {
        "pycharm": {
          "name": "#%% md\n"
        },
        "id": "lJd1baM1l3Gc"
      },
      "source": [
        "<!-- BEGIN QUESTION -->\n",
        "\n",
        "__Question:__ Can you think of a different way to solve the OOV problem? _(2 points)_"
      ]
    },
    {
      "cell_type": "markdown",
      "metadata": {
        "pycharm": {
          "name": "#%% md\n"
        },
        "id": "h2lLlbjDl3Gc"
      },
      "source": [
        "__Answer:__"
      ]
    },
    {
      "cell_type": "markdown",
      "metadata": {
        "id": "88-jmIt-l3Gc"
      },
      "source": [
        "_Type your answer here, replacing this text._"
      ]
    },
    {
      "cell_type": "markdown",
      "metadata": {
        "id": "14Kjgo2NSc1A",
        "pycharm": {
          "name": "#%% md\n"
        }
      },
      "source": [
        "<!-- END QUESTION -->\n",
        "\n",
        "__Question (extra credit):__ Laplace smoothing is a relatively naive smoothing method. In the lectures, you learnt about more advanced methods: Good-Turing, Backoff, Interpolation, Kneser-Ney. Implement any one of these smoothing methods (pick your favorite). Evaluate the resulting trigram LM on the development data and report the perplexity. Could you get some improvements (an improvement from the baseline would secure you to get an extra credit of 10 points)? _(10 points)_\n",
        "\n",
        "__Leaderboard:__ It would be interesting to explore different techniques or combinations of techniques to improve trigram language models. For this extra credit question, we also introduce a leaderboard for people to compete their designs of language models. To encourage participantion, the top 15% and 30% would be given another 10 points and 5 points extra credit respectively. Have fun :-)"
      ]
    },
    {
      "cell_type": "code",
      "execution_count": null,
      "metadata": {
        "id": "HapmEPF4cDUa",
        "pycharm": {
          "name": "#%%\n"
        },
        "tags": []
      },
      "outputs": [],
      "source": [
        "class ImprovedNgramLM(NgramLM):\n",
        "    \"\"\"An improved version of n-gram language model with OOV handling.\n",
        "    This class inherits all bahaviors from previous defined `NgramLM`.\n",
        "    Please be careful with the implementations here as you have to be consistent\n",
        "    with all interfaces.\n",
        "\n",
        "    Note: you could override more methods provided by the base class, but you have\n",
        "    to maintain their ability of handling the same types of inputs and outputs.\n",
        "    \"\"\"\n",
        "\n",
        "    def __init__(self, n: int):\n",
        "        super(ImprovedNgramLM, self).__init__(n=n)\n",
        "\n",
        "        # TODO: Your code here, if you would like to change the behavior of init.\n",
        "\n",
        "    def next_word_candidates(self, context: Tuple[str]) -> List[str]:\n",
        "        \"\"\"Generates a list of tokens based on the given context, which would be\n",
        "        later used as candidates for the next word prediction.\n",
        "\n",
        "        Note: in this overriden version, you should deal with the OOV words.\n",
        "\n",
        "        Parameters\n",
        "        ----------\n",
        "        context : Tuple[str]\n",
        "            A tuple of words describing the context for the next word.\n",
        "\n",
        "        Returns\n",
        "        -------\n",
        "        words : List[str]\n",
        "            A list of candidate tokens for the next word.\n",
        "        \"\"\"\n",
        "        # TODO: Your code here\n",
        "        ...\n",
        "\n",
        "    def word_prob(self, context: Tuple[str], word: str) -> float:\n",
        "        \"\"\"Returns the probability of a word given a context. The context is a\n",
        "        string of words, with length n-1.\n",
        "\n",
        "        Note: in this overriden version, you should deal with the OOV words.\n",
        "\n",
        "        Parameters\n",
        "        ----------\n",
        "        context : Tuple[str]\n",
        "            A tuple of words describing the context for the next word.\n",
        "        word : str\n",
        "            The next word that the probability is computed for.\n",
        "\n",
        "        Returns\n",
        "        -------\n",
        "        prob : float\n",
        "            The estimated probability of the next word given the context.\n",
        "        \"\"\"\n",
        "        # TODO: Your code here\n",
        "        ..."
      ]
    },
    {
      "cell_type": "code",
      "execution_count": null,
      "metadata": {
        "pycharm": {
          "name": "#%%\n"
        },
        "tags": [],
        "id": "neDXt1Zwl3Gc"
      },
      "outputs": [],
      "source": [
        "# Training block for a trigram language model\n",
        "improved_trigramlm = ImprovedNgramLM(3)\n",
        "for sentence in corpus:\n",
        "    improved_trigramlm.update(sentence)"
      ]
    },
    {
      "cell_type": "code",
      "execution_count": null,
      "metadata": {
        "deletable": false,
        "editable": false,
        "id": "gYmH4KZ3l3Gc"
      },
      "outputs": [],
      "source": [
        "grader.check(\"ngramlm-improvement-impl\")"
      ]
    },
    {
      "cell_type": "markdown",
      "metadata": {
        "id": "gwOF-lAWVE94",
        "pycharm": {
          "name": "#%% md\n"
        }
      },
      "source": [
        "## Part 2: Parsing and the CYK algorithm\n",
        "\n",
        "In the lecture on Syntax, you learnt about parsing algorithms, including the bottom-up CYK algorithm. In this section, you will implement the CYK algorithm for computing the parse tree of a sentence given a grammar.\n",
        "\n",
        "You may look at the pseudocode on [Wikipedia](https://en.wikipedia.org/wiki/CYK_algorithm#As_pseudocode) or refer to descriptions of the CYK algorithm online (such as [this](https://courses.engr.illinois.edu/cs373/sp2009/lectures/lect_15.pdf)), but you may not copy code directly from another source. The objective of this exercise is to familiarize yourself with parsing.\n",
        "\n",
        "First, we will provide some starter code to load a simple grammar which can be used to test your implementation. The CYK algorithm only works with context-free grammars (CFGs) in the [Chomsky Normal Form (CNF)](https://en.wikipedia.org/wiki/Chomsky_normal_form), but any CFG can be represented as an equivalent CNF. You can use NLTK to check if the grammar is in CNF."
      ]
    },
    {
      "cell_type": "code",
      "execution_count": null,
      "metadata": {
        "id": "44xCk4nMYVWL",
        "pycharm": {
          "name": "#%%\n"
        }
      },
      "outputs": [],
      "source": [
        "# grammar rules\n",
        "\n",
        "cfg_rules = \"\"\"\n",
        "S -> NP VP\n",
        "PP -> P NP\n",
        "NP -> Det N\n",
        "NP -> Det N PP\n",
        "NP -> 'I'\n",
        "VP -> V NP\n",
        "VP -> VP PP\n",
        "Det -> 'an'\n",
        "Det -> 'my'\n",
        "N -> 'elephant'\n",
        "N -> 'pajamas'\n",
        "V -> 'shot'\n",
        "P -> 'in'\n",
        "\"\"\""
      ]
    },
    {
      "cell_type": "markdown",
      "metadata": {
        "id": "npLfx9CveUeI",
        "pycharm": {
          "name": "#%% md\n"
        }
      },
      "source": [
        "__Question:__ Use NLTK to check if the grammar `cfg` is in the Chomsky Normal Form. _(1 point)_"
      ]
    },
    {
      "cell_type": "code",
      "execution_count": null,
      "metadata": {
        "id": "SVY6CyYhc1zn",
        "pycharm": {
          "name": "#%%\n"
        },
        "tags": []
      },
      "outputs": [],
      "source": [
        "# TODO: Your code here\n",
        "# Note:\n",
        "# `is_cfg_cnf` should be the function name without executing it (by removing `()`).\n",
        "# Executing this cell should give you a boolean result indicating whether the given CFG\n",
        "# is in the Chomsky Normal Form.\n",
        "is_cfg_cnf = ...\n",
        "is_cfg_cnf()"
      ]
    },
    {
      "cell_type": "markdown",
      "metadata": {
        "id": "uatLXceVepso",
        "pycharm": {
          "name": "#%% md\n"
        }
      },
      "source": [
        "__Question:__ Convert the above CFG into CNF (use pen and paper) and create a new grammar using it. Use NLTK to verify if it is in CNF. _(4 points)_\n",
        "\n",
        "Here are the steps to convert any CFG into a CNF:\n",
        "\n",
        "1. Eliminate start symbol from the RHS. If the start symbol S is at the right-hand side of any production, create a new production as: S1 -> S\n",
        "2. If CFG contains null, unit or useless production rules, eliminate them.\n",
        "3. Eliminate terminals from RHS if they exist with other terminals or non-terminals.\n",
        "4. Eliminate RHS with more than two non-terminals.\n",
        "\n",
        "(Hint: There is only one offending rule in the above grammar.)"
      ]
    },
    {
      "cell_type": "code",
      "execution_count": null,
      "metadata": {
        "id": "qgnhok80g5io",
        "pycharm": {
          "name": "#%%\n"
        },
        "tags": []
      },
      "outputs": [],
      "source": [
        "# Write the CNF grammar here as a string\n",
        "\n",
        "# TODO: Your code here\n",
        "cnf_cfg_rules = ...\n",
        "cnf_cfg_rules"
      ]
    },
    {
      "cell_type": "markdown",
      "metadata": {
        "id": "hkL26o73dKJq",
        "pycharm": {
          "name": "#%% md\n"
        }
      },
      "source": [
        "You can now use the above grammar and the sentence: _\"I shot an elephant in my pajamas\"_ to demonstrate your implementation of the CYK parser.\n",
        "\n",
        "Complete the following code block to implement the parser. We have provided the definition of the Node class which stores a non-terminal, and some boilerplate code to ease you into the implementation. Your main task is to implement the `parse()` function, which generates the parse table in a bottom-up manner. The `parse_table` in the `CYKParser` class below can be thought of as a table which contains number of rows equal to the number of words in the sentence. _(25 points)_\n",
        "\n",
        "_Note_:\n",
        "\n",
        "We recommend reading the usage of [NLTK grammar object](https://www.nltk.org/howto/grammar.html) as we would parse the grammar to this object. It allows us to easily play with different grammar production rules. Sample usages (`grammar` is a `nltk.grammar.CFG` object instantiated from a given grammar):\n",
        "  - `grammar.productions()`: list all production rules defined in the grammar.\n",
        "  - `rule_i = grammar.productions()[i]`: get the ith rule from the grammar.\n",
        "  - `rule_i.lhs()`: get the LHS for the given rule.\n",
        "  - `rule_i.rhs()`: get the RHS for the given rule.\n",
        "  - `rule_i.is_lexical()`: determine whether it is a terminal rule.\n",
        "  - `rule_i.is_nonlexical()`: determine whether it is a non-terminal rule.\n",
        "  - `rhs_0 = rule_i.rhs()[0]`: get the first element on the RHS for the given rule.\n",
        "  - `rhs_0.symbol()`: get the `str` symbol of the RHS element (this also applies to the LHS element).\n",
        "  \n",
        "_Hint: It may be beneficial to first run through the algorithm for the given grammar and the sentence on pen and paper._"
      ]
    },
    {
      "cell_type": "code",
      "execution_count": null,
      "metadata": {
        "id": "sk2mYJWnhomu",
        "pycharm": {
          "name": "#%%\n"
        },
        "tags": []
      },
      "outputs": [],
      "source": [
        "class Node:\n",
        "    \"\"\" Equivalent to a non-terminal. Since our grammar is CNF, a node can have at\n",
        "    most 2 children. Following 2 cases are possible:\n",
        "\n",
        "    Case 1 -> child1 is a terminal symbol\n",
        "    Case 2 -> both child1 and child2 are Nodes.\n",
        "    \"\"\"\n",
        "\n",
        "    def __init__(self, symbol, child1, child2=None):\n",
        "        self.symbol = symbol\n",
        "        self.child1 = child1\n",
        "        self.child2 = child2\n",
        "\n",
        "    def __repr__(self):\n",
        "        \"\"\"Returns the string representation of a Node object.\"\"\"\n",
        "        return self.symbol\n",
        "\n",
        "    def generate_tree(self) -> str:\n",
        "        \"\"\"Generates the string representation of the tree rooted at the current node.\n",
        "        It is done via pre-order tree traversal.\n",
        "\n",
        "        Returns\n",
        "        -------\n",
        "        str_tree : str\n",
        "            The tree in its string form.\n",
        "        \"\"\"\n",
        "        if self.child2 is None:\n",
        "            return f\"[{self.symbol} '{self.child1}']\"\n",
        "        return f\"[{self.symbol} {self.child1.generate_tree()} {self.child2.generate_tree()}]\"\n",
        "\n",
        "\n",
        "class CYKParser(object):\n",
        "    \"\"\"A CYK parser which is able to parse any grammar in CNF. The parser object\n",
        "    is created from a CNF grammar and can be used to parse any sentence.\n",
        "    \"\"\"\n",
        "\n",
        "    def __init__(self, grammar: str):\n",
        "        \"\"\"Creates a new parser object.\n",
        "\n",
        "        Parameters\n",
        "        ----------\n",
        "        grammar : str\n",
        "            Input grammar as a string of rules.\n",
        "        \"\"\"\n",
        "        self.grammar: nltk.grammar.CFG = nltk.grammar.CFG.fromstring(grammar)\n",
        "\n",
        "    def print_tree(self, parse_table: List[List[List[Node]]]):\n",
        "        \"\"\"Prints the parse tree starting with the start symbol.\n",
        "        \"\"\"\n",
        "        start_symbol = self.grammar.start().symbol()\n",
        "        final_nodes = [n for n in parse_table[-1][0] if n.symbol == start_symbol]\n",
        "        if final_nodes:\n",
        "            print(\"\\nPossible parse(s):\")\n",
        "            trees = [node.generate_tree() for node in final_nodes]\n",
        "            for tree in trees:\n",
        "                print(tree)\n",
        "        else:\n",
        "            print(\"The given sentence is not contained in the language produced by the given grammar!\")\n",
        "\n",
        "    def parse(self, sentence: List[str]) -> List[List[List[Node]]]:\n",
        "        \"\"\"Does the actual parsing according to the CYK algorithm.\n",
        "\n",
        "        Parameters\n",
        "        ----------\n",
        "        sentence : List[str]\n",
        "            An input sentence in the form of list of tokens.\n",
        "\n",
        "        Returns\n",
        "        -------\n",
        "        parse_table : List[List[List[Node]]]\n",
        "            The resulting parse table for the sentence under the grammar.\n",
        "        \"\"\"\n",
        "        num_tokens = len(sentence)\n",
        "        # parse_table[y][x] is the list of nodes in the x+1 cell\n",
        "        # of y+1 row in the table. That cell covers the word below it\n",
        "        # and y more words after.\n",
        "        parse_table: List[List[List[Node]]] = [[[] for x in range(num_tokens - y)] for y in range(num_tokens)]\n",
        "\n",
        "        # TODO: Your code here\n",
        "        ...\n",
        "        return parse_table"
      ]
    },
    {
      "cell_type": "code",
      "execution_count": null,
      "metadata": {
        "id": "cbDKhmkgCGmu",
        "pycharm": {
          "name": "#%%\n"
        },
        "tags": []
      },
      "outputs": [],
      "source": [
        "parser = CYKParser(cnf_cfg_rules)\n",
        "parse_table = parser.parse(\"I shot an elephant in my pajamas\".split())"
      ]
    },
    {
      "cell_type": "code",
      "execution_count": null,
      "metadata": {
        "pycharm": {
          "name": "#%%\n"
        },
        "tags": [],
        "id": "6uk7V8K9l3Gd"
      },
      "outputs": [],
      "source": [
        "parser.print_tree(parse_table)"
      ]
    },
    {
      "cell_type": "code",
      "source": [
        "grader.check('cyk-impl')"
      ],
      "metadata": {
        "id": "Lw206TRr1PfT"
      },
      "execution_count": null,
      "outputs": []
    }
  ],
  "metadata": {
    "colab": {
      "provenance": [],
      "include_colab_link": true
    },
    "kernelspec": {
      "display_name": "Python 3 (ipykernel)",
      "language": "python",
      "name": "python3"
    },
    "language_info": {
      "codemirror_mode": {
        "name": "ipython",
        "version": 3
      },
      "file_extension": ".py",
      "mimetype": "text/x-python",
      "name": "python",
      "nbconvert_exporter": "python",
      "pygments_lexer": "ipython3",
      "version": "3.10.4"
    }
  },
  "nbformat": 4,
  "nbformat_minor": 0
}