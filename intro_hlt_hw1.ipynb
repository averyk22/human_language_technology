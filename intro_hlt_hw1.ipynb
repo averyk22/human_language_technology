{
  "cells": [
    {
      "cell_type": "markdown",
      "metadata": {
        "id": "view-in-github",
        "colab_type": "text"
      },
      "source": [
        "<a href=\"https://colab.research.google.com/github/averyk22/human_language_technology/blob/main/intro_hlt_hw1.ipynb\" target=\"_parent\"><img src=\"https://colab.research.google.com/assets/colab-badge.svg\" alt=\"Open In Colab\"/></a>"
      ]
    },
    {
      "cell_type": "markdown",
      "metadata": {
        "id": "eLm_JxCxrkIE",
        "pycharm": {
          "name": "#%% md\n"
        }
      },
      "source": [
        "# Assignment 1\n",
        "\n",
        "In the first assignment, you will implement some of the algorithms you have learnt in the first two weeks of lectures: n-gram language models, and syntactic parsing using the CYK algorithm.\n",
        "\n",
        "# Setup\n",
        "\n",
        "For this and other assignments, we will be using Google Colab, for both code as well as descriptive questions. Your task is to finish all the questions in the Colab notebook and then upload a PDF version of the notebook, and a viewable link on Gradescope.\n",
        "\n",
        "### Google colaboratory\n",
        "\n",
        "Before getting started, get familiar with google colaboratory:\n",
        "https://colab.research.google.com/notebooks/welcome.ipynb\n",
        "\n",
        "This is a neat python environment that works in the cloud and does not require you to\n",
        "set up anything on your personal machine\n",
        "(it also has some built-in IDE features that make writing code easier).\n",
        "Moreover, it allows you to copy any existing collaboratory file, alter it and share\n",
        "with other people.\n",
        "\n",
        "### Submission\n",
        "\n",
        "Before you start working on this homework do the following steps:\n",
        "\n",
        "1. Press __File > Save a copy in Drive...__ tab. This will allow you to have your own copy and change it.\n",
        "2. Follow all the steps in this collaboratory file and write / change / uncomment code as necessary.\n",
        "3. Do not forget to occasionally press __File > Save__ tab to save your progress.\n",
        "4. After all the changes are done and progress is saved press __Share__ button (top right corner of the page), press __get shareable link__ and make sure you have the option __Anyone with the link can view__ selected. Copy the link and paste it in the box below.\n",
        "5. After completing the notebook, press __File > Download .ipynb__ to download a local copy on your computer, and then upload the file to Gradescope.\n",
        "\n",
        "\n",
        "__Paste your notebook link in the box below.__ _(0 points)_"
      ]
    },
    {
      "cell_type": "markdown",
      "metadata": {
        "id": "inEvaul0l3GR"
      },
      "source": [
        "\n",
        "\n",
        "```\n",
        "# Paste your Colab notebook link here\n",
        "```\n",
        "\n"
      ]
    },
    {
      "cell_type": "code",
      "execution_count": 1,
      "metadata": {
        "scrolled": true,
        "id": "51H53CHOl3GR",
        "outputId": "a9e3f456-289e-4452-d355-524fc75c24d6",
        "colab": {
          "base_uri": "https://localhost:8080/"
        }
      },
      "outputs": [
        {
          "output_type": "stream",
          "name": "stdout",
          "text": [
            "--2025-09-04 16:11:43--  https://github.com/jhu-intro-hlt/jhu-intro-hlt.github.io/raw/master/assignments/hw1-files/student/required_files.zip\n",
            "Resolving github.com (github.com)... 20.27.177.113\n",
            "Connecting to github.com (github.com)|20.27.177.113|:443... connected.\n",
            "HTTP request sent, awaiting response... 302 Found\n",
            "Location: https://raw.githubusercontent.com/jhu-intro-hlt/jhu-intro-hlt.github.io/master/assignments/hw1-files/student/required_files.zip [following]\n",
            "--2025-09-04 16:11:43--  https://raw.githubusercontent.com/jhu-intro-hlt/jhu-intro-hlt.github.io/master/assignments/hw1-files/student/required_files.zip\n",
            "Resolving raw.githubusercontent.com (raw.githubusercontent.com)... 185.199.110.133, 185.199.111.133, 185.199.109.133, ...\n",
            "Connecting to raw.githubusercontent.com (raw.githubusercontent.com)|185.199.110.133|:443... connected.\n",
            "HTTP request sent, awaiting response... 200 OK\n",
            "Length: 12284 (12K) [application/zip]\n",
            "Saving to: ‘required_files.zip.1’\n",
            "\n",
            "required_files.zip. 100%[===================>]  12.00K  --.-KB/s    in 0.003s  \n",
            "\n",
            "2025-09-04 16:11:43 (3.90 MB/s) - ‘required_files.zip.1’ saved [12284/12284]\n",
            "\n",
            "Archive:  required_files.zip\n",
            "  inflating: requirements.txt        \n",
            "  inflating: tests/ngramlm-tri-perp-on-dev.py  \n",
            "  inflating: tests/ngramlm-laplace-smoothing-impl.py  \n",
            "  inflating: tests/warmup-ngram.py   \n",
            "  inflating: tests/ngramlm-impl.py   \n",
            "  inflating: tests/cfg-tocnf.py      \n",
            "  inflating: tests/ngramlm-empirical-distribution.py  \n",
            "  inflating: tests/cyk-impl.py       \n",
            "  inflating: tests/ngramlm-corpus-size.py  \n",
            "  inflating: tests/ngramlm-laplace-smoothing-perp.py  \n",
            "  inflating: tests/ngramlm-perp-impl.py  \n",
            "  inflating: tests/ngramlm-improvement-impl.py  \n",
            "  inflating: tests/ngramlm-quad-perp-on-training.py  \n",
            "  inflating: tests/cfg-iscnf.py      \n",
            "  inflating: tests/ngramlm-tri-perp-on-training.py  \n",
            "  inflating: tests/ngramlm-vocab-size.py  \n",
            "Requirement already satisfied: datascience in /usr/local/lib/python3.12/dist-packages (from -r requirements.txt (line 1)) (0.18.0)\n",
            "Requirement already satisfied: jupyter_client in /usr/local/lib/python3.12/dist-packages (from -r requirements.txt (line 2)) (7.4.9)\n",
            "Requirement already satisfied: ipykernel in /usr/local/lib/python3.12/dist-packages (from -r requirements.txt (line 3)) (6.17.1)\n",
            "Requirement already satisfied: matplotlib in /usr/local/lib/python3.12/dist-packages (from -r requirements.txt (line 4)) (3.10.0)\n",
            "Requirement already satisfied: pandas in /usr/local/lib/python3.12/dist-packages (from -r requirements.txt (line 5)) (2.2.2)\n",
            "Requirement already satisfied: ipywidgets in /usr/local/lib/python3.12/dist-packages (from -r requirements.txt (line 6)) (7.7.1)\n",
            "Requirement already satisfied: scipy in /usr/local/lib/python3.12/dist-packages (from -r requirements.txt (line 7)) (1.16.1)\n",
            "Requirement already satisfied: seaborn in /usr/local/lib/python3.12/dist-packages (from -r requirements.txt (line 8)) (0.13.2)\n",
            "Requirement already satisfied: scikit-learn in /usr/local/lib/python3.12/dist-packages (from -r requirements.txt (line 9)) (1.6.1)\n",
            "Requirement already satisfied: jinja2 in /usr/local/lib/python3.12/dist-packages (from -r requirements.txt (line 10)) (3.1.6)\n",
            "Requirement already satisfied: nbconvert in /usr/local/lib/python3.12/dist-packages (from -r requirements.txt (line 11)) (7.16.6)\n",
            "Requirement already satisfied: nbformat in /usr/local/lib/python3.12/dist-packages (from -r requirements.txt (line 12)) (5.10.4)\n",
            "Requirement already satisfied: dill in /usr/local/lib/python3.12/dist-packages (from -r requirements.txt (line 13)) (0.3.8)\n",
            "Requirement already satisfied: numpy in /usr/local/lib/python3.12/dist-packages (from -r requirements.txt (line 14)) (2.0.2)\n",
            "Requirement already satisfied: otter-grader==4.0.1 in /usr/local/lib/python3.12/dist-packages (from -r requirements.txt (line 15)) (4.0.1)\n",
            "Requirement already satisfied: pdfkit in /usr/local/lib/python3.12/dist-packages (from -r requirements.txt (line 17)) (1.0.0)\n",
            "Requirement already satisfied: PyPDF2 in /usr/local/lib/python3.12/dist-packages (from -r requirements.txt (line 18)) (3.0.1)\n",
            "Requirement already satisfied: nltk in /usr/local/lib/python3.12/dist-packages (from -r requirements.txt (line 20)) (3.9.1)\n",
            "Requirement already satisfied: jupyter in /usr/local/lib/python3.12/dist-packages (from -r requirements.txt (line 23)) (1.1.1)\n",
            "Requirement already satisfied: overrides===6.2.0 in /usr/local/lib/python3.12/dist-packages (from -r requirements.txt (line 24)) (6.2.0)\n",
            "Requirement already satisfied: PyYAML in /usr/local/lib/python3.12/dist-packages (from otter-grader==4.0.1->-r requirements.txt (line 15)) (6.0.2)\n",
            "Requirement already satisfied: python-on-whales in /usr/local/lib/python3.12/dist-packages (from otter-grader==4.0.1->-r requirements.txt (line 15)) (0.78.0)\n",
            "Requirement already satisfied: requests in /usr/local/lib/python3.12/dist-packages (from otter-grader==4.0.1->-r requirements.txt (line 15)) (2.32.4)\n",
            "Requirement already satisfied: wrapt in /usr/local/lib/python3.12/dist-packages (from otter-grader==4.0.1->-r requirements.txt (line 15)) (1.17.3)\n",
            "Requirement already satisfied: jupytext in /usr/local/lib/python3.12/dist-packages (from otter-grader==4.0.1->-r requirements.txt (line 15)) (1.17.2)\n",
            "Requirement already satisfied: click in /usr/local/lib/python3.12/dist-packages (from otter-grader==4.0.1->-r requirements.txt (line 15)) (8.2.1)\n",
            "Requirement already satisfied: fica>=0.2.0 in /usr/local/lib/python3.12/dist-packages (from otter-grader==4.0.1->-r requirements.txt (line 15)) (0.4.1)\n",
            "Requirement already satisfied: google-api-python-client in /usr/local/lib/python3.12/dist-packages (from otter-grader==4.0.1->-r requirements.txt (line 15)) (2.179.0)\n",
            "Requirement already satisfied: google-auth-oauthlib in /usr/local/lib/python3.12/dist-packages (from otter-grader==4.0.1->-r requirements.txt (line 15)) (1.2.2)\n",
            "Requirement already satisfied: gspread in /usr/local/lib/python3.12/dist-packages (from otter-grader==4.0.1->-r requirements.txt (line 15)) (6.2.1)\n",
            "Requirement already satisfied: six in /usr/local/lib/python3.12/dist-packages (from otter-grader==4.0.1->-r requirements.txt (line 15)) (1.17.0)\n",
            "Requirement already satisfied: folium>=0.9.1 in /usr/local/lib/python3.12/dist-packages (from datascience->-r requirements.txt (line 1)) (0.20.0)\n",
            "Requirement already satisfied: setuptools in /usr/local/lib/python3.12/dist-packages (from datascience->-r requirements.txt (line 1)) (75.2.0)\n",
            "Requirement already satisfied: ipython in /usr/local/lib/python3.12/dist-packages (from datascience->-r requirements.txt (line 1)) (7.34.0)\n",
            "Requirement already satisfied: plotly in /usr/local/lib/python3.12/dist-packages (from datascience->-r requirements.txt (line 1)) (5.24.1)\n",
            "Requirement already satisfied: branca in /usr/local/lib/python3.12/dist-packages (from datascience->-r requirements.txt (line 1)) (0.8.1)\n",
            "Requirement already satisfied: entrypoints in /usr/local/lib/python3.12/dist-packages (from jupyter_client->-r requirements.txt (line 2)) (0.4)\n",
            "Requirement already satisfied: jupyter-core>=4.9.2 in /usr/local/lib/python3.12/dist-packages (from jupyter_client->-r requirements.txt (line 2)) (5.8.1)\n",
            "Requirement already satisfied: nest-asyncio>=1.5.4 in /usr/local/lib/python3.12/dist-packages (from jupyter_client->-r requirements.txt (line 2)) (1.6.0)\n",
            "Requirement already satisfied: python-dateutil>=2.8.2 in /usr/local/lib/python3.12/dist-packages (from jupyter_client->-r requirements.txt (line 2)) (2.9.0.post0)\n",
            "Requirement already satisfied: pyzmq>=23.0 in /usr/local/lib/python3.12/dist-packages (from jupyter_client->-r requirements.txt (line 2)) (26.2.1)\n",
            "Requirement already satisfied: tornado>=6.2 in /usr/local/lib/python3.12/dist-packages (from jupyter_client->-r requirements.txt (line 2)) (6.4.2)\n",
            "Requirement already satisfied: traitlets in /usr/local/lib/python3.12/dist-packages (from jupyter_client->-r requirements.txt (line 2)) (5.7.1)\n",
            "Requirement already satisfied: debugpy>=1.0 in /usr/local/lib/python3.12/dist-packages (from ipykernel->-r requirements.txt (line 3)) (1.8.15)\n",
            "Requirement already satisfied: matplotlib-inline>=0.1 in /usr/local/lib/python3.12/dist-packages (from ipykernel->-r requirements.txt (line 3)) (0.1.7)\n",
            "Requirement already satisfied: packaging in /usr/local/lib/python3.12/dist-packages (from ipykernel->-r requirements.txt (line 3)) (25.0)\n",
            "Requirement already satisfied: psutil in /usr/local/lib/python3.12/dist-packages (from ipykernel->-r requirements.txt (line 3)) (5.9.5)\n",
            "Requirement already satisfied: contourpy>=1.0.1 in /usr/local/lib/python3.12/dist-packages (from matplotlib->-r requirements.txt (line 4)) (1.3.3)\n",
            "Requirement already satisfied: cycler>=0.10 in /usr/local/lib/python3.12/dist-packages (from matplotlib->-r requirements.txt (line 4)) (0.12.1)\n",
            "Requirement already satisfied: fonttools>=4.22.0 in /usr/local/lib/python3.12/dist-packages (from matplotlib->-r requirements.txt (line 4)) (4.59.1)\n",
            "Requirement already satisfied: kiwisolver>=1.3.1 in /usr/local/lib/python3.12/dist-packages (from matplotlib->-r requirements.txt (line 4)) (1.4.9)\n",
            "Requirement already satisfied: pillow>=8 in /usr/local/lib/python3.12/dist-packages (from matplotlib->-r requirements.txt (line 4)) (11.3.0)\n",
            "Requirement already satisfied: pyparsing>=2.3.1 in /usr/local/lib/python3.12/dist-packages (from matplotlib->-r requirements.txt (line 4)) (3.2.3)\n",
            "Requirement already satisfied: pytz>=2020.1 in /usr/local/lib/python3.12/dist-packages (from pandas->-r requirements.txt (line 5)) (2025.2)\n",
            "Requirement already satisfied: tzdata>=2022.7 in /usr/local/lib/python3.12/dist-packages (from pandas->-r requirements.txt (line 5)) (2025.2)\n",
            "Requirement already satisfied: ipython-genutils~=0.2.0 in /usr/local/lib/python3.12/dist-packages (from ipywidgets->-r requirements.txt (line 6)) (0.2.0)\n",
            "Requirement already satisfied: widgetsnbextension~=3.6.0 in /usr/local/lib/python3.12/dist-packages (from ipywidgets->-r requirements.txt (line 6)) (3.6.10)\n",
            "Requirement already satisfied: jupyterlab-widgets>=1.0.0 in /usr/local/lib/python3.12/dist-packages (from ipywidgets->-r requirements.txt (line 6)) (3.0.15)\n",
            "Requirement already satisfied: joblib>=1.2.0 in /usr/local/lib/python3.12/dist-packages (from scikit-learn->-r requirements.txt (line 9)) (1.5.1)\n",
            "Requirement already satisfied: threadpoolctl>=3.1.0 in /usr/local/lib/python3.12/dist-packages (from scikit-learn->-r requirements.txt (line 9)) (3.6.0)\n",
            "Requirement already satisfied: MarkupSafe>=2.0 in /usr/local/lib/python3.12/dist-packages (from jinja2->-r requirements.txt (line 10)) (3.0.2)\n",
            "Requirement already satisfied: beautifulsoup4 in /usr/local/lib/python3.12/dist-packages (from nbconvert->-r requirements.txt (line 11)) (4.13.5)\n",
            "Requirement already satisfied: bleach!=5.0.0 in /usr/local/lib/python3.12/dist-packages (from bleach[css]!=5.0.0->nbconvert->-r requirements.txt (line 11)) (6.2.0)\n",
            "Requirement already satisfied: defusedxml in /usr/local/lib/python3.12/dist-packages (from nbconvert->-r requirements.txt (line 11)) (0.7.1)\n",
            "Requirement already satisfied: jupyterlab-pygments in /usr/local/lib/python3.12/dist-packages (from nbconvert->-r requirements.txt (line 11)) (0.3.0)\n",
            "Requirement already satisfied: mistune<4,>=2.0.3 in /usr/local/lib/python3.12/dist-packages (from nbconvert->-r requirements.txt (line 11)) (3.1.3)\n",
            "Requirement already satisfied: nbclient>=0.5.0 in /usr/local/lib/python3.12/dist-packages (from nbconvert->-r requirements.txt (line 11)) (0.10.2)\n",
            "Requirement already satisfied: pandocfilters>=1.4.1 in /usr/local/lib/python3.12/dist-packages (from nbconvert->-r requirements.txt (line 11)) (1.5.1)\n",
            "Requirement already satisfied: pygments>=2.4.1 in /usr/local/lib/python3.12/dist-packages (from nbconvert->-r requirements.txt (line 11)) (2.19.2)\n",
            "Requirement already satisfied: fastjsonschema>=2.15 in /usr/local/lib/python3.12/dist-packages (from nbformat->-r requirements.txt (line 12)) (2.21.2)\n",
            "Requirement already satisfied: jsonschema>=2.6 in /usr/local/lib/python3.12/dist-packages (from nbformat->-r requirements.txt (line 12)) (4.25.1)\n",
            "Requirement already satisfied: regex>=2021.8.3 in /usr/local/lib/python3.12/dist-packages (from nltk->-r requirements.txt (line 20)) (2024.11.6)\n",
            "Requirement already satisfied: tqdm in /usr/local/lib/python3.12/dist-packages (from nltk->-r requirements.txt (line 20)) (4.67.1)\n",
            "Requirement already satisfied: notebook in /usr/local/lib/python3.12/dist-packages (from jupyter->-r requirements.txt (line 23)) (6.5.7)\n",
            "Requirement already satisfied: jupyter-console in /usr/local/lib/python3.12/dist-packages (from jupyter->-r requirements.txt (line 23)) (6.1.0)\n",
            "Requirement already satisfied: jupyterlab in /usr/local/lib/python3.12/dist-packages (from jupyter->-r requirements.txt (line 23)) (4.4.7)\n",
            "Requirement already satisfied: webencodings in /usr/local/lib/python3.12/dist-packages (from bleach!=5.0.0->bleach[css]!=5.0.0->nbconvert->-r requirements.txt (line 11)) (0.5.1)\n",
            "Requirement already satisfied: tinycss2<1.5,>=1.1.0 in /usr/local/lib/python3.12/dist-packages (from bleach[css]!=5.0.0->nbconvert->-r requirements.txt (line 11)) (1.4.0)\n",
            "Requirement already satisfied: docutils in /usr/local/lib/python3.12/dist-packages (from fica>=0.2.0->otter-grader==4.0.1->-r requirements.txt (line 15)) (0.21.2)\n",
            "Requirement already satisfied: sphinx in /usr/local/lib/python3.12/dist-packages (from fica>=0.2.0->otter-grader==4.0.1->-r requirements.txt (line 15)) (8.2.3)\n",
            "Requirement already satisfied: xyzservices in /usr/local/lib/python3.12/dist-packages (from folium>=0.9.1->datascience->-r requirements.txt (line 1)) (2025.4.0)\n",
            "Requirement already satisfied: jedi>=0.16 in /usr/local/lib/python3.12/dist-packages (from ipython->datascience->-r requirements.txt (line 1)) (0.19.2)\n",
            "Requirement already satisfied: decorator in /usr/local/lib/python3.12/dist-packages (from ipython->datascience->-r requirements.txt (line 1)) (4.4.2)\n",
            "Requirement already satisfied: pickleshare in /usr/local/lib/python3.12/dist-packages (from ipython->datascience->-r requirements.txt (line 1)) (0.7.5)\n",
            "Requirement already satisfied: prompt-toolkit!=3.0.0,!=3.0.1,<3.1.0,>=2.0.0 in /usr/local/lib/python3.12/dist-packages (from ipython->datascience->-r requirements.txt (line 1)) (3.0.51)\n",
            "Requirement already satisfied: backcall in /usr/local/lib/python3.12/dist-packages (from ipython->datascience->-r requirements.txt (line 1)) (0.2.0)\n",
            "Requirement already satisfied: pexpect>4.3 in /usr/local/lib/python3.12/dist-packages (from ipython->datascience->-r requirements.txt (line 1)) (4.9.0)\n",
            "Requirement already satisfied: attrs>=22.2.0 in /usr/local/lib/python3.12/dist-packages (from jsonschema>=2.6->nbformat->-r requirements.txt (line 12)) (25.3.0)\n",
            "Requirement already satisfied: jsonschema-specifications>=2023.03.6 in /usr/local/lib/python3.12/dist-packages (from jsonschema>=2.6->nbformat->-r requirements.txt (line 12)) (2025.4.1)\n",
            "Requirement already satisfied: referencing>=0.28.4 in /usr/local/lib/python3.12/dist-packages (from jsonschema>=2.6->nbformat->-r requirements.txt (line 12)) (0.36.2)\n",
            "Requirement already satisfied: rpds-py>=0.7.1 in /usr/local/lib/python3.12/dist-packages (from jsonschema>=2.6->nbformat->-r requirements.txt (line 12)) (0.27.0)\n",
            "Requirement already satisfied: platformdirs>=2.5 in /usr/local/lib/python3.12/dist-packages (from jupyter-core>=4.9.2->jupyter_client->-r requirements.txt (line 2)) (4.3.8)\n",
            "Requirement already satisfied: argon2-cffi in /usr/local/lib/python3.12/dist-packages (from notebook->jupyter->-r requirements.txt (line 23)) (25.1.0)\n",
            "Requirement already satisfied: Send2Trash>=1.8.0 in /usr/local/lib/python3.12/dist-packages (from notebook->jupyter->-r requirements.txt (line 23)) (1.8.3)\n",
            "Requirement already satisfied: terminado>=0.8.3 in /usr/local/lib/python3.12/dist-packages (from notebook->jupyter->-r requirements.txt (line 23)) (0.18.1)\n",
            "Requirement already satisfied: prometheus-client in /usr/local/lib/python3.12/dist-packages (from notebook->jupyter->-r requirements.txt (line 23)) (0.22.1)\n",
            "Requirement already satisfied: nbclassic>=0.4.7 in /usr/local/lib/python3.12/dist-packages (from notebook->jupyter->-r requirements.txt (line 23)) (1.3.1)\n",
            "Requirement already satisfied: soupsieve>1.2 in /usr/local/lib/python3.12/dist-packages (from beautifulsoup4->nbconvert->-r requirements.txt (line 11)) (2.7)\n",
            "Requirement already satisfied: typing-extensions>=4.0.0 in /usr/local/lib/python3.12/dist-packages (from beautifulsoup4->nbconvert->-r requirements.txt (line 11)) (4.15.0)\n",
            "Requirement already satisfied: httplib2<1.0.0,>=0.19.0 in /usr/local/lib/python3.12/dist-packages (from google-api-python-client->otter-grader==4.0.1->-r requirements.txt (line 15)) (0.22.0)\n",
            "Requirement already satisfied: google-auth!=2.24.0,!=2.25.0,<3.0.0,>=1.32.0 in /usr/local/lib/python3.12/dist-packages (from google-api-python-client->otter-grader==4.0.1->-r requirements.txt (line 15)) (2.38.0)\n",
            "Requirement already satisfied: google-auth-httplib2<1.0.0,>=0.2.0 in /usr/local/lib/python3.12/dist-packages (from google-api-python-client->otter-grader==4.0.1->-r requirements.txt (line 15)) (0.2.0)\n",
            "Requirement already satisfied: google-api-core!=2.0.*,!=2.1.*,!=2.2.*,!=2.3.0,<3.0.0,>=1.31.5 in /usr/local/lib/python3.12/dist-packages (from google-api-python-client->otter-grader==4.0.1->-r requirements.txt (line 15)) (2.25.1)\n",
            "Requirement already satisfied: uritemplate<5,>=3.0.1 in /usr/local/lib/python3.12/dist-packages (from google-api-python-client->otter-grader==4.0.1->-r requirements.txt (line 15)) (4.2.0)\n",
            "Requirement already satisfied: requests-oauthlib>=0.7.0 in /usr/local/lib/python3.12/dist-packages (from google-auth-oauthlib->otter-grader==4.0.1->-r requirements.txt (line 15)) (2.0.0)\n",
            "Requirement already satisfied: async-lru>=1.0.0 in /usr/local/lib/python3.12/dist-packages (from jupyterlab->jupyter->-r requirements.txt (line 23)) (2.0.5)\n",
            "Requirement already satisfied: httpx<1,>=0.25.0 in /usr/local/lib/python3.12/dist-packages (from jupyterlab->jupyter->-r requirements.txt (line 23)) (0.28.1)\n",
            "Requirement already satisfied: jupyter-lsp>=2.0.0 in /usr/local/lib/python3.12/dist-packages (from jupyterlab->jupyter->-r requirements.txt (line 23)) (2.3.0)\n",
            "Requirement already satisfied: jupyter-server<3,>=2.4.0 in /usr/local/lib/python3.12/dist-packages (from jupyterlab->jupyter->-r requirements.txt (line 23)) (2.17.0)\n",
            "Requirement already satisfied: jupyterlab-server<3,>=2.27.1 in /usr/local/lib/python3.12/dist-packages (from jupyterlab->jupyter->-r requirements.txt (line 23)) (2.27.3)\n",
            "Requirement already satisfied: notebook-shim>=0.2 in /usr/local/lib/python3.12/dist-packages (from jupyterlab->jupyter->-r requirements.txt (line 23)) (0.2.4)\n",
            "Requirement already satisfied: markdown-it-py>=1.0 in /usr/local/lib/python3.12/dist-packages (from jupytext->otter-grader==4.0.1->-r requirements.txt (line 15)) (4.0.0)\n",
            "Requirement already satisfied: mdit-py-plugins in /usr/local/lib/python3.12/dist-packages (from jupytext->otter-grader==4.0.1->-r requirements.txt (line 15)) (0.5.0)\n",
            "Requirement already satisfied: tenacity>=6.2.0 in /usr/local/lib/python3.12/dist-packages (from plotly->datascience->-r requirements.txt (line 1)) (8.5.0)\n",
            "Requirement already satisfied: pydantic!=2.0.*,<3,>=2 in /usr/local/lib/python3.12/dist-packages (from python-on-whales->otter-grader==4.0.1->-r requirements.txt (line 15)) (2.11.7)\n",
            "Requirement already satisfied: charset_normalizer<4,>=2 in /usr/local/lib/python3.12/dist-packages (from requests->otter-grader==4.0.1->-r requirements.txt (line 15)) (3.4.3)\n",
            "Requirement already satisfied: idna<4,>=2.5 in /usr/local/lib/python3.12/dist-packages (from requests->otter-grader==4.0.1->-r requirements.txt (line 15)) (3.10)\n",
            "Requirement already satisfied: urllib3<3,>=1.21.1 in /usr/local/lib/python3.12/dist-packages (from requests->otter-grader==4.0.1->-r requirements.txt (line 15)) (2.5.0)\n",
            "Requirement already satisfied: certifi>=2017.4.17 in /usr/local/lib/python3.12/dist-packages (from requests->otter-grader==4.0.1->-r requirements.txt (line 15)) (2025.8.3)\n",
            "Requirement already satisfied: googleapis-common-protos<2.0.0,>=1.56.2 in /usr/local/lib/python3.12/dist-packages (from google-api-core!=2.0.*,!=2.1.*,!=2.2.*,!=2.3.0,<3.0.0,>=1.31.5->google-api-python-client->otter-grader==4.0.1->-r requirements.txt (line 15)) (1.70.0)\n",
            "Requirement already satisfied: protobuf!=3.20.0,!=3.20.1,!=4.21.0,!=4.21.1,!=4.21.2,!=4.21.3,!=4.21.4,!=4.21.5,<7.0.0,>=3.19.5 in /usr/local/lib/python3.12/dist-packages (from google-api-core!=2.0.*,!=2.1.*,!=2.2.*,!=2.3.0,<3.0.0,>=1.31.5->google-api-python-client->otter-grader==4.0.1->-r requirements.txt (line 15)) (5.29.5)\n",
            "Requirement already satisfied: proto-plus<2.0.0,>=1.22.3 in /usr/local/lib/python3.12/dist-packages (from google-api-core!=2.0.*,!=2.1.*,!=2.2.*,!=2.3.0,<3.0.0,>=1.31.5->google-api-python-client->otter-grader==4.0.1->-r requirements.txt (line 15)) (1.26.1)\n",
            "Requirement already satisfied: cachetools<6.0,>=2.0.0 in /usr/local/lib/python3.12/dist-packages (from google-auth!=2.24.0,!=2.25.0,<3.0.0,>=1.32.0->google-api-python-client->otter-grader==4.0.1->-r requirements.txt (line 15)) (5.5.2)\n",
            "Requirement already satisfied: pyasn1-modules>=0.2.1 in /usr/local/lib/python3.12/dist-packages (from google-auth!=2.24.0,!=2.25.0,<3.0.0,>=1.32.0->google-api-python-client->otter-grader==4.0.1->-r requirements.txt (line 15)) (0.4.2)\n",
            "Requirement already satisfied: rsa<5,>=3.1.4 in /usr/local/lib/python3.12/dist-packages (from google-auth!=2.24.0,!=2.25.0,<3.0.0,>=1.32.0->google-api-python-client->otter-grader==4.0.1->-r requirements.txt (line 15)) (4.9.1)\n",
            "Requirement already satisfied: anyio in /usr/local/lib/python3.12/dist-packages (from httpx<1,>=0.25.0->jupyterlab->jupyter->-r requirements.txt (line 23)) (4.10.0)\n",
            "Requirement already satisfied: httpcore==1.* in /usr/local/lib/python3.12/dist-packages (from httpx<1,>=0.25.0->jupyterlab->jupyter->-r requirements.txt (line 23)) (1.0.9)\n",
            "Requirement already satisfied: h11>=0.16 in /usr/local/lib/python3.12/dist-packages (from httpcore==1.*->httpx<1,>=0.25.0->jupyterlab->jupyter->-r requirements.txt (line 23)) (0.16.0)\n",
            "Requirement already satisfied: parso<0.9.0,>=0.8.4 in /usr/local/lib/python3.12/dist-packages (from jedi>=0.16->ipython->datascience->-r requirements.txt (line 1)) (0.8.5)\n",
            "Requirement already satisfied: jupyter-events>=0.11.0 in /usr/local/lib/python3.12/dist-packages (from jupyter-server<3,>=2.4.0->jupyterlab->jupyter->-r requirements.txt (line 23)) (0.12.0)\n",
            "Requirement already satisfied: jupyter-server-terminals>=0.4.4 in /usr/local/lib/python3.12/dist-packages (from jupyter-server<3,>=2.4.0->jupyterlab->jupyter->-r requirements.txt (line 23)) (0.5.3)\n",
            "Requirement already satisfied: websocket-client>=1.7 in /usr/local/lib/python3.12/dist-packages (from jupyter-server<3,>=2.4.0->jupyterlab->jupyter->-r requirements.txt (line 23)) (1.8.0)\n",
            "Requirement already satisfied: argon2-cffi-bindings in /usr/local/lib/python3.12/dist-packages (from argon2-cffi->notebook->jupyter->-r requirements.txt (line 23)) (25.1.0)\n",
            "Requirement already satisfied: babel>=2.10 in /usr/local/lib/python3.12/dist-packages (from jupyterlab-server<3,>=2.27.1->jupyterlab->jupyter->-r requirements.txt (line 23)) (2.17.0)\n",
            "Requirement already satisfied: json5>=0.9.0 in /usr/local/lib/python3.12/dist-packages (from jupyterlab-server<3,>=2.27.1->jupyterlab->jupyter->-r requirements.txt (line 23)) (0.12.1)\n",
            "Requirement already satisfied: mdurl~=0.1 in /usr/local/lib/python3.12/dist-packages (from markdown-it-py>=1.0->jupytext->otter-grader==4.0.1->-r requirements.txt (line 15)) (0.1.2)\n",
            "Requirement already satisfied: ptyprocess>=0.5 in /usr/local/lib/python3.12/dist-packages (from pexpect>4.3->ipython->datascience->-r requirements.txt (line 1)) (0.7.0)\n",
            "Requirement already satisfied: wcwidth in /usr/local/lib/python3.12/dist-packages (from prompt-toolkit!=3.0.0,!=3.0.1,<3.1.0,>=2.0.0->ipython->datascience->-r requirements.txt (line 1)) (0.2.13)\n",
            "Requirement already satisfied: annotated-types>=0.6.0 in /usr/local/lib/python3.12/dist-packages (from pydantic!=2.0.*,<3,>=2->python-on-whales->otter-grader==4.0.1->-r requirements.txt (line 15)) (0.7.0)\n",
            "Requirement already satisfied: pydantic-core==2.33.2 in /usr/local/lib/python3.12/dist-packages (from pydantic!=2.0.*,<3,>=2->python-on-whales->otter-grader==4.0.1->-r requirements.txt (line 15)) (2.33.2)\n",
            "Requirement already satisfied: typing-inspection>=0.4.0 in /usr/local/lib/python3.12/dist-packages (from pydantic!=2.0.*,<3,>=2->python-on-whales->otter-grader==4.0.1->-r requirements.txt (line 15)) (0.4.1)\n",
            "Requirement already satisfied: oauthlib>=3.0.0 in /usr/local/lib/python3.12/dist-packages (from requests-oauthlib>=0.7.0->google-auth-oauthlib->otter-grader==4.0.1->-r requirements.txt (line 15)) (3.3.1)\n",
            "Requirement already satisfied: sphinxcontrib-applehelp>=1.0.7 in /usr/local/lib/python3.12/dist-packages (from sphinx->fica>=0.2.0->otter-grader==4.0.1->-r requirements.txt (line 15)) (2.0.0)\n",
            "Requirement already satisfied: sphinxcontrib-devhelp>=1.0.6 in /usr/local/lib/python3.12/dist-packages (from sphinx->fica>=0.2.0->otter-grader==4.0.1->-r requirements.txt (line 15)) (2.0.0)\n",
            "Requirement already satisfied: sphinxcontrib-htmlhelp>=2.0.6 in /usr/local/lib/python3.12/dist-packages (from sphinx->fica>=0.2.0->otter-grader==4.0.1->-r requirements.txt (line 15)) (2.1.0)\n",
            "Requirement already satisfied: sphinxcontrib-jsmath>=1.0.1 in /usr/local/lib/python3.12/dist-packages (from sphinx->fica>=0.2.0->otter-grader==4.0.1->-r requirements.txt (line 15)) (1.0.1)\n",
            "Requirement already satisfied: sphinxcontrib-qthelp>=1.0.6 in /usr/local/lib/python3.12/dist-packages (from sphinx->fica>=0.2.0->otter-grader==4.0.1->-r requirements.txt (line 15)) (2.0.0)\n",
            "Requirement already satisfied: sphinxcontrib-serializinghtml>=1.1.9 in /usr/local/lib/python3.12/dist-packages (from sphinx->fica>=0.2.0->otter-grader==4.0.1->-r requirements.txt (line 15)) (2.0.0)\n",
            "Requirement already satisfied: snowballstemmer>=2.2 in /usr/local/lib/python3.12/dist-packages (from sphinx->fica>=0.2.0->otter-grader==4.0.1->-r requirements.txt (line 15)) (3.0.1)\n",
            "Requirement already satisfied: alabaster>=0.7.14 in /usr/local/lib/python3.12/dist-packages (from sphinx->fica>=0.2.0->otter-grader==4.0.1->-r requirements.txt (line 15)) (1.0.0)\n",
            "Requirement already satisfied: imagesize>=1.3 in /usr/local/lib/python3.12/dist-packages (from sphinx->fica>=0.2.0->otter-grader==4.0.1->-r requirements.txt (line 15)) (1.4.1)\n",
            "Requirement already satisfied: roman-numerals-py>=1.0.0 in /usr/local/lib/python3.12/dist-packages (from sphinx->fica>=0.2.0->otter-grader==4.0.1->-r requirements.txt (line 15)) (3.1.0)\n",
            "Requirement already satisfied: sniffio>=1.1 in /usr/local/lib/python3.12/dist-packages (from anyio->httpx<1,>=0.25.0->jupyterlab->jupyter->-r requirements.txt (line 23)) (1.3.1)\n",
            "Requirement already satisfied: python-json-logger>=2.0.4 in /usr/local/lib/python3.12/dist-packages (from jupyter-events>=0.11.0->jupyter-server<3,>=2.4.0->jupyterlab->jupyter->-r requirements.txt (line 23)) (3.3.0)\n",
            "Requirement already satisfied: rfc3339-validator in /usr/local/lib/python3.12/dist-packages (from jupyter-events>=0.11.0->jupyter-server<3,>=2.4.0->jupyterlab->jupyter->-r requirements.txt (line 23)) (0.1.4)\n",
            "Requirement already satisfied: rfc3986-validator>=0.1.1 in /usr/local/lib/python3.12/dist-packages (from jupyter-events>=0.11.0->jupyter-server<3,>=2.4.0->jupyterlab->jupyter->-r requirements.txt (line 23)) (0.1.1)\n",
            "Requirement already satisfied: pyasn1<0.7.0,>=0.6.1 in /usr/local/lib/python3.12/dist-packages (from pyasn1-modules>=0.2.1->google-auth!=2.24.0,!=2.25.0,<3.0.0,>=1.32.0->google-api-python-client->otter-grader==4.0.1->-r requirements.txt (line 15)) (0.6.1)\n",
            "Requirement already satisfied: cffi>=1.0.1 in /usr/local/lib/python3.12/dist-packages (from argon2-cffi-bindings->argon2-cffi->notebook->jupyter->-r requirements.txt (line 23)) (1.17.1)\n",
            "Requirement already satisfied: pycparser in /usr/local/lib/python3.12/dist-packages (from cffi>=1.0.1->argon2-cffi-bindings->argon2-cffi->notebook->jupyter->-r requirements.txt (line 23)) (2.22)\n",
            "Requirement already satisfied: fqdn in /usr/local/lib/python3.12/dist-packages (from jsonschema[format-nongpl]>=4.18.0->jupyter-events>=0.11.0->jupyter-server<3,>=2.4.0->jupyterlab->jupyter->-r requirements.txt (line 23)) (1.5.1)\n",
            "Requirement already satisfied: isoduration in /usr/local/lib/python3.12/dist-packages (from jsonschema[format-nongpl]>=4.18.0->jupyter-events>=0.11.0->jupyter-server<3,>=2.4.0->jupyterlab->jupyter->-r requirements.txt (line 23)) (20.11.0)\n",
            "Requirement already satisfied: jsonpointer>1.13 in /usr/local/lib/python3.12/dist-packages (from jsonschema[format-nongpl]>=4.18.0->jupyter-events>=0.11.0->jupyter-server<3,>=2.4.0->jupyterlab->jupyter->-r requirements.txt (line 23)) (3.0.0)\n",
            "Requirement already satisfied: rfc3987-syntax>=1.1.0 in /usr/local/lib/python3.12/dist-packages (from jsonschema[format-nongpl]>=4.18.0->jupyter-events>=0.11.0->jupyter-server<3,>=2.4.0->jupyterlab->jupyter->-r requirements.txt (line 23)) (1.1.0)\n",
            "Requirement already satisfied: uri-template in /usr/local/lib/python3.12/dist-packages (from jsonschema[format-nongpl]>=4.18.0->jupyter-events>=0.11.0->jupyter-server<3,>=2.4.0->jupyterlab->jupyter->-r requirements.txt (line 23)) (1.3.0)\n",
            "Requirement already satisfied: webcolors>=24.6.0 in /usr/local/lib/python3.12/dist-packages (from jsonschema[format-nongpl]>=4.18.0->jupyter-events>=0.11.0->jupyter-server<3,>=2.4.0->jupyterlab->jupyter->-r requirements.txt (line 23)) (24.11.1)\n",
            "Requirement already satisfied: lark>=1.2.2 in /usr/local/lib/python3.12/dist-packages (from rfc3987-syntax>=1.1.0->jsonschema[format-nongpl]>=4.18.0->jupyter-events>=0.11.0->jupyter-server<3,>=2.4.0->jupyterlab->jupyter->-r requirements.txt (line 23)) (1.2.2)\n",
            "Requirement already satisfied: arrow>=0.15.0 in /usr/local/lib/python3.12/dist-packages (from isoduration->jsonschema[format-nongpl]>=4.18.0->jupyter-events>=0.11.0->jupyter-server<3,>=2.4.0->jupyterlab->jupyter->-r requirements.txt (line 23)) (1.3.0)\n",
            "Requirement already satisfied: types-python-dateutil>=2.8.10 in /usr/local/lib/python3.12/dist-packages (from arrow>=0.15.0->isoduration->jsonschema[format-nongpl]>=4.18.0->jupyter-events>=0.11.0->jupyter-server<3,>=2.4.0->jupyterlab->jupyter->-r requirements.txt (line 23)) (2.9.0.20250822)\n"
          ]
        }
      ],
      "source": [
        "# Downloads required packages and files\n",
        "required_files = \"https://github.com/jhu-intro-hlt/jhu-intro-hlt.github.io/raw/master/assignments/hw1-files/student/required_files.zip\"\n",
        "! wget $required_files && unzip -o required_files.zip\n",
        "! pip install -r requirements.txt"
      ]
    },
    {
      "cell_type": "code",
      "execution_count": 2,
      "metadata": {
        "id": "pEX1BnxNl3GS"
      },
      "outputs": [],
      "source": [
        "# Initialize Otter\n",
        "import otter\n",
        "grader = otter.Notebook(colab=True)"
      ]
    },
    {
      "cell_type": "code",
      "execution_count": 3,
      "metadata": {
        "pycharm": {
          "name": "#%%\n"
        },
        "id": "616QyAz3l3GS",
        "outputId": "c927e9ef-ccd1-46c6-98f1-642e7724142e",
        "colab": {
          "base_uri": "https://localhost:8080/"
        }
      },
      "outputs": [
        {
          "output_type": "stream",
          "name": "stderr",
          "text": [
            "[nltk_data] Downloading package punkt to /root/nltk_data...\n",
            "[nltk_data]   Package punkt is already up-to-date!\n",
            "[nltk_data] Downloading package punkt_tab to /root/nltk_data...\n",
            "[nltk_data]   Package punkt_tab is already up-to-date!\n"
          ]
        },
        {
          "output_type": "execute_result",
          "data": {
            "text/plain": [
              "True"
            ]
          },
          "metadata": {},
          "execution_count": 3
        }
      ],
      "source": [
        "import random\n",
        "import math\n",
        "import re\n",
        "import os\n",
        "import urllib\n",
        "import json\n",
        "from typing import *\n",
        "from collections import Counter, defaultdict\n",
        "\n",
        "import numpy as np\n",
        "import nltk\n",
        "import matplotlib.pyplot as plt\n",
        "from nltk.tokenize import RegexpTokenizer, sent_tokenize\n",
        "\n",
        "nltk.download('punkt')\n",
        "nltk.download('punkt_tab')"
      ]
    },
    {
      "cell_type": "markdown",
      "metadata": {
        "id": "sWXKLhH1N0IU",
        "pycharm": {
          "name": "#%% md\n"
        }
      },
      "source": [
        "## Part 1: N-gram Language Models\n",
        "\n",
        "For the first part of this assignment, you will implement a trigram language model and train it on a small corpus. You will then implement a scoring function to compute the perplexity of the model on a held-out test set. Finally, you will implement some methods to deal with sparsity (zero count) issues in your model.\n",
        "\n",
        "To ease you into the implementation, we will provide some boilerplate code that you would need to fill in depending upon the functionalities the code is supposed to perform. For the first few sections below, we will use the complete text from Leo Tolstoy's \"War and Peace,\" which is freely available from [Project Gutenberg](https://www.gutenberg.org/). Run the following code block to download the text."
      ]
    },
    {
      "cell_type": "code",
      "execution_count": 4,
      "metadata": {
        "pycharm": {
          "name": "#%%\n"
        },
        "id": "fmw2bHZPl3GT"
      },
      "outputs": [],
      "source": [
        "def download_data():\n",
        "    def _download(url: str, filename: str) -> str:\n",
        "        txt = urllib.request.urlopen(url)\n",
        "        with open(filename, 'w') as f:\n",
        "            f.write(txt.read().decode('utf-8'))\n",
        "\n",
        "    _download('https://cs.stanford.edu/people/karpathy/char-rnn/warpeace_input.txt', 'warpeace_input.txt')\n",
        "    _download('http://www.gutenberg.org/files/1399/1399-0.txt', '1399-0.txt')\n",
        "\n",
        "download_data()"
      ]
    },
    {
      "cell_type": "markdown",
      "metadata": {
        "id": "obJJmlMlSs2d",
        "pycharm": {
          "name": "#%% md\n"
        }
      },
      "source": [
        "The complete text downloaded above contains punctuations which are not important for our purposes. So we will perform a basic text preprocessing using the [NLTK toolkit](https://www.nltk.org/). We will store the processed text into a list of strings, where each string will contain words without any punctuations. We will also convert all words to lower case."
      ]
    },
    {
      "cell_type": "code",
      "execution_count": 5,
      "metadata": {
        "id": "eoKZKaRGVYa1",
        "pycharm": {
          "name": "#%%\n"
        }
      },
      "outputs": [],
      "source": [
        "# Loading the text\n",
        "try:\n",
        "    with open('warpeace_input.txt', 'r') as file:\n",
        "        corpus_raw = file.read().replace('\\n', ' ')\n",
        "except FileNotFoundError:\n",
        "    with open('../../warpeace_input.txt', 'r') as file:\n",
        "        corpus_raw = file.read().replace('\\n', ' ')"
      ]
    },
    {
      "cell_type": "code",
      "execution_count": 6,
      "metadata": {
        "id": "1r_Q1XbTWCst",
        "pycharm": {
          "name": "#%%\n"
        },
        "outputId": "185a32dd-1d88-4aa8-adc1-9d3546ac0f55",
        "colab": {
          "base_uri": "https://localhost:8080/"
        }
      },
      "outputs": [
        {
          "output_type": "stream",
          "name": "stdout",
          "text": [
            "Corpus has 32040 sentences\n"
          ]
        }
      ],
      "source": [
        "sentences = sent_tokenize(corpus_raw)\n",
        "\n",
        "corpus = []\n",
        "tokenizer = RegexpTokenizer(r'\\w+')\n",
        "for sentence in sentences:\n",
        "    tokens = tokenizer.tokenize(sentence)\n",
        "    corpus.append([token.lower() for token in tokens])\n",
        "\n",
        "print(\"Corpus has {} sentences\".format(len(corpus)))"
      ]
    },
    {
      "cell_type": "markdown",
      "metadata": {
        "id": "ykO86GMkPQ2E",
        "pycharm": {
          "name": "#%% md\n"
        }
      },
      "source": [
        "### Warm-up: n-gram counts from a corpus\n",
        "\n",
        "Let's start with implementing a simple function for obtaining n-grams and their counts from a string. Complete the following function. _(5 points)_\n",
        "\n",
        "__Note 1:__ Use the special token `~` for both beginning of sentence (BOS) and end of sentence (EOS) tokens. For example, the sentence \"Mary has a little lamb\" has the bigrams \"_~ Mary_\", \"_Mary has_\", \"_has a_\", \"_a little_\", \"_little lamb_\", and \"_lamb ~_\".\n",
        "\n",
        "__Note 2:__ You don't need to do any further text processing beyond what has already been done before.\n",
        "\n",
        "__Note 3:__ For the usage of `collections.Counter`, you can refer to [its python doc](https://docs.python.org/3/library/collections.html#collections.Counter)."
      ]
    },
    {
      "cell_type": "code",
      "execution_count": 10,
      "metadata": {
        "pycharm": {
          "name": "#%%\n"
        },
        "tags": [],
        "id": "2e33ebbwl3GU"
      },
      "outputs": [],
      "source": [
        "def generate_ngrams(text: List[str], n: int) -> Counter:\n",
        "    \"\"\"Generates all n-grams (i.e. n-1 context words) for the given text.\n",
        "\n",
        "    Parameters\n",
        "    ----------\n",
        "    text : List[str]\n",
        "        Input text (list of strings) after tokenization.\n",
        "    n : int\n",
        "        n-gram parameter (must be greater than or equal to 1).\n",
        "\n",
        "    Returns\n",
        "    -------\n",
        "    ngrams : Counter\n",
        "        Output n-grams dictionary as {ngram: count} (Dict[Tuple, int]),\n",
        "        where `ngram` is a n-gram tuple and `count` is an integer count.\n",
        "        e.g. ('Mary','has') and value as count of the n-gram in the text.\n",
        "    \"\"\"\n",
        "    assert (isinstance(n, int) and n > 0)\n",
        "\n",
        "    ngrams = Counter()\n",
        "\n",
        "    # TODO: Your code here.\n",
        "    len_text = len(text)\n",
        "\n",
        "    for i in range(len_text - n + 1):\n",
        "        ngram = tuple(text[i:i + n])\n",
        "        ngrams[ngram] += 1\n",
        "\n",
        "    ...\n",
        "\n",
        "    return ngrams\n",
        "\n",
        "\n",
        "def generate_ngrams_sentences(text: List[List[str]], n: int) -> Counter:\n",
        "    \"\"\"Generates n-grams for each sentence and aggregates them.\"\"\"\n",
        "    all_ngrams = Counter()\n",
        "    for sentence in text:\n",
        "        all_ngrams.update(generate_ngrams(sentence, n))\n",
        "    return all_ngrams"
      ]
    },
    {
      "cell_type": "code",
      "execution_count": 11,
      "metadata": {
        "pycharm": {
          "name": "#%%\n"
        },
        "scrolled": true,
        "tags": [],
        "id": "b9nXynL4l3GV",
        "outputId": "5d090b55-40cb-4d54-8ffa-c5f1d390d9c9",
        "colab": {
          "base_uri": "https://localhost:8080/"
        }
      },
      "outputs": [
        {
          "output_type": "stream",
          "name": "stdout",
          "text": [
            "[['well', 'prince', 'so', 'genoa', 'and', 'lucca', 'are', 'now', 'just', 'family', 'estates', 'of', 'the', 'buonapartes'], ['but', 'i', 'warn', 'you', 'if', 'you', 'don', 't', 'tell', 'me', 'that', 'this', 'means', 'war', 'if', 'you', 'still', 'try', 'to', 'defend', 'the', 'infamies', 'and', 'horrors', 'perpetrated', 'by', 'that', 'antichrist', 'i', 'really', 'believe', 'he', 'is', 'antichrist', 'i', 'will', 'have', 'nothing', 'more', 'to', 'do', 'with', 'you', 'and', 'you', 'are', 'no', 'longer', 'my', 'friend', 'no', 'longer', 'my', 'faithful', 'slave', 'as', 'you', 'call', 'yourself'], ['but', 'how', 'do', 'you', 'do'], ['i', 'see', 'i', 'have', 'frightened', 'you', 'sit', 'down', 'and', 'tell', 'me', 'all', 'the', 'news'], ['it', 'was', 'in', 'july', '1805', 'and', 'the', 'speaker', 'was', 'the', 'well', 'known', 'anna', 'pavlovna', 'scherer', 'maid', 'of', 'honor', 'and', 'favorite', 'of', 'the', 'empress', 'marya', 'fedorovna'], ['with', 'these', 'words', 'she', 'greeted', 'prince', 'vasili', 'kuragin', 'a', 'man', 'of', 'high', 'rank', 'and', 'importance', 'who', 'was', 'the', 'first', 'to', 'arrive', 'at', 'her', 'reception'], ['anna', 'pavlovna', 'had', 'had', 'a', 'cough', 'for', 'some', 'days'], ['she', 'was', 'as', 'she', 'said', 'suffering', 'from', 'la', 'grippe', 'grippe', 'being', 'then', 'a', 'new', 'word', 'in', 'st', 'petersburg', 'used', 'only', 'by', 'the', 'elite'], ['all', 'her', 'invitations', 'without', 'exception', 'written', 'in', 'french', 'and', 'delivered', 'by', 'a', 'scarlet', 'liveried', 'footman', 'that', 'morning', 'ran', 'as', 'follows', 'if', 'you', 'have', 'nothing', 'better', 'to', 'do', 'count', 'or', 'prince', 'and', 'if', 'the', 'prospect', 'of', 'spending', 'an', 'evening', 'with', 'a', 'poor', 'invalid', 'is', 'not', 'too', 'terrible', 'i', 'shall', 'be', 'very', 'charmed', 'to', 'see', 'you', 'tonight', 'between', '7', 'and', '10', 'annette', 'scherer'], ['heavens']]\n",
            "Counter({('no', 'longer', 'my'): 2, ('well', 'prince', 'so'): 1, ('prince', 'so', 'genoa'): 1, ('so', 'genoa', 'and'): 1, ('genoa', 'and', 'lucca'): 1, ('and', 'lucca', 'are'): 1, ('lucca', 'are', 'now'): 1, ('are', 'now', 'just'): 1, ('now', 'just', 'family'): 1, ('just', 'family', 'estates'): 1, ('family', 'estates', 'of'): 1, ('estates', 'of', 'the'): 1, ('of', 'the', 'buonapartes'): 1, ('but', 'i', 'warn'): 1, ('i', 'warn', 'you'): 1, ('warn', 'you', 'if'): 1, ('you', 'if', 'you'): 1, ('if', 'you', 'don'): 1, ('you', 'don', 't'): 1, ('don', 't', 'tell'): 1, ('t', 'tell', 'me'): 1, ('tell', 'me', 'that'): 1, ('me', 'that', 'this'): 1, ('that', 'this', 'means'): 1, ('this', 'means', 'war'): 1, ('means', 'war', 'if'): 1, ('war', 'if', 'you'): 1, ('if', 'you', 'still'): 1, ('you', 'still', 'try'): 1, ('still', 'try', 'to'): 1, ('try', 'to', 'defend'): 1, ('to', 'defend', 'the'): 1, ('defend', 'the', 'infamies'): 1, ('the', 'infamies', 'and'): 1, ('infamies', 'and', 'horrors'): 1, ('and', 'horrors', 'perpetrated'): 1, ('horrors', 'perpetrated', 'by'): 1, ('perpetrated', 'by', 'that'): 1, ('by', 'that', 'antichrist'): 1, ('that', 'antichrist', 'i'): 1, ('antichrist', 'i', 'really'): 1, ('i', 'really', 'believe'): 1, ('really', 'believe', 'he'): 1, ('believe', 'he', 'is'): 1, ('he', 'is', 'antichrist'): 1, ('is', 'antichrist', 'i'): 1, ('antichrist', 'i', 'will'): 1, ('i', 'will', 'have'): 1, ('will', 'have', 'nothing'): 1, ('have', 'nothing', 'more'): 1, ('nothing', 'more', 'to'): 1, ('more', 'to', 'do'): 1, ('to', 'do', 'with'): 1, ('do', 'with', 'you'): 1, ('with', 'you', 'and'): 1, ('you', 'and', 'you'): 1, ('and', 'you', 'are'): 1, ('you', 'are', 'no'): 1, ('are', 'no', 'longer'): 1, ('longer', 'my', 'friend'): 1, ('my', 'friend', 'no'): 1, ('friend', 'no', 'longer'): 1, ('longer', 'my', 'faithful'): 1, ('my', 'faithful', 'slave'): 1, ('faithful', 'slave', 'as'): 1, ('slave', 'as', 'you'): 1, ('as', 'you', 'call'): 1, ('you', 'call', 'yourself'): 1, ('but', 'how', 'do'): 1, ('how', 'do', 'you'): 1, ('do', 'you', 'do'): 1, ('i', 'see', 'i'): 1, ('see', 'i', 'have'): 1, ('i', 'have', 'frightened'): 1, ('have', 'frightened', 'you'): 1, ('frightened', 'you', 'sit'): 1, ('you', 'sit', 'down'): 1, ('sit', 'down', 'and'): 1, ('down', 'and', 'tell'): 1, ('and', 'tell', 'me'): 1, ('tell', 'me', 'all'): 1, ('me', 'all', 'the'): 1, ('all', 'the', 'news'): 1, ('it', 'was', 'in'): 1, ('was', 'in', 'july'): 1, ('in', 'july', '1805'): 1, ('july', '1805', 'and'): 1, ('1805', 'and', 'the'): 1, ('and', 'the', 'speaker'): 1, ('the', 'speaker', 'was'): 1, ('speaker', 'was', 'the'): 1, ('was', 'the', 'well'): 1, ('the', 'well', 'known'): 1, ('well', 'known', 'anna'): 1, ('known', 'anna', 'pavlovna'): 1, ('anna', 'pavlovna', 'scherer'): 1, ('pavlovna', 'scherer', 'maid'): 1, ('scherer', 'maid', 'of'): 1, ('maid', 'of', 'honor'): 1, ('of', 'honor', 'and'): 1, ('honor', 'and', 'favorite'): 1, ('and', 'favorite', 'of'): 1, ('favorite', 'of', 'the'): 1, ('of', 'the', 'empress'): 1, ('the', 'empress', 'marya'): 1, ('empress', 'marya', 'fedorovna'): 1, ('with', 'these', 'words'): 1, ('these', 'words', 'she'): 1, ('words', 'she', 'greeted'): 1, ('she', 'greeted', 'prince'): 1, ('greeted', 'prince', 'vasili'): 1, ('prince', 'vasili', 'kuragin'): 1, ('vasili', 'kuragin', 'a'): 1, ('kuragin', 'a', 'man'): 1, ('a', 'man', 'of'): 1, ('man', 'of', 'high'): 1, ('of', 'high', 'rank'): 1, ('high', 'rank', 'and'): 1, ('rank', 'and', 'importance'): 1, ('and', 'importance', 'who'): 1, ('importance', 'who', 'was'): 1, ('who', 'was', 'the'): 1, ('was', 'the', 'first'): 1, ('the', 'first', 'to'): 1, ('first', 'to', 'arrive'): 1, ('to', 'arrive', 'at'): 1, ('arrive', 'at', 'her'): 1, ('at', 'her', 'reception'): 1, ('anna', 'pavlovna', 'had'): 1, ('pavlovna', 'had', 'had'): 1, ('had', 'had', 'a'): 1, ('had', 'a', 'cough'): 1, ('a', 'cough', 'for'): 1, ('cough', 'for', 'some'): 1, ('for', 'some', 'days'): 1, ('she', 'was', 'as'): 1, ('was', 'as', 'she'): 1, ('as', 'she', 'said'): 1, ('she', 'said', 'suffering'): 1, ('said', 'suffering', 'from'): 1, ('suffering', 'from', 'la'): 1, ('from', 'la', 'grippe'): 1, ('la', 'grippe', 'grippe'): 1, ('grippe', 'grippe', 'being'): 1, ('grippe', 'being', 'then'): 1, ('being', 'then', 'a'): 1, ('then', 'a', 'new'): 1, ('a', 'new', 'word'): 1, ('new', 'word', 'in'): 1, ('word', 'in', 'st'): 1, ('in', 'st', 'petersburg'): 1, ('st', 'petersburg', 'used'): 1, ('petersburg', 'used', 'only'): 1, ('used', 'only', 'by'): 1, ('only', 'by', 'the'): 1, ('by', 'the', 'elite'): 1, ('all', 'her', 'invitations'): 1, ('her', 'invitations', 'without'): 1, ('invitations', 'without', 'exception'): 1, ('without', 'exception', 'written'): 1, ('exception', 'written', 'in'): 1, ('written', 'in', 'french'): 1, ('in', 'french', 'and'): 1, ('french', 'and', 'delivered'): 1, ('and', 'delivered', 'by'): 1, ('delivered', 'by', 'a'): 1, ('by', 'a', 'scarlet'): 1, ('a', 'scarlet', 'liveried'): 1, ('scarlet', 'liveried', 'footman'): 1, ('liveried', 'footman', 'that'): 1, ('footman', 'that', 'morning'): 1, ('that', 'morning', 'ran'): 1, ('morning', 'ran', 'as'): 1, ('ran', 'as', 'follows'): 1, ('as', 'follows', 'if'): 1, ('follows', 'if', 'you'): 1, ('if', 'you', 'have'): 1, ('you', 'have', 'nothing'): 1, ('have', 'nothing', 'better'): 1, ('nothing', 'better', 'to'): 1, ('better', 'to', 'do'): 1, ('to', 'do', 'count'): 1, ('do', 'count', 'or'): 1, ('count', 'or', 'prince'): 1, ('or', 'prince', 'and'): 1, ('prince', 'and', 'if'): 1, ('and', 'if', 'the'): 1, ('if', 'the', 'prospect'): 1, ('the', 'prospect', 'of'): 1, ('prospect', 'of', 'spending'): 1, ('of', 'spending', 'an'): 1, ('spending', 'an', 'evening'): 1, ('an', 'evening', 'with'): 1, ('evening', 'with', 'a'): 1, ('with', 'a', 'poor'): 1, ('a', 'poor', 'invalid'): 1, ('poor', 'invalid', 'is'): 1, ('invalid', 'is', 'not'): 1, ('is', 'not', 'too'): 1, ('not', 'too', 'terrible'): 1, ('too', 'terrible', 'i'): 1, ('terrible', 'i', 'shall'): 1, ('i', 'shall', 'be'): 1, ('shall', 'be', 'very'): 1, ('be', 'very', 'charmed'): 1, ('very', 'charmed', 'to'): 1, ('charmed', 'to', 'see'): 1, ('to', 'see', 'you'): 1, ('see', 'you', 'tonight'): 1, ('you', 'tonight', 'between'): 1, ('tonight', 'between', '7'): 1, ('between', '7', 'and'): 1, ('7', 'and', '10'): 1, ('and', '10', 'annette'): 1, ('10', 'annette', 'scherer'): 1})\n"
          ]
        }
      ],
      "source": [
        "# Test your implementation on some sentences from the corpus we downloaded above\n",
        "# and verify if it works correctly.\n",
        "text = corpus[:10]\n",
        "print(text)\n",
        "\n",
        "ngrams = generate_ngrams_sentences(text, 3)\n",
        "print(ngrams)"
      ]
    },
    {
      "cell_type": "code",
      "execution_count": 9,
      "metadata": {
        "deletable": false,
        "editable": false,
        "id": "pgDfiTQjl3GV",
        "outputId": "e800033c-446b-4e61-a588-9ed7e2af3529",
        "colab": {
          "base_uri": "https://localhost:8080/",
          "height": 906
        }
      },
      "outputs": [
        {
          "output_type": "execute_result",
          "data": {
            "text/plain": [
              "warmup-ngram results:\n",
              "    warmup-ngram - 1 result:\n",
              "        Test case passed!\n",
              "\n",
              "    warmup-ngram - 2 message: Failed in unigram and bigram test.\n",
              "\n",
              "    warmup-ngram - 2 result:\n",
              "        Trying:\n",
              "            def hid_test_simple_unigram():\n",
              "                unigrams = generate_ngrams_sentences(['Introduction to Human Language Technology is an interesting course to learn natural language processing .'.split()], 1)\n",
              "                references = Counter({('Introduction',): 1,\n",
              "                     ('to',): 2,\n",
              "                     ('Human',): 1,\n",
              "                     ('Language',): 1,\n",
              "                     ('Technology',): 1,\n",
              "                     ('is',): 1,\n",
              "                     ('an',): 1,\n",
              "                     ('interesting',): 1,\n",
              "                     ('course',): 1,\n",
              "                     ('learn',): 1,\n",
              "                     ('natural',): 1,\n",
              "                     ('language',): 1,\n",
              "                     ('processing',): 1,\n",
              "                     ('.',): 1})\n",
              "                assert set(unigrams.keys()) == set(references.keys()), f'Expect:\\n\\t\\t{set(references.keys())}\\nGot:\\n\\t\\t{set(unigrams.keys())}.'\n",
              "                for k in references.keys():\n",
              "                    assert unigrams[k] == references[k]\n",
              "        \n",
              "        Expecting nothing\n",
              "        ok\n",
              "        Trying:\n",
              "            hid_test_simple_unigram()\n",
              "        Expecting nothing\n",
              "        **********************************************************************\n",
              "        Line 21, in warmup-ngram 1\n",
              "        Failed example:\n",
              "            hid_test_simple_unigram()\n",
              "        Exception raised:\n",
              "            Traceback (most recent call last):\n",
              "              File \"/usr/lib/python3.12/doctest.py\", line 1368, in __run\n",
              "                exec(compile(example.source, filename, \"single\",\n",
              "              File \"<doctest warmup-ngram 1[1]>\", line 1, in <module>\n",
              "                hid_test_simple_unigram()\n",
              "              File \"<doctest warmup-ngram 1[0]>\", line 17, in hid_test_simple_unigram\n",
              "                assert set(unigrams.keys()) == set(references.keys()), f'Expect:\\n\\t\\t{set(references.keys())}\\nGot:\\n\\t\\t{set(unigrams.keys())}.'\n",
              "                       ^^^^^^^^^^^^^^^^^^^^^^^^^^^^^^^^^^^^^^^^^^^^^^\n",
              "            AssertionError: Expect:\n",
              "            \t\t{('language',), ('interesting',), ('Human',), ('natural',), ('an',), ('Language',), ('to',), ('Introduction',), ('.',), ('learn',), ('Technology',), ('processing',), ('is',), ('course',)}\n",
              "            Got:\n",
              "            \t\tset()."
            ],
            "text/html": [
              "<p><strong style='color: red;'><pre style='display: inline;'>warmup-ngram</pre> results:</strong></p><p><strong><pre style='display: inline;'>warmup-ngram - 1</pre> result:</strong></p><pre>    Test case passed!</pre><p><strong><pre style='display: inline;'>warmup-ngram - 2</pre> message:</strong> Failed in unigram and bigram test.</p><p><strong><pre style='display: inline;'>warmup-ngram - 2</pre> result:</strong></p><pre>    Trying:\n",
              "        def hid_test_simple_unigram():\n",
              "            unigrams = generate_ngrams_sentences(['Introduction to Human Language Technology is an interesting course to learn natural language processing .'.split()], 1)\n",
              "            references = Counter({('Introduction',): 1,\n",
              "                 ('to',): 2,\n",
              "                 ('Human',): 1,\n",
              "                 ('Language',): 1,\n",
              "                 ('Technology',): 1,\n",
              "                 ('is',): 1,\n",
              "                 ('an',): 1,\n",
              "                 ('interesting',): 1,\n",
              "                 ('course',): 1,\n",
              "                 ('learn',): 1,\n",
              "                 ('natural',): 1,\n",
              "                 ('language',): 1,\n",
              "                 ('processing',): 1,\n",
              "                 ('.',): 1})\n",
              "            assert set(unigrams.keys()) == set(references.keys()), f'Expect:\\n\\t\\t{set(references.keys())}\\nGot:\\n\\t\\t{set(unigrams.keys())}.'\n",
              "            for k in references.keys():\n",
              "                assert unigrams[k] == references[k]\n",
              "        \n",
              "    Expecting nothing\n",
              "    ok\n",
              "    Trying:\n",
              "        hid_test_simple_unigram()\n",
              "    Expecting nothing\n",
              "    **********************************************************************\n",
              "    Line 21, in warmup-ngram 1\n",
              "    Failed example:\n",
              "        hid_test_simple_unigram()\n",
              "    Exception raised:\n",
              "        Traceback (most recent call last):\n",
              "          File \"/usr/lib/python3.12/doctest.py\", line 1368, in __run\n",
              "            exec(compile(example.source, filename, \"single\",\n",
              "          File \"<doctest warmup-ngram 1[1]>\", line 1, in <module>\n",
              "            hid_test_simple_unigram()\n",
              "          File \"<doctest warmup-ngram 1[0]>\", line 17, in hid_test_simple_unigram\n",
              "            assert set(unigrams.keys()) == set(references.keys()), f'Expect:\\n\\t\\t{set(references.keys())}\\nGot:\\n\\t\\t{set(unigrams.keys())}.'\n",
              "                   ^^^^^^^^^^^^^^^^^^^^^^^^^^^^^^^^^^^^^^^^^^^^^^\n",
              "        AssertionError: Expect:\n",
              "        \t\t{('language',), ('interesting',), ('Human',), ('natural',), ('an',), ('Language',), ('to',), ('Introduction',), ('.',), ('learn',), ('Technology',), ('processing',), ('is',), ('course',)}\n",
              "        Got:\n",
              "        \t\tset().\n",
              "</pre>"
            ]
          },
          "metadata": {},
          "execution_count": 9
        }
      ],
      "source": [
        "grader.check(\"warmup-ngram\")"
      ]
    },
    {
      "cell_type": "markdown",
      "metadata": {
        "id": "igo0_GcfRcX7",
        "pycharm": {
          "name": "#%% md\n"
        }
      },
      "source": [
        "<!-- BEGIN QUESTION -->\n",
        "\n",
        "__Question:__ Plot a histogram of counts vs. number of unigrams with that count (you can choose a subset of the corpus, say 500 sentences). Repeat for bigrams and trigrams. They should be all placed into a single plot. _(3 points)_"
      ]
    },
    {
      "cell_type": "code",
      "execution_count": 10,
      "metadata": {
        "pycharm": {
          "name": "#%%\n"
        },
        "tags": [],
        "id": "pccdFETSl3GV",
        "outputId": "fea653a4-2ed4-443a-8191-36913f945e99",
        "colab": {
          "base_uri": "https://localhost:8080/",
          "height": 487
        }
      },
      "outputs": [
        {
          "output_type": "display_data",
          "data": {
            "text/plain": [
              "<Figure size 640x480 with 3 Axes>"
            ],
            "image/png": "[encoded data removed]"
          },
          "metadata": {}
        }
      ],
      "source": [
        "fig, axs = plt.subplots(1, 3, tight_layout=True)\n",
        "\n",
        "# Picks a subset of the corpus\n",
        "# TODO: Your code here\n",
        "...\n",
        "\n",
        "# Unigram counts\n",
        "# TODO: Your code here\n",
        "...\n",
        "\n",
        "# Bigram counts\n",
        "# TODO: Your code here\n",
        "...\n",
        "\n",
        "# Trigram counts\n",
        "# TODO: Your code here\n",
        "...\n",
        "\n",
        "plt.show()"
      ]
    },
    {
      "cell_type": "markdown",
      "metadata": {
        "pycharm": {
          "name": "#%% md\n"
        },
        "id": "lOBzYm5Yl3GV"
      },
      "source": [
        "<!-- END QUESTION -->\n",
        "\n",
        "<!-- BEGIN QUESTION -->\n",
        "\n",
        "__Question:__ What observation can you make from the plots? _(2 points)_"
      ]
    },
    {
      "cell_type": "markdown",
      "metadata": {
        "pycharm": {
          "name": "#%% md\n"
        },
        "id": "4m3ctuMZl3GV"
      },
      "source": [
        "__Answer:__"
      ]
    },
    {
      "cell_type": "markdown",
      "metadata": {
        "id": "FHw3RXbPl3GW"
      },
      "source": [
        "_Type your answer here, replacing this text._"
      ]
    },
    {
      "cell_type": "markdown",
      "metadata": {
        "id": "GtFid2zSLIaU",
        "pycharm": {
          "name": "#%% md\n"
        }
      },
      "source": [
        "<!-- END QUESTION -->\n",
        "\n",
        "### Implementing an n-gram language model\n",
        "\n",
        "Next, you will implement a class for an trigram (n=3) language model. This will be a barebones trigram LM, i.e., no smoothing or OOV handling is required. Complete\n",
        "the functions in the following `NgramLM` class. _(20 points)_\n",
        "\n",
        "Note that the class itself is\n",
        "for a general n-gram LM, but we will instantiate it with n=3."
      ]
    },
    {
      "cell_type": "markdown",
      "metadata": {
        "id": "v8sHS1fYl3GW"
      },
      "source": [
        "_Type your answer here, replacing this text._"
      ]
    },
    {
      "cell_type": "code",
      "execution_count": 11,
      "metadata": {
        "id": "TEDwFtlFMNhP",
        "pycharm": {
          "name": "#%%\n"
        },
        "tags": []
      },
      "outputs": [],
      "source": [
        "class NgramLM(object):\n",
        "    \"\"\"A basic n-gram language model without any smoothing.\"\"\"\n",
        "\n",
        "    def __init__(self, n: int):\n",
        "        assert (isinstance(n, int) and n > 0)\n",
        "\n",
        "        self.n: int = n\n",
        "        self.vocab: Set[str] = set()  # A set of all words appearing in the corpus.\n",
        "        self.ngrams = Counter()  # count(ABC) - Dict[Tuple, int]\n",
        "        self.ngram_contexts = Counter()  # count(AB) - Dict[Tuple, int]\n",
        "        self.contexts = defaultdict(set)  # {AB: {C1,C2,C2}} - Dict[Tuple, Set[str]]\n",
        "\n",
        "    def generate_ngrams(self, text: List[str]) -> Counter:\n",
        "        \"\"\"Generates all n-grams (i.e. n-1 context words) for the given text.\n",
        "        In this method, we assume n is defined at the class initialization,\n",
        "        so you should use `self.n`.\n",
        "\n",
        "        Parameters\n",
        "        ----------\n",
        "        text : List[str]\n",
        "            Input text (list of strings) after tokenization.\n",
        "\n",
        "        Returns\n",
        "        -------\n",
        "        ngrams : Counter\n",
        "            Output n-grams dictionary as {ngram: count} (Dict[Tuple, int]),\n",
        "            where `ngram` is a n-gram tuple and `count` is an integer count.\n",
        "            e.g. ('Mary','has') and value as count of the n-gram in the text.\n",
        "        \"\"\"\n",
        "        return generate_ngrams(text, self.n)\n",
        "\n",
        "    def generate_ngrams_sentences(self, text: List[List[str]]) -> Counter:\n",
        "        \"\"\"Generates n-grams for each sentence and aggregates them.\"\"\"\n",
        "        return generate_ngrams_sentences(text, self.n)\n",
        "\n",
        "    def update(self, text: List[str]):\n",
        "        \"\"\"Updates the model n-grams based on the given text input.\n",
        "\n",
        "        Parameters\n",
        "        ----------\n",
        "        text : List[str]\n",
        "        \"\"\"\n",
        "        # TODO: Your code here\n",
        "        ...\n",
        "\n",
        "    def word_prob(self, context: Tuple[str], word: str) -> float:\n",
        "        \"\"\"Returns the probability of a word given a context. The context is a\n",
        "        string of words, with length n-1.\n",
        "\n",
        "        Parameters\n",
        "        ----------\n",
        "        context : Tuple[str]\n",
        "            A tuple of words describing the context for the next word.\n",
        "        word : str\n",
        "            The next word that the probability is computed for.\n",
        "\n",
        "        Returns\n",
        "        -------\n",
        "        prob : float\n",
        "            The estimated probability of the next word given the context.\n",
        "        \"\"\"\n",
        "        # TODO: Your code here\n",
        "        ...\n",
        "\n",
        "    def next_word_candidates(self, context: Tuple[str]) -> List[str]:\n",
        "        \"\"\"Generates a list of tokens based on the given context, which would be\n",
        "        later used as candidates for the next word prediction.\n",
        "\n",
        "        Parameters\n",
        "        ----------\n",
        "        context : Tuple[str]\n",
        "            A tuple of words describing the context for the next word.\n",
        "\n",
        "        Returns\n",
        "        -------\n",
        "        words : List[str]\n",
        "            A list of candidate tokens for the next word.\n",
        "        \"\"\"\n",
        "        # TODO: Your code here\n",
        "        ...\n",
        "\n",
        "    def random_word(self, context: Tuple[str]) -> str:\n",
        "        \"\"\"Generates a random word based on the given context.\n",
        "\n",
        "        Note:\n",
        "        Please use a random function from `random` instead of `numpy`;\n",
        "        otherwise, the autograder might not be happy.\n",
        "\n",
        "        Parameters\n",
        "        ----------\n",
        "        context : Tuple[str]\n",
        "            A tuple of words describing the context for the next word.\n",
        "\n",
        "        Returns\n",
        "        -------\n",
        "        word : str\n",
        "            One randomly drawn word from the distribution defined given the context.\n",
        "        \"\"\"\n",
        "        assert context in self.contexts, f'Encountered unseen context={context}.'\n",
        "\n",
        "        # TODO: Your code here\n",
        "        ...\n",
        "\n",
        "    def random_text(self, length: int) -> List[str]:\n",
        "        \"\"\"Generates random text of the specified word length excluding \"~\" (BOS).\n",
        "\n",
        "        Note:\n",
        "        - The final word of the generated text *can* be \"~\" (EOS), but it is not necessary.\n",
        "        - The generation should always start with \"~\" (BOS).\n",
        "        - Only the number of starting \"~\" (BOS) is excluded from the generation, any\n",
        "        ending \"~\" (EOS) is still counted to the `length`. It means that you should\n",
        "        draw a number of `length` samples.\n",
        "\n",
        "        Note:\n",
        "        Please use a random function from `random` instead of `numpy`;\n",
        "        otherwise, the autograder might not be happy.\n",
        "\n",
        "        Parameters\n",
        "        ----------\n",
        "        length : int\n",
        "            The designated length to generate.\n",
        "\n",
        "        \"\"\"\n",
        "        # TODO: Your code here\n",
        "        ..."
      ]
    },
    {
      "cell_type": "code",
      "execution_count": 12,
      "metadata": {
        "cellView": "code",
        "id": "8krtKhK7XLbM",
        "pycharm": {
          "name": "#%%\n"
        },
        "tags": []
      },
      "outputs": [],
      "source": [
        "# Training block for a trigram language model\n",
        "trigramlm = NgramLM(3)\n",
        "for sentence in corpus:\n",
        "    trigramlm.update(sentence)"
      ]
    },
    {
      "cell_type": "code",
      "execution_count": 13,
      "metadata": {
        "deletable": false,
        "editable": false,
        "id": "Cs_N0phol3GW",
        "outputId": "d438eae9-5a8a-4c3e-a273-9a970150ce87",
        "colab": {
          "base_uri": "https://localhost:8080/",
          "height": 1000
        }
      },
      "outputs": [
        {
          "output_type": "execute_result",
          "data": {
            "text/plain": [
              "ngramlm-impl results:\n",
              "    ngramlm-impl - 1 message: Failed testing `.update()` method.\n",
              "\n",
              "    ngramlm-impl - 1 result:\n",
              "        Trying:\n",
              "            def pub_test_check_update():\n",
              "                trigram_to_test = NgramLM(n=3)\n",
              "                trigram_to_test.update(corpus[0])\n",
              "        \n",
              "                # contexts\n",
              "                for ctx, words in random.choices(list(trigramlm.contexts.items()), k=10):\n",
              "                    ngram_words = set()\n",
              "                    for ng, count in trigramlm.ngrams.items():\n",
              "                        if ng[:-1] != ctx:\n",
              "                            continue\n",
              "                        ngram_words.add(ng[-1])\n",
              "                    assert words == ngram_words, f'Seen words in `contexts` do not match with `ngrams`, {words} != {ngram_words}'\n",
              "        \n",
              "                # vocab\n",
              "                ref_vocab = {'and', 'are', 'buonapartes', 'estates', 'family', 'genoa', 'just', 'lucca', 'now', 'of', 'prince', 'so', 'the', 'well', '~'}\n",
              "                assert '~' in trigramlm.vocab, '~ is not in the Vocab.'\n",
              "                assert len(trigram_to_test.vocab & ref_vocab) == 15, 'Vocab is not updated correctly.'\n",
              "        \n",
              "                # ngrams\n",
              "                ref_counter = Counter({('~', '~', 'well'): 1,\n",
              "                     ('~', 'well', 'prince'): 1,\n",
              "                     ('well', 'prince', 'so'): 1,\n",
              "                     ('prince', 'so', 'genoa'): 1,\n",
              "                     ('so', 'genoa', 'and'): 1,\n",
              "                     ('genoa', 'and', 'lucca'): 1,\n",
              "                     ('and', 'lucca', 'are'): 1,\n",
              "                     ('lucca', 'are', 'now'): 1,\n",
              "                     ('are', 'now', 'just'): 1,\n",
              "                     ('now', 'just', 'family'): 1,\n",
              "                     ('just', 'family', 'estates'): 1,\n",
              "                     ('family', 'estates', 'of'): 1,\n",
              "                     ('estates', 'of', 'the'): 1,\n",
              "                     ('of', 'the', 'buonapartes'): 1,\n",
              "                     ('the', 'buonapartes', '~'): 1,\n",
              "                     ('buonapartes', '~', '~'): 1})\n",
              "                assert set(trigram_to_test.ngrams.keys()) == set(ref_counter.keys()), 'Wrong ngram counting.'\n",
              "                for k in ref_counter.keys():\n",
              "                    assert trigram_to_test.ngrams[k] == ref_counter[k], f'{trigram_to_test.ngrams[k]} != {ref_counter[k]}'\n",
              "            \n",
              "                # ngram_contexts\n",
              "                context_ref_counter = Counter({('~', '~'): 1,\n",
              "                     ('~', 'well'): 1,\n",
              "                     ('well', 'prince'): 1,\n",
              "                     ('prince', 'so'): 1,\n",
              "                     ('so', 'genoa'): 1,\n",
              "                     ('genoa', 'and'): 1,\n",
              "                     ('and', 'lucca'): 1,\n",
              "                     ('lucca', 'are'): 1,\n",
              "                     ('are', 'now'): 1,\n",
              "                     ('now', 'just'): 1,\n",
              "                     ('just', 'family'): 1,\n",
              "                     ('family', 'estates'): 1,\n",
              "                     ('estates', 'of'): 1,\n",
              "                     ('of', 'the'): 1,\n",
              "                     ('the', 'buonapartes'): 1,\n",
              "                     ('buonapartes', '~'): 1})\n",
              "                assert set(trigram_to_test.ngram_contexts.keys()) == set(context_ref_counter.keys()), 'Wrong ngram context updates.'\n",
              "                for k in context_ref_counter.keys():\n",
              "                    assert trigram_to_test.ngram_contexts[k] == context_ref_counter[k], f'{trigram_to_test.ngram_contexts[k]} != {context_ref_counter[k]}'\n",
              "        Expecting nothing\n",
              "        ok\n",
              "        Trying:\n",
              "            pub_test_check_update()\n",
              "        Expecting nothing\n",
              "        **********************************************************************\n",
              "        Line 61, in ngramlm-impl 0\n",
              "        Failed example:\n",
              "            pub_test_check_update()\n",
              "        Exception raised:\n",
              "            Traceback (most recent call last):\n",
              "              File \"/usr/lib/python3.12/doctest.py\", line 1368, in __run\n",
              "                exec(compile(example.source, filename, \"single\",\n",
              "              File \"<doctest ngramlm-impl 0[1]>\", line 1, in <module>\n",
              "                pub_test_check_update()\n",
              "              File \"<doctest ngramlm-impl 0[0]>\", line 6, in pub_test_check_update\n",
              "                for ctx, words in random.choices(list(trigramlm.contexts.items()), k=10):\n",
              "                                  ^^^^^^^^^^^^^^^^^^^^^^^^^^^^^^^^^^^^^^^^^^^^^^^^^^^^^^\n",
              "              File \"/usr/lib/python3.12/random.py\", line 467, in choices\n",
              "                return [population[floor(random() * n)] for i in _repeat(None, k)]\n",
              "                        ~~~~~~~~~~^^^^^^^^^^^^^^^^^^^^^\n",
              "            IndexError: list index out of range\n",
              "\n",
              "    ngramlm-impl - 2 message: Failed testing `.next_word_candidates()`.\n",
              "\n",
              "    ngramlm-impl - 2 result:\n",
              "        Trying:\n",
              "            def pub_test_next_word_candidates():\n",
              "                inclusion_check = {'infantry', 'charming', 'tomorrow', 'flower', 'shouts', 'twice', 'mutiny', 'zhilinski', 'their', 'mishka'}\n",
              "                for i in inclusion_check:\n",
              "                    assert i in trigramlm.next_word_candidates(('~', '~')), f'{i} is not included under (~, ~)'\n",
              "        \n",
              "                inclusion_check_2 = {'another', 'her', 'nesvitski', 'princess', 'something', 'the', 'zherkov', '~'}\n",
              "                for i in inclusion_check_2:\n",
              "                    assert i in trigramlm.next_word_candidates(('them', 'said')), f'{i} is not included under (them, said)'\n",
              "        Expecting nothing\n",
              "        ok\n",
              "        Trying:\n",
              "            pub_test_next_word_candidates()\n",
              "        Expecting nothing\n",
              "        **********************************************************************\n",
              "        Line 10, in ngramlm-impl 1\n",
              "        Failed example:\n",
              "            pub_test_next_word_candidates()\n",
              "        Exception raised:\n",
              "            Traceback (most recent call last):\n",
              "              File \"/usr/lib/python3.12/doctest.py\", line 1368, in __run\n",
              "                exec(compile(example.source, filename, \"single\",\n",
              "              File \"<doctest ngramlm-impl 1[1]>\", line 1, in <module>\n",
              "                pub_test_next_word_candidates()\n",
              "              File \"<doctest ngramlm-impl 1[0]>\", line 4, in pub_test_next_word_candidates\n",
              "                assert i in trigramlm.next_word_candidates(('~', '~')), f'{i} is not included under (~, ~)'\n",
              "                       ^^^^^^^^^^^^^^^^^^^^^^^^^^^^^^^^^^^^^^^^^^^^^^^\n",
              "            TypeError: argument of type 'NoneType' is not iterable\n",
              "\n",
              "    ngramlm-impl - 3 message: Failed testing `.word_prob()`.\n",
              "\n",
              "    ngramlm-impl - 3 result:\n",
              "        Trying:\n",
              "            def pub_test_word_prob():\n",
              "                assert np.isclose(trigramlm.word_prob(('~', '~'), 'hi'), 6.24e-05, atol=1e-7)\n",
              "                assert np.isclose(trigramlm.word_prob(('~', '~'), 'another'), 0.0014357, atol=1e-7)\n",
              "                assert np.isclose(trigramlm.word_prob(('the', 'gentle'), 'princess') , 0.25, atol=1e-7)\n",
              "                assert np.isclose(trigramlm.word_prob(('to', 'a'), 'battle'), 0.00873362, atol=1e-7)\n",
              "                assert np.isclose(trigramlm.word_prob(('to', 'a'), 'trot'), 0.0131004, atol=1e-7)\n",
              "        \n",
              "        Expecting nothing\n",
              "        ok\n",
              "        Trying:\n",
              "            pub_test_word_prob()\n",
              "        Expecting nothing\n",
              "        **********************************************************************\n",
              "        Line 8, in ngramlm-impl 2\n",
              "        Failed example:\n",
              "            pub_test_word_prob()\n",
              "        Exception raised:\n",
              "            Traceback (most recent call last):\n",
              "              File \"/usr/lib/python3.12/doctest.py\", line 1368, in __run\n",
              "                exec(compile(example.source, filename, \"single\",\n",
              "              File \"<doctest ngramlm-impl 2[1]>\", line 1, in <module>\n",
              "                pub_test_word_prob()\n",
              "              File \"<doctest ngramlm-impl 2[0]>\", line 2, in pub_test_word_prob\n",
              "                assert np.isclose(trigramlm.word_prob(('~', '~'), 'hi'), 6.24e-05, atol=1e-7)\n",
              "                       ^^^^^^^^^^^^^^^^^^^^^^^^^^^^^^^^^^^^^^^^^^^^^^^^^^^^^^^^^^^^^^^^^^^^^^\n",
              "              File \"/usr/local/lib/python3.12/dist-packages/numpy/_core/numeric.py\", line 2417, in isclose\n",
              "                result = (less_equal(abs(x-y), atol + rtol * abs(y))\n",
              "                                         ~^~\n",
              "            TypeError: unsupported operand type(s) for -: 'NoneType' and 'float'\n",
              "\n",
              "    ngramlm-impl - 4 message: Failed testing `.random_word()`.\n",
              "\n",
              "    ngramlm-impl - 4 result:\n",
              "        Trying:\n",
              "            def pub_test_random_word():\n",
              "                candidates = {'bad', 'ball', 'battle', 'battlefield', 'bear', 'big', 'blue', 'bookshop', 'borzoi', 'breadth', 'broad', 'brother', 'building', 'bullet', 'campaign', 'campfire', 'cannon', 'captaincy', 'cart', 'cause', 'certain', 'chair', 'chit', 'churlish', 'close', 'column', 'common', 'commotion', 'companion', 'company', 'comrade', 'conclusion', 'cone', 'conflict', 'conjunction', 'consultation', 'convoy', 'copse', 'corner', 'cornetcy', 'corresponding', 'cossack', 'countess', 'country', 'crowd', 'custom', 'daughter', 'demand', 'different', 'diplomatic', 'disgrace', 'dispatch', 'distant', 'dresser', 'duel', 'feeling', 'fellow', 'fete', 'field', 'fight', 'folk', 'footman', 'former', 'french', 'frenchman', 'friend', 'frightened', 'functionary', 'gallop', 'general', 'gentleman', 'great', 'group', 'halt', 'head', 'heavy', 'herd', 'high', 'higher', 'hole', 'horse', 'hotel', 'house', 'husband', 'knoll', 'lackey', 'lady', 'large', 'lesser', 'little', 'long', 'man', 'map', 'merchant', 'mirror', 'mosque', 'mounted', 'new', 'newly', 'noble', 'pale', 'partner', 'party', 'path', 'patriotic', 'peasant', 'pistil', 'place', 'polish', 'portly', 'power', 'prince', 'printed', 'prominent', 'promised', 'proposal', 'reception', 'remark', 'remote', 'republican', 'reunion', 'review', 'roman', 'round', 'running', 'russian', 'savage', 'secondary', 'series', 'simple', 'single', 'small', 'smart', 'society', 'soldier', 'spot', 'staff', 'standstill', 'stop', 'stout', 'stranger', 'sublieutenancy', 'suffering', 'suggestion', 'superficial', 'sutler', 'tall', 'thin', 'third', 'thousand', 'trot', 'tune', 'turreted', 'very', 'vision', 'vivid', 'walk', 'want', 'well', 'whole', 'wizard', 'woman', 'wounded'}\n",
              "                gen_seq = [trigramlm.random_word(('to', 'a')) for _ in range(10)]\n",
              "                for w in gen_seq:\n",
              "                    assert w in candidates, f'{w} should be one of the candidates'\n",
              "        Expecting nothing\n",
              "        ok\n",
              "        Trying:\n",
              "            pub_test_random_word()\n",
              "        Expecting nothing\n",
              "        **********************************************************************\n",
              "        Line 7, in ngramlm-impl 3\n",
              "        Failed example:\n",
              "            pub_test_random_word()\n",
              "        Exception raised:\n",
              "            Traceback (most recent call last):\n",
              "              File \"/usr/lib/python3.12/doctest.py\", line 1368, in __run\n",
              "                exec(compile(example.source, filename, \"single\",\n",
              "              File \"<doctest ngramlm-impl 3[1]>\", line 1, in <module>\n",
              "                pub_test_random_word()\n",
              "              File \"<doctest ngramlm-impl 3[0]>\", line 3, in pub_test_random_word\n",
              "                gen_seq = [trigramlm.random_word(('to', 'a')) for _ in range(10)]\n",
              "                           ^^^^^^^^^^^^^^^^^^^^^^^^^^^^^^^^^^\n",
              "              File \"/tmp/ipython-input-3063498423.py\", line 99, in random_word\n",
              "                assert context in self.contexts, f'Encountered unseen context={context}.'\n",
              "                       ^^^^^^^^^^^^^^^^^^^^^^^^\n",
              "            AssertionError: Encountered unseen context=('to', 'a').\n",
              "\n",
              "    ngramlm-impl - 5 message: Failed testing `.random_text()`.\n",
              "\n",
              "    ngramlm-impl - 5 result:\n",
              "        Trying:\n",
              "            def pub_test_random_text(): \n",
              "                gen_seq = [trigramlm.random_text(i) for i in range(2, 10)]\n",
              "                for seq in gen_seq:\n",
              "                    for grams in zip(*[seq[i:] for i in range(trigramlm.n)]):\n",
              "                        assert grams[-1] in trigramlm.contexts[tuple(grams[:-1])], f'Unseen word {grams[-1]} was generated.'\n",
              "        Expecting nothing\n",
              "        ok\n",
              "        Trying:\n",
              "            pub_test_random_text()\n",
              "        Expecting nothing\n",
              "        **********************************************************************\n",
              "        Line 7, in ngramlm-impl 4\n",
              "        Failed example:\n",
              "            pub_test_random_text()\n",
              "        Exception raised:\n",
              "            Traceback (most recent call last):\n",
              "              File \"/usr/lib/python3.12/doctest.py\", line 1368, in __run\n",
              "                exec(compile(example.source, filename, \"single\",\n",
              "              File \"<doctest ngramlm-impl 4[1]>\", line 1, in <module>\n",
              "                pub_test_random_text()\n",
              "              File \"<doctest ngramlm-impl 4[0]>\", line 4, in pub_test_random_text\n",
              "                for grams in zip(*[seq[i:] for i in range(trigramlm.n)]):\n",
              "                                   ~~~^^^^\n",
              "            TypeError: 'NoneType' object is not subscriptable"
            ],
            "text/html": [
              "<p><strong style='color: red;'><pre style='display: inline;'>ngramlm-impl</pre> results:</strong></p><p><strong><pre style='display: inline;'>ngramlm-impl - 1</pre> message:</strong> Failed testing `.update()` method.</p><p><strong><pre style='display: inline;'>ngramlm-impl - 1</pre> result:</strong></p><pre>    Trying:\n",
              "        def pub_test_check_update():\n",
              "            trigram_to_test = NgramLM(n=3)\n",
              "            trigram_to_test.update(corpus[0])\n",
              "        \n",
              "            # contexts\n",
              "            for ctx, words in random.choices(list(trigramlm.contexts.items()), k=10):\n",
              "                ngram_words = set()\n",
              "                for ng, count in trigramlm.ngrams.items():\n",
              "                    if ng[:-1] != ctx:\n",
              "                        continue\n",
              "                    ngram_words.add(ng[-1])\n",
              "                assert words == ngram_words, f'Seen words in `contexts` do not match with `ngrams`, {words} != {ngram_words}'\n",
              "        \n",
              "            # vocab\n",
              "            ref_vocab = {'and', 'are', 'buonapartes', 'estates', 'family', 'genoa', 'just', 'lucca', 'now', 'of', 'prince', 'so', 'the', 'well', '~'}\n",
              "            assert '~' in trigramlm.vocab, '~ is not in the Vocab.'\n",
              "            assert len(trigram_to_test.vocab & ref_vocab) == 15, 'Vocab is not updated correctly.'\n",
              "        \n",
              "            # ngrams\n",
              "            ref_counter = Counter({('~', '~', 'well'): 1,\n",
              "                 ('~', 'well', 'prince'): 1,\n",
              "                 ('well', 'prince', 'so'): 1,\n",
              "                 ('prince', 'so', 'genoa'): 1,\n",
              "                 ('so', 'genoa', 'and'): 1,\n",
              "                 ('genoa', 'and', 'lucca'): 1,\n",
              "                 ('and', 'lucca', 'are'): 1,\n",
              "                 ('lucca', 'are', 'now'): 1,\n",
              "                 ('are', 'now', 'just'): 1,\n",
              "                 ('now', 'just', 'family'): 1,\n",
              "                 ('just', 'family', 'estates'): 1,\n",
              "                 ('family', 'estates', 'of'): 1,\n",
              "                 ('estates', 'of', 'the'): 1,\n",
              "                 ('of', 'the', 'buonapartes'): 1,\n",
              "                 ('the', 'buonapartes', '~'): 1,\n",
              "                 ('buonapartes', '~', '~'): 1})\n",
              "            assert set(trigram_to_test.ngrams.keys()) == set(ref_counter.keys()), 'Wrong ngram counting.'\n",
              "            for k in ref_counter.keys():\n",
              "                assert trigram_to_test.ngrams[k] == ref_counter[k], f'{trigram_to_test.ngrams[k]} != {ref_counter[k]}'\n",
              "            \n",
              "            # ngram_contexts\n",
              "            context_ref_counter = Counter({('~', '~'): 1,\n",
              "                 ('~', 'well'): 1,\n",
              "                 ('well', 'prince'): 1,\n",
              "                 ('prince', 'so'): 1,\n",
              "                 ('so', 'genoa'): 1,\n",
              "                 ('genoa', 'and'): 1,\n",
              "                 ('and', 'lucca'): 1,\n",
              "                 ('lucca', 'are'): 1,\n",
              "                 ('are', 'now'): 1,\n",
              "                 ('now', 'just'): 1,\n",
              "                 ('just', 'family'): 1,\n",
              "                 ('family', 'estates'): 1,\n",
              "                 ('estates', 'of'): 1,\n",
              "                 ('of', 'the'): 1,\n",
              "                 ('the', 'buonapartes'): 1,\n",
              "                 ('buonapartes', '~'): 1})\n",
              "            assert set(trigram_to_test.ngram_contexts.keys()) == set(context_ref_counter.keys()), 'Wrong ngram context updates.'\n",
              "            for k in context_ref_counter.keys():\n",
              "                assert trigram_to_test.ngram_contexts[k] == context_ref_counter[k], f'{trigram_to_test.ngram_contexts[k]} != {context_ref_counter[k]}'\n",
              "    Expecting nothing\n",
              "    ok\n",
              "    Trying:\n",
              "        pub_test_check_update()\n",
              "    Expecting nothing\n",
              "    **********************************************************************\n",
              "    Line 61, in ngramlm-impl 0\n",
              "    Failed example:\n",
              "        pub_test_check_update()\n",
              "    Exception raised:\n",
              "        Traceback (most recent call last):\n",
              "          File \"/usr/lib/python3.12/doctest.py\", line 1368, in __run\n",
              "            exec(compile(example.source, filename, \"single\",\n",
              "          File \"<doctest ngramlm-impl 0[1]>\", line 1, in <module>\n",
              "            pub_test_check_update()\n",
              "          File \"<doctest ngramlm-impl 0[0]>\", line 6, in pub_test_check_update\n",
              "            for ctx, words in random.choices(list(trigramlm.contexts.items()), k=10):\n",
              "                              ^^^^^^^^^^^^^^^^^^^^^^^^^^^^^^^^^^^^^^^^^^^^^^^^^^^^^^\n",
              "          File \"/usr/lib/python3.12/random.py\", line 467, in choices\n",
              "            return [population[floor(random() * n)] for i in _repeat(None, k)]\n",
              "                    ~~~~~~~~~~^^^^^^^^^^^^^^^^^^^^^\n",
              "        IndexError: list index out of range\n",
              "</pre><p><strong><pre style='display: inline;'>ngramlm-impl - 2</pre> message:</strong> Failed testing `.next_word_candidates()`.</p><p><strong><pre style='display: inline;'>ngramlm-impl - 2</pre> result:</strong></p><pre>    Trying:\n",
              "        def pub_test_next_word_candidates():\n",
              "            inclusion_check = {'infantry', 'charming', 'tomorrow', 'flower', 'shouts', 'twice', 'mutiny', 'zhilinski', 'their', 'mishka'}\n",
              "            for i in inclusion_check:\n",
              "                assert i in trigramlm.next_word_candidates(('~', '~')), f'{i} is not included under (~, ~)'\n",
              "        \n",
              "            inclusion_check_2 = {'another', 'her', 'nesvitski', 'princess', 'something', 'the', 'zherkov', '~'}\n",
              "            for i in inclusion_check_2:\n",
              "                assert i in trigramlm.next_word_candidates(('them', 'said')), f'{i} is not included under (them, said)'\n",
              "    Expecting nothing\n",
              "    ok\n",
              "    Trying:\n",
              "        pub_test_next_word_candidates()\n",
              "    Expecting nothing\n",
              "    **********************************************************************\n",
              "    Line 10, in ngramlm-impl 1\n",
              "    Failed example:\n",
              "        pub_test_next_word_candidates()\n",
              "    Exception raised:\n",
              "        Traceback (most recent call last):\n",
              "          File \"/usr/lib/python3.12/doctest.py\", line 1368, in __run\n",
              "            exec(compile(example.source, filename, \"single\",\n",
              "          File \"<doctest ngramlm-impl 1[1]>\", line 1, in <module>\n",
              "            pub_test_next_word_candidates()\n",
              "          File \"<doctest ngramlm-impl 1[0]>\", line 4, in pub_test_next_word_candidates\n",
              "            assert i in trigramlm.next_word_candidates(('~', '~')), f'{i} is not included under (~, ~)'\n",
              "                   ^^^^^^^^^^^^^^^^^^^^^^^^^^^^^^^^^^^^^^^^^^^^^^^\n",
              "        TypeError: argument of type 'NoneType' is not iterable\n",
              "</pre><p><strong><pre style='display: inline;'>ngramlm-impl - 3</pre> message:</strong> Failed testing `.word_prob()`.</p><p><strong><pre style='display: inline;'>ngramlm-impl - 3</pre> result:</strong></p><pre>    Trying:\n",
              "        def pub_test_word_prob():\n",
              "            assert np.isclose(trigramlm.word_prob(('~', '~'), 'hi'), 6.24e-05, atol=1e-7)\n",
              "            assert np.isclose(trigramlm.word_prob(('~', '~'), 'another'), 0.0014357, atol=1e-7)\n",
              "            assert np.isclose(trigramlm.word_prob(('the', 'gentle'), 'princess') , 0.25, atol=1e-7)\n",
              "            assert np.isclose(trigramlm.word_prob(('to', 'a'), 'battle'), 0.00873362, atol=1e-7)\n",
              "            assert np.isclose(trigramlm.word_prob(('to', 'a'), 'trot'), 0.0131004, atol=1e-7)\n",
              "        \n",
              "    Expecting nothing\n",
              "    ok\n",
              "    Trying:\n",
              "        pub_test_word_prob()\n",
              "    Expecting nothing\n",
              "    **********************************************************************\n",
              "    Line 8, in ngramlm-impl 2\n",
              "    Failed example:\n",
              "        pub_test_word_prob()\n",
              "    Exception raised:\n",
              "        Traceback (most recent call last):\n",
              "          File \"/usr/lib/python3.12/doctest.py\", line 1368, in __run\n",
              "            exec(compile(example.source, filename, \"single\",\n",
              "          File \"<doctest ngramlm-impl 2[1]>\", line 1, in <module>\n",
              "            pub_test_word_prob()\n",
              "          File \"<doctest ngramlm-impl 2[0]>\", line 2, in pub_test_word_prob\n",
              "            assert np.isclose(trigramlm.word_prob(('~', '~'), 'hi'), 6.24e-05, atol=1e-7)\n",
              "                   ^^^^^^^^^^^^^^^^^^^^^^^^^^^^^^^^^^^^^^^^^^^^^^^^^^^^^^^^^^^^^^^^^^^^^^\n",
              "          File \"/usr/local/lib/python3.12/dist-packages/numpy/_core/numeric.py\", line 2417, in isclose\n",
              "            result = (less_equal(abs(x-y), atol + rtol * abs(y))\n",
              "                                     ~^~\n",
              "        TypeError: unsupported operand type(s) for -: 'NoneType' and 'float'\n",
              "</pre><p><strong><pre style='display: inline;'>ngramlm-impl - 4</pre> message:</strong> Failed testing `.random_word()`.</p><p><strong><pre style='display: inline;'>ngramlm-impl - 4</pre> result:</strong></p><pre>    Trying:\n",
              "        def pub_test_random_word():\n",
              "            candidates = {'bad', 'ball', 'battle', 'battlefield', 'bear', 'big', 'blue', 'bookshop', 'borzoi', 'breadth', 'broad', 'brother', 'building', 'bullet', 'campaign', 'campfire', 'cannon', 'captaincy', 'cart', 'cause', 'certain', 'chair', 'chit', 'churlish', 'close', 'column', 'common', 'commotion', 'companion', 'company', 'comrade', 'conclusion', 'cone', 'conflict', 'conjunction', 'consultation', 'convoy', 'copse', 'corner', 'cornetcy', 'corresponding', 'cossack', 'countess', 'country', 'crowd', 'custom', 'daughter', 'demand', 'different', 'diplomatic', 'disgrace', 'dispatch', 'distant', 'dresser', 'duel', 'feeling', 'fellow', 'fete', 'field', 'fight', 'folk', 'footman', 'former', 'french', 'frenchman', 'friend', 'frightened', 'functionary', 'gallop', 'general', 'gentleman', 'great', 'group', 'halt', 'head', 'heavy', 'herd', 'high', 'higher', 'hole', 'horse', 'hotel', 'house', 'husband', 'knoll', 'lackey', 'lady', 'large', 'lesser', 'little', 'long', 'man', 'map', 'merchant', 'mirror', 'mosque', 'mounted', 'new', 'newly', 'noble', 'pale', 'partner', 'party', 'path', 'patriotic', 'peasant', 'pistil', 'place', 'polish', 'portly', 'power', 'prince', 'printed', 'prominent', 'promised', 'proposal', 'reception', 'remark', 'remote', 'republican', 'reunion', 'review', 'roman', 'round', 'running', 'russian', 'savage', 'secondary', 'series', 'simple', 'single', 'small', 'smart', 'society', 'soldier', 'spot', 'staff', 'standstill', 'stop', 'stout', 'stranger', 'sublieutenancy', 'suffering', 'suggestion', 'superficial', 'sutler', 'tall', 'thin', 'third', 'thousand', 'trot', 'tune', 'turreted', 'very', 'vision', 'vivid', 'walk', 'want', 'well', 'whole', 'wizard', 'woman', 'wounded'}\n",
              "            gen_seq = [trigramlm.random_word(('to', 'a')) for _ in range(10)]\n",
              "            for w in gen_seq:\n",
              "                assert w in candidates, f'{w} should be one of the candidates'\n",
              "    Expecting nothing\n",
              "    ok\n",
              "    Trying:\n",
              "        pub_test_random_word()\n",
              "    Expecting nothing\n",
              "    **********************************************************************\n",
              "    Line 7, in ngramlm-impl 3\n",
              "    Failed example:\n",
              "        pub_test_random_word()\n",
              "    Exception raised:\n",
              "        Traceback (most recent call last):\n",
              "          File \"/usr/lib/python3.12/doctest.py\", line 1368, in __run\n",
              "            exec(compile(example.source, filename, \"single\",\n",
              "          File \"<doctest ngramlm-impl 3[1]>\", line 1, in <module>\n",
              "            pub_test_random_word()\n",
              "          File \"<doctest ngramlm-impl 3[0]>\", line 3, in pub_test_random_word\n",
              "            gen_seq = [trigramlm.random_word(('to', 'a')) for _ in range(10)]\n",
              "                       ^^^^^^^^^^^^^^^^^^^^^^^^^^^^^^^^^^\n",
              "          File \"/tmp/ipython-input-3063498423.py\", line 99, in random_word\n",
              "            assert context in self.contexts, f'Encountered unseen context={context}.'\n",
              "                   ^^^^^^^^^^^^^^^^^^^^^^^^\n",
              "        AssertionError: Encountered unseen context=('to', 'a').\n",
              "</pre><p><strong><pre style='display: inline;'>ngramlm-impl - 5</pre> message:</strong> Failed testing `.random_text()`.</p><p><strong><pre style='display: inline;'>ngramlm-impl - 5</pre> result:</strong></p><pre>    Trying:\n",
              "        def pub_test_random_text(): \n",
              "            gen_seq = [trigramlm.random_text(i) for i in range(2, 10)]\n",
              "            for seq in gen_seq:\n",
              "                for grams in zip(*[seq[i:] for i in range(trigramlm.n)]):\n",
              "                    assert grams[-1] in trigramlm.contexts[tuple(grams[:-1])], f'Unseen word {grams[-1]} was generated.'\n",
              "    Expecting nothing\n",
              "    ok\n",
              "    Trying:\n",
              "        pub_test_random_text()\n",
              "    Expecting nothing\n",
              "    **********************************************************************\n",
              "    Line 7, in ngramlm-impl 4\n",
              "    Failed example:\n",
              "        pub_test_random_text()\n",
              "    Exception raised:\n",
              "        Traceback (most recent call last):\n",
              "          File \"/usr/lib/python3.12/doctest.py\", line 1368, in __run\n",
              "            exec(compile(example.source, filename, \"single\",\n",
              "          File \"<doctest ngramlm-impl 4[1]>\", line 1, in <module>\n",
              "            pub_test_random_text()\n",
              "          File \"<doctest ngramlm-impl 4[0]>\", line 4, in pub_test_random_text\n",
              "            for grams in zip(*[seq[i:] for i in range(trigramlm.n)]):\n",
              "                               ~~~^^^^\n",
              "        TypeError: 'NoneType' object is not subscriptable\n",
              "</pre>"
            ]
          },
          "metadata": {},
          "execution_count": 13
        }
      ],
      "source": [
        "grader.check(\"ngramlm-impl\")"
      ]
    },
    {
      "cell_type": "markdown",
      "metadata": {
        "pycharm": {
          "name": "#%% md\n"
        },
        "id": "6tjcHSLol3GX"
      },
      "source": [
        "__Question:__ What is the size of the training data (number of tokens)? _(1 point)_"
      ]
    },
    {
      "cell_type": "code",
      "execution_count": 14,
      "metadata": {
        "pycharm": {
          "name": "#%%\n"
        },
        "tags": [],
        "id": "vNh0lq9Jl3GX",
        "outputId": "20153ea2-a259-4a80-83b0-7a3f8d1e5adc",
        "colab": {
          "base_uri": "https://localhost:8080/"
        }
      },
      "outputs": [
        {
          "output_type": "execute_result",
          "data": {
            "text/plain": [
              "Ellipsis"
            ]
          },
          "metadata": {},
          "execution_count": 14
        }
      ],
      "source": [
        "training_corpus_size = ...\n",
        "training_corpus_size"
      ]
    },
    {
      "cell_type": "markdown",
      "metadata": {
        "pycharm": {
          "name": "#%% md\n"
        },
        "id": "iTHJnKx_l3GX"
      },
      "source": [
        "__Question:__ What is the size of the vocabulary? _(1 point)_"
      ]
    },
    {
      "cell_type": "code",
      "execution_count": 15,
      "metadata": {
        "pycharm": {
          "name": "#%%\n"
        },
        "tags": [],
        "id": "TFblKI62l3GX",
        "outputId": "d049ea30-2ec1-478c-8620-8630803e6d00",
        "colab": {
          "base_uri": "https://localhost:8080/"
        }
      },
      "outputs": [
        {
          "output_type": "execute_result",
          "data": {
            "text/plain": [
              "Ellipsis"
            ]
          },
          "metadata": {},
          "execution_count": 15
        }
      ],
      "source": [
        "trigramlm_vocab_size = ...\n",
        "trigramlm_vocab_size"
      ]
    },
    {
      "cell_type": "markdown",
      "metadata": {
        "pycharm": {
          "name": "#%% md\n"
        },
        "id": "shhXhONFl3GX"
      },
      "source": [
        "<!-- BEGIN QUESTION -->\n",
        "\n",
        "__Question:__ What is the optimal time complexity of computing ngrams? How long does the training take? _(2 points)_\n",
        "\n",
        "*Note*: please use big-O notation to show the time complexity and explain variables involved accordingly."
      ]
    },
    {
      "cell_type": "markdown",
      "metadata": {
        "pycharm": {
          "name": "#%% md\n"
        },
        "id": "6vVw8VHJl3GX"
      },
      "source": [
        "__Answer:__"
      ]
    },
    {
      "cell_type": "markdown",
      "metadata": {
        "id": "yL12R_YBl3GX"
      },
      "source": [
        "_Type your answer here, replacing this text._"
      ]
    },
    {
      "cell_type": "code",
      "execution_count": 16,
      "metadata": {
        "pycharm": {
          "name": "#%%\n"
        },
        "tags": [],
        "id": "bgVeiqNMl3GX",
        "outputId": "08583976-64ef-40c8-dda6-9cdef817886d",
        "colab": {
          "base_uri": "https://localhost:8080/"
        }
      },
      "outputs": [
        {
          "output_type": "execute_result",
          "data": {
            "text/plain": [
              "Ellipsis"
            ]
          },
          "metadata": {},
          "execution_count": 16
        }
      ],
      "source": [
        "# TODO: put the training time (in ms) of a trigram LM below.\n",
        "trigram_training_time = ...\n",
        "trigram_training_time"
      ]
    },
    {
      "cell_type": "markdown",
      "metadata": {
        "pycharm": {
          "name": "#%% md\n"
        },
        "id": "5RC2nZbUl3GX"
      },
      "source": [
        "<!-- END QUESTION -->\n",
        "\n",
        "<!-- BEGIN QUESTION -->\n",
        "\n",
        "__Question:__ How would the training time scale if you have a corpus containing 1 billion tokens? Is this training time reasonable? If not, can you think of ways to improve it? _(2 points)_"
      ]
    },
    {
      "cell_type": "markdown",
      "metadata": {
        "id": "Dlxn8YSdasgO",
        "pycharm": {
          "name": "#%% md\n"
        }
      },
      "source": [
        "__Answer:__"
      ]
    },
    {
      "cell_type": "markdown",
      "metadata": {
        "id": "kQ3k6C5pl3GX"
      },
      "source": [
        "_Type your answer here, replacing this text._"
      ]
    },
    {
      "cell_type": "markdown",
      "metadata": {
        "id": "RxTPrtaKbzf5",
        "pycharm": {
          "name": "#%% md\n"
        }
      },
      "source": [
        "<!-- END QUESTION -->\n",
        "\n",
        "#### Predicting/generating text using the trained LM\n",
        "\n",
        "One of the applications of an LM is to automatically predict the next word given a context (such as in Smart Keyboards), or to generate a piece of text of a given length. Use the `random_word` and `random_text` functions you implemented earlier to answer the questions below. For full credit, you need to show how you arrived at the answer."
      ]
    },
    {
      "cell_type": "markdown",
      "metadata": {
        "id": "dgQQ-KgTeGFm",
        "pycharm": {
          "name": "#%% md\n"
        }
      },
      "source": [
        "__Question:__ Please implement the function that computes an empirical distribution for the next word prediction conditioning on a context. Consider the context \"by her\". You can generate a random word for a large number of times, say 1000, using this context and count how many times each word are generated to calculate its empirical probability accordingly. _(3 points)_"
      ]
    },
    {
      "cell_type": "code",
      "execution_count": 17,
      "metadata": {
        "pycharm": {
          "name": "#%%\n"
        },
        "tags": [],
        "id": "Hrr8pjJCl3GX"
      },
      "outputs": [],
      "source": [
        "def compute_empirical_distribution(model: NgramLM, context: Tuple[str], num_samples: int) -> Dict[str, float]:\n",
        "    \"\"\"Computes an empirical distribution for the next word conditioning on the given context.\n",
        "\n",
        "    Parameters\n",
        "    ----------\n",
        "    model : NgramLM\n",
        "        A trained Ngram Language Model.\n",
        "    context : Tuple[str]\n",
        "        The context used to predict a next word.\n",
        "    num_samples : int\n",
        "        The number of samples to be drawn to compute the empirical distribution.\n",
        "\n",
        "    Returns\n",
        "    -------\n",
        "    emp_distr : Dict[str, float]\n",
        "        An empirical distribution for the next word\n",
        "\n",
        "    \"\"\"\n",
        "    emp_distr: Dict[str, float] = {}\n",
        "\n",
        "    # TODO: Your code here\n",
        "    ...\n",
        "\n",
        "    return emp_distr"
      ]
    },
    {
      "cell_type": "code",
      "execution_count": 18,
      "metadata": {
        "pycharm": {
          "name": "#%%\n"
        },
        "scrolled": true,
        "tags": [],
        "id": "5tLy5kSjl3GX",
        "outputId": "b4e190c1-f223-499f-ce84-3d6423f5ca4f",
        "colab": {
          "base_uri": "https://localhost:8080/"
        }
      },
      "outputs": [
        {
          "output_type": "execute_result",
          "data": {
            "text/plain": [
              "{}"
            ]
          },
          "metadata": {},
          "execution_count": 18
        }
      ],
      "source": [
        "compute_empirical_distribution(trigramlm, ('by', 'her'), 1000)"
      ]
    },
    {
      "cell_type": "code",
      "execution_count": 19,
      "metadata": {
        "deletable": false,
        "editable": false,
        "id": "12AAUdZpl3GX",
        "outputId": "87a4364d-e3c9-4ce5-c572-711bfec374cc",
        "colab": {
          "base_uri": "https://localhost:8080/",
          "height": 1000
        }
      },
      "outputs": [
        {
          "output_type": "execute_result",
          "data": {
            "text/plain": [
              "ngramlm-empirical-distribution results:\n",
              "    ngramlm-empirical-distribution - 1 message: Empirical distribution does not sum to 1.\n",
              "\n",
              "    ngramlm-empirical-distribution - 1 result:\n",
              "        Trying:\n",
              "            def pub_test_emp_distr_sum_to_1():\n",
              "                assert np.isclose(sum(compute_empirical_distribution(trigramlm, ('by', 'her'), 1000).values()), 1.)\n",
              "                assert np.isclose(sum(compute_empirical_distribution(trigramlm, ('~', '~'), 1000).values()), 1.)\n",
              "                assert np.isclose(sum(compute_empirical_distribution(trigramlm, ('hi', 'there'), 1000).values()), 1.)\n",
              "        \n",
              "        Expecting nothing\n",
              "        ok\n",
              "        Trying:\n",
              "            pub_test_emp_distr_sum_to_1()\n",
              "        Expecting nothing\n",
              "        **********************************************************************\n",
              "        Line 6, in ngramlm-empirical-distribution 0\n",
              "        Failed example:\n",
              "            pub_test_emp_distr_sum_to_1()\n",
              "        Exception raised:\n",
              "            Traceback (most recent call last):\n",
              "              File \"/usr/lib/python3.12/doctest.py\", line 1368, in __run\n",
              "                exec(compile(example.source, filename, \"single\",\n",
              "              File \"<doctest ngramlm-empirical-distribution 0[1]>\", line 1, in <module>\n",
              "                pub_test_emp_distr_sum_to_1()\n",
              "              File \"<doctest ngramlm-empirical-distribution 0[0]>\", line 2, in pub_test_emp_distr_sum_to_1\n",
              "                assert np.isclose(sum(compute_empirical_distribution(trigramlm, ('by', 'her'), 1000).values()), 1.)\n",
              "                       ^^^^^^^^^^^^^^^^^^^^^^^^^^^^^^^^^^^^^^^^^^^^^^^^^^^^^^^^^^^^^^^^^^^^^^^^^^^^^^^^^^^^^^^^^^^^\n",
              "            AssertionError\n",
              "\n",
              "    ngramlm-empirical-distribution - 2 message: Empirical distribution does not match the reference.\n",
              "\n",
              "    ngramlm-empirical-distribution - 2 result:\n",
              "        Trying:\n",
              "            def pub_test_emp_distr():\n",
              "                ref_emp_distr = {'a': 0.099, 'orders': 0.013, 'had': 0.031, 'noticed': 0.016, 'to': 0.053, 'nobody': 0.017, 'time': 0.013, 'been': 0.107, 'first': 0.022, 'done': 0.014, 'an': 0.01, 'tried': 0.011, 'no': 0.05, 'ten': 0.016, 'recognized': 0.024, 'brought': 0.014, 'not': 0.013, 'deserved': 0.013, 'the': 0.03, 'heard': 0.015, 'built': 0.015, 'lived': 0.016, 'each': 0.017, 'still': 0.011, 'abandoned': 0.01, 'gained': 0.033, 'quite': 0.013, 'sent': 0.011, 'only': 0.021, 'found': 0.01, 'agreed': 0.018, 'got': 0.014, 'command': 0.012, 'three': 0.014, 'forgotten': 0.01, 'worn': 0.009, 'lost': 0.012, 'engaged': 0.01, 'paid': 0.017, 'of': 0.01, 'trusted': 0.013, 'withdrawn': 0.016, 'altered': 0.014, 'thrown': 0.02, 'landed': 0.014, 'other': 0.012, 'fully': 0.009, 'played': 0.005, 'admitted': 0.011, 'grain': 0.008, 'everything': 0.006, 'once': 0.008}\n",
              "                sys_emp_distr = compute_empirical_distribution(trigramlm, ('we', 'have'), 10000)\n",
              "                for word, prob in ref_emp_distr.items():\n",
              "                    assert np.isclose(sys_emp_distr[word], prob, atol=2e-2), f'emp_prob={sys_emp_distr[word]}, prob={prob}'\n",
              "        \n",
              "        Expecting nothing\n",
              "        ok\n",
              "        Trying:\n",
              "            pub_test_emp_distr()\n",
              "        Expecting nothing\n",
              "        **********************************************************************\n",
              "        Line 7, in ngramlm-empirical-distribution 1\n",
              "        Failed example:\n",
              "            pub_test_emp_distr()\n",
              "        Exception raised:\n",
              "            Traceback (most recent call last):\n",
              "              File \"/usr/lib/python3.12/doctest.py\", line 1368, in __run\n",
              "                exec(compile(example.source, filename, \"single\",\n",
              "              File \"<doctest ngramlm-empirical-distribution 1[1]>\", line 1, in <module>\n",
              "                pub_test_emp_distr()\n",
              "              File \"<doctest ngramlm-empirical-distribution 1[0]>\", line 5, in pub_test_emp_distr\n",
              "                assert np.isclose(sys_emp_distr[word], prob, atol=2e-2), f'emp_prob={sys_emp_distr[word]}, prob={prob}'\n",
              "                                  ~~~~~~~~~~~~~^^^^^^\n",
              "            KeyError: 'a'"
            ],
            "text/html": [
              "<p><strong style='color: red;'><pre style='display: inline;'>ngramlm-empirical-distribution</pre> results:</strong></p><p><strong><pre style='display: inline;'>ngramlm-empirical-distribution - 1</pre> message:</strong> Empirical distribution does not sum to 1.</p><p><strong><pre style='display: inline;'>ngramlm-empirical-distribution - 1</pre> result:</strong></p><pre>    Trying:\n",
              "        def pub_test_emp_distr_sum_to_1():\n",
              "            assert np.isclose(sum(compute_empirical_distribution(trigramlm, ('by', 'her'), 1000).values()), 1.)\n",
              "            assert np.isclose(sum(compute_empirical_distribution(trigramlm, ('~', '~'), 1000).values()), 1.)\n",
              "            assert np.isclose(sum(compute_empirical_distribution(trigramlm, ('hi', 'there'), 1000).values()), 1.)\n",
              "        \n",
              "    Expecting nothing\n",
              "    ok\n",
              "    Trying:\n",
              "        pub_test_emp_distr_sum_to_1()\n",
              "    Expecting nothing\n",
              "    **********************************************************************\n",
              "    Line 6, in ngramlm-empirical-distribution 0\n",
              "    Failed example:\n",
              "        pub_test_emp_distr_sum_to_1()\n",
              "    Exception raised:\n",
              "        Traceback (most recent call last):\n",
              "          File \"/usr/lib/python3.12/doctest.py\", line 1368, in __run\n",
              "            exec(compile(example.source, filename, \"single\",\n",
              "          File \"<doctest ngramlm-empirical-distribution 0[1]>\", line 1, in <module>\n",
              "            pub_test_emp_distr_sum_to_1()\n",
              "          File \"<doctest ngramlm-empirical-distribution 0[0]>\", line 2, in pub_test_emp_distr_sum_to_1\n",
              "            assert np.isclose(sum(compute_empirical_distribution(trigramlm, ('by', 'her'), 1000).values()), 1.)\n",
              "                   ^^^^^^^^^^^^^^^^^^^^^^^^^^^^^^^^^^^^^^^^^^^^^^^^^^^^^^^^^^^^^^^^^^^^^^^^^^^^^^^^^^^^^^^^^^^^\n",
              "        AssertionError\n",
              "</pre><p><strong><pre style='display: inline;'>ngramlm-empirical-distribution - 2</pre> message:</strong> Empirical distribution does not match the reference.</p><p><strong><pre style='display: inline;'>ngramlm-empirical-distribution - 2</pre> result:</strong></p><pre>    Trying:\n",
              "        def pub_test_emp_distr():\n",
              "            ref_emp_distr = {'a': 0.099, 'orders': 0.013, 'had': 0.031, 'noticed': 0.016, 'to': 0.053, 'nobody': 0.017, 'time': 0.013, 'been': 0.107, 'first': 0.022, 'done': 0.014, 'an': 0.01, 'tried': 0.011, 'no': 0.05, 'ten': 0.016, 'recognized': 0.024, 'brought': 0.014, 'not': 0.013, 'deserved': 0.013, 'the': 0.03, 'heard': 0.015, 'built': 0.015, 'lived': 0.016, 'each': 0.017, 'still': 0.011, 'abandoned': 0.01, 'gained': 0.033, 'quite': 0.013, 'sent': 0.011, 'only': 0.021, 'found': 0.01, 'agreed': 0.018, 'got': 0.014, 'command': 0.012, 'three': 0.014, 'forgotten': 0.01, 'worn': 0.009, 'lost': 0.012, 'engaged': 0.01, 'paid': 0.017, 'of': 0.01, 'trusted': 0.013, 'withdrawn': 0.016, 'altered': 0.014, 'thrown': 0.02, 'landed': 0.014, 'other': 0.012, 'fully': 0.009, 'played': 0.005, 'admitted': 0.011, 'grain': 0.008, 'everything': 0.006, 'once': 0.008}\n",
              "            sys_emp_distr = compute_empirical_distribution(trigramlm, ('we', 'have'), 10000)\n",
              "            for word, prob in ref_emp_distr.items():\n",
              "                assert np.isclose(sys_emp_distr[word], prob, atol=2e-2), f'emp_prob={sys_emp_distr[word]}, prob={prob}'\n",
              "        \n",
              "    Expecting nothing\n",
              "    ok\n",
              "    Trying:\n",
              "        pub_test_emp_distr()\n",
              "    Expecting nothing\n",
              "    **********************************************************************\n",
              "    Line 7, in ngramlm-empirical-distribution 1\n",
              "    Failed example:\n",
              "        pub_test_emp_distr()\n",
              "    Exception raised:\n",
              "        Traceback (most recent call last):\n",
              "          File \"/usr/lib/python3.12/doctest.py\", line 1368, in __run\n",
              "            exec(compile(example.source, filename, \"single\",\n",
              "          File \"<doctest ngramlm-empirical-distribution 1[1]>\", line 1, in <module>\n",
              "            pub_test_emp_distr()\n",
              "          File \"<doctest ngramlm-empirical-distribution 1[0]>\", line 5, in pub_test_emp_distr\n",
              "            assert np.isclose(sys_emp_distr[word], prob, atol=2e-2), f'emp_prob={sys_emp_distr[word]}, prob={prob}'\n",
              "                              ~~~~~~~~~~~~~^^^^^^\n",
              "        KeyError: 'a'\n",
              "</pre>"
            ]
          },
          "metadata": {},
          "execution_count": 19
        }
      ],
      "source": [
        "grader.check(\"ngramlm-empirical-distribution\")"
      ]
    },
    {
      "cell_type": "markdown",
      "metadata": {
        "pycharm": {
          "name": "#%% md\n"
        },
        "id": "9wOIHp1-l3GY"
      },
      "source": [
        "<!-- BEGIN QUESTION -->\n",
        "\n",
        "__Question:__ Does the empirical probability match the output of `word_prob((\"by\", \"her\"), \"husband\")`? Could you explain why it matches or not? Could you propose a way to measure how the empirical distribution differs from the theoretical distribution? _(3 points)_"
      ]
    },
    {
      "cell_type": "markdown",
      "metadata": {
        "pycharm": {
          "name": "#%% md\n"
        },
        "id": "gej9Q0Ldl3GY"
      },
      "source": [
        "__Answer:__"
      ]
    },
    {
      "cell_type": "markdown",
      "metadata": {
        "id": "QjCgqKj4l3GY"
      },
      "source": [
        "_Type your answer here, replacing this text._"
      ]
    },
    {
      "cell_type": "markdown",
      "metadata": {
        "id": "iy7Rtc7L6psV",
        "pycharm": {
          "name": "#%% md\n"
        }
      },
      "source": [
        "<!-- END QUESTION -->\n",
        "\n",
        "<!-- BEGIN QUESTION -->\n",
        "\n",
        "__Question:__ Generate a random text of length 100 words. Comment on the local and global semantics of the generated text. _(2 points)_"
      ]
    },
    {
      "cell_type": "markdown",
      "metadata": {
        "pycharm": {
          "name": "#%% md\n"
        },
        "id": "kskAoByZl3GY"
      },
      "source": [
        "__Answer:__"
      ]
    },
    {
      "cell_type": "markdown",
      "metadata": {
        "id": "LtyaXjtrl3GY"
      },
      "source": [
        "_Type your answer here, replacing this text._"
      ]
    },
    {
      "cell_type": "code",
      "execution_count": 20,
      "metadata": {
        "pycharm": {
          "name": "#%%\n"
        },
        "tags": [],
        "id": "gcSrXyhwl3GY",
        "outputId": "7e13d61a-b3cb-41c3-a56f-1a54f811a350",
        "colab": {
          "base_uri": "https://localhost:8080/",
          "height": 176
        }
      },
      "outputs": [
        {
          "output_type": "error",
          "ename": "NameError",
          "evalue": "name 'generated_text' is not defined",
          "traceback": [
            "\u001b[0;31m---------------------------------------------------------------------------\u001b[0m",
            "\u001b[0;31mNameError\u001b[0m                                 Traceback (most recent call last)",
            "\u001b[0;32m/tmp/ipython-input-1533005392.py\u001b[0m in \u001b[0;36m<cell line: 0>\u001b[0;34m()\u001b[0m\n\u001b[1;32m      1\u001b[0m \u001b[0;31m# TODO: Your code here\u001b[0m\u001b[0;34m\u001b[0m\u001b[0;34m\u001b[0m\u001b[0m\n\u001b[1;32m      2\u001b[0m \u001b[0;34m\u001b[0m\u001b[0m\n\u001b[0;32m----> 3\u001b[0;31m \u001b[0mprint\u001b[0m\u001b[0;34m(\u001b[0m\u001b[0mgenerated_text\u001b[0m\u001b[0;34m)\u001b[0m  \u001b[0;31m# Please make sure this prints out a `str` instead of a `list`.\u001b[0m\u001b[0;34m\u001b[0m\u001b[0;34m\u001b[0m\u001b[0m\n\u001b[0m",
            "\u001b[0;31mNameError\u001b[0m: name 'generated_text' is not defined"
          ]
        }
      ],
      "source": [
        "# TODO: Your code here\n",
        "...\n",
        "print(generated_text)  # Please make sure this prints out a `str` instead of a `list`."
      ]
    },
    {
      "cell_type": "markdown",
      "metadata": {
        "pycharm": {
          "name": "#%% md\n"
        },
        "id": "wjqzn5COl3GY"
      },
      "source": [
        "<!-- END QUESTION -->\n",
        "\n",
        "<!-- BEGIN QUESTION -->\n",
        "\n",
        "__Question:__ Now train a 4-gram LM on the same data and generate a 100-word text again. Do you observe any differences between the outputs of the two models? _(2 points)_"
      ]
    },
    {
      "cell_type": "markdown",
      "metadata": {
        "pycharm": {
          "name": "#%% md\n"
        },
        "id": "iepuif9Al3GY"
      },
      "source": [
        "__Answer:__"
      ]
    },
    {
      "cell_type": "markdown",
      "metadata": {
        "id": "rs0ukwNMl3Ga"
      },
      "source": [
        "_Type your answer here, replacing this text._"
      ]
    },
    {
      "cell_type": "code",
      "execution_count": null,
      "metadata": {
        "pycharm": {
          "name": "#%%\n"
        },
        "scrolled": true,
        "tags": [],
        "id": "QFMvVRO4l3Ga"
      },
      "outputs": [],
      "source": [
        "# You should train you 4-gram model here in the same way as training a trigram model\n",
        "# You should use the same `corpus` for training\n",
        "qgramlm = ...\n",
        "qgramlm"
      ]
    },
    {
      "cell_type": "code",
      "execution_count": null,
      "metadata": {
        "pycharm": {
          "name": "#%%\n"
        },
        "tags": [],
        "id": "4EKOoAijl3Ga"
      },
      "outputs": [],
      "source": [
        "# TODO: Your code here\n",
        "...\n",
        "print(qgram_generated_text)  # Please make sure this prints out a `str` instead of a `list`."
      ]
    },
    {
      "cell_type": "markdown",
      "metadata": {
        "id": "dxh0pOSn9N1O",
        "pycharm": {
          "name": "#%% md\n"
        }
      },
      "source": [
        "<!-- END QUESTION -->\n",
        "\n",
        "### Evaluating the LM: Perplexity\n",
        "\n",
        "In the context of language modeling, perplexity measures how an LM predicts a sample. It is computed as the per word inverse probability of a held-out set:\n",
        "\n",
        "$$ Perplexity(W) = P(W_1 W_2 \\ldots W_N)^{-1/N} $$\n",
        "\n",
        "Complete the following function which computes the perplexity of an ngram language model given the class object and a dataset (represented as a list of strings as done earlier). _(8 points)_\n",
        "\n",
        "__Note 1:__ You may assume that the text is normalized as done before, so no text processing is required in the function.\n",
        "\n",
        "__Note 2:__ Consider performing computations in the log domain to avoid underflow errors. Recall the log equalities:\n",
        "\n",
        "$$ P = 2^{\\log_2 P} $$\n",
        "$$ \\log (a_1 a_2 \\ldots a_N)^{1/N} = \\frac{1}{N}\\left( \\log a_1 + \\log a_2 + \\ldots + \\log a_N \\right) $$"
      ]
    },
    {
      "cell_type": "code",
      "execution_count": null,
      "metadata": {
        "id": "yg5Ezw1PK4fo",
        "pycharm": {
          "name": "#%%\n"
        },
        "tags": []
      },
      "outputs": [],
      "source": [
        "def perplexity(model: NgramLM, data: List[List[str]]) -> float:\n",
        "    \"\"\"Function to compute perplexity of ngram LM.\n",
        "\n",
        "    Parameters\n",
        "    ----------\n",
        "    model : NgramLM\n",
        "        A class object denoted a trained `NgramLM`.\n",
        "    text : List[List[str]]\n",
        "        A list of sentences, where each sentence is a list of tokens.\n",
        "\n",
        "    Returns\n",
        "    -------\n",
        "    perp : float\n",
        "        Perplexity of the LM on given string.\n",
        "    \"\"\"\n",
        "    # TODO: Your code here\n",
        "    ..."
      ]
    },
    {
      "cell_type": "code",
      "execution_count": null,
      "metadata": {
        "deletable": false,
        "editable": false,
        "id": "__lPVrGXl3Ga"
      },
      "outputs": [],
      "source": [
        "grader.check(\"ngramlm-perp-impl\")"
      ]
    },
    {
      "cell_type": "markdown",
      "metadata": {
        "id": "drgo2ZhMgvTA",
        "pycharm": {
          "name": "#%% md\n"
        }
      },
      "source": [
        "__Question:__ What is the perplexity of the model on the training corpus? _(1 point)_"
      ]
    },
    {
      "cell_type": "code",
      "execution_count": null,
      "metadata": {
        "id": "eWiy10LSNhl2",
        "pycharm": {
          "name": "#%%\n"
        },
        "tags": []
      },
      "outputs": [],
      "source": [
        "# TODO: Your code here\n",
        "trigram_perp_on_training = ...\n",
        "trigram_perp_on_training"
      ]
    },
    {
      "cell_type": "code",
      "execution_count": null,
      "metadata": {
        "deletable": false,
        "editable": false,
        "id": "Nnqd4GPDl3Ga"
      },
      "outputs": [],
      "source": [
        "grader.check(\"ngramlm-tri-perp-on-training\")"
      ]
    },
    {
      "cell_type": "markdown",
      "metadata": {
        "id": "x6kIPjp58mDa",
        "pycharm": {
          "name": "#%% md\n"
        }
      },
      "source": [
        "__Question:__ What is the perplexity of the 4-gram LM you trained earlier on the training corpus? _(1 point)_"
      ]
    },
    {
      "cell_type": "code",
      "execution_count": null,
      "metadata": {
        "pycharm": {
          "name": "#%%\n"
        },
        "tags": [],
        "id": "99eNyxeZl3Gb"
      },
      "outputs": [],
      "source": [
        "# TODO: Your code here\n",
        "qgram_perp_on_training = ...\n",
        "qgram_perp_on_training"
      ]
    },
    {
      "cell_type": "code",
      "execution_count": null,
      "metadata": {
        "deletable": false,
        "editable": false,
        "id": "TWaHcLUil3Gb"
      },
      "outputs": [],
      "source": [
        "grader.check(\"ngramlm-quad-perp-on-training\")"
      ]
    },
    {
      "cell_type": "markdown",
      "metadata": {
        "id": "giDoTrs9ORpD",
        "pycharm": {
          "name": "#%% md\n"
        }
      },
      "source": [
        "You will now use your above implementation to evaluate your model on a small held out development set from Leo Tolstoy's Anna Karenina. First we download and preprocess this data similar to how we did for the training set."
      ]
    },
    {
      "cell_type": "code",
      "execution_count": null,
      "metadata": {
        "id": "wwmOEmrt5sMW",
        "pycharm": {
          "name": "#%%\n"
        }
      },
      "outputs": [],
      "source": [
        "# Process the text file to get the contents of Chapter 1\n",
        "try:\n",
        "    with open('1399-0.txt', 'r') as file:\n",
        "        dev_raw = file.read().replace('\\n', ' ')\n",
        "except FileNotFoundError:\n",
        "    with open('../../1399-0.txt', 'r') as file:\n",
        "        dev_raw = file.read().replace('\\n', ' ')"
      ]
    },
    {
      "cell_type": "code",
      "execution_count": null,
      "metadata": {
        "id": "zWqwXVzo6UJj",
        "pycharm": {
          "name": "#%%\n"
        },
        "scrolled": true
      },
      "outputs": [],
      "source": [
        "pattern = \"Chapter 1(.*)Chapter 2\"\n",
        "dev_ch1 = re.search(pattern, dev_raw).group(1)\n",
        "\n",
        "sentences = sent_tokenize(dev_ch1)\n",
        "\n",
        "dev_text = []\n",
        "tokenizer = RegexpTokenizer(r'\\w+')\n",
        "for sentence in sentences:\n",
        "    tokens = tokenizer.tokenize(sentence)\n",
        "    dev_text.append([token.lower() for token in tokens])\n",
        "\n",
        "print(\"Dev data has {} sentences\".format(len(dev_text)))"
      ]
    },
    {
      "cell_type": "markdown",
      "metadata": {
        "id": "Mi8ach2U7Tx3",
        "pycharm": {
          "name": "#%% md\n"
        }
      },
      "source": [
        "__Question:__ Compute the perplexity of the 3-gram LM on the development set prepared above. _(1 points)_"
      ]
    },
    {
      "cell_type": "code",
      "execution_count": null,
      "metadata": {
        "id": "T-qiPw6p7PcG",
        "pycharm": {
          "name": "#%%\n"
        },
        "tags": []
      },
      "outputs": [],
      "source": [
        "# TODO: Your code here\n",
        "trigram_perp_on_dev = ...\n",
        "trigram_perp_on_dev"
      ]
    },
    {
      "cell_type": "code",
      "execution_count": null,
      "metadata": {
        "deletable": false,
        "editable": false,
        "id": "FeWlDzdYl3Gb"
      },
      "outputs": [],
      "source": [
        "grader.check(\"ngramlm-tri-perp-on-dev\")"
      ]
    },
    {
      "cell_type": "markdown",
      "metadata": {
        "pycharm": {
          "name": "#%% md\n"
        },
        "id": "WDho_CV2l3Gb"
      },
      "source": [
        "<!-- BEGIN QUESTION -->\n",
        "\n",
        "__Question:__ What is the reason for this perplexity value? _(2 points)_"
      ]
    },
    {
      "cell_type": "markdown",
      "metadata": {
        "pycharm": {
          "name": "#%% md\n"
        },
        "id": "M681Cczrl3Gb"
      },
      "source": [
        "__Answer:__"
      ]
    },
    {
      "cell_type": "markdown",
      "metadata": {
        "id": "hApl4YF1l3Gb"
      },
      "source": [
        "_Type your answer here, replacing this text._"
      ]
    },
    {
      "cell_type": "markdown",
      "metadata": {
        "id": "PJRKm-HE8B7Q",
        "pycharm": {
          "name": "#%% md\n"
        }
      },
      "source": [
        "<!-- END QUESTION -->\n",
        "\n",
        "### Zeros and generalization\n",
        "\n",
        "From the above, you would have realized that our trigram LM in the barebones setting is probably not robust enough to be deployed in general settings, due to the data sparsity problem. This problem is dealt with by using \"smoothing\" methods for unseen n-grams and the `<UNK>` token for OOV words.\n",
        "\n",
        "In this section, you will implement Laplace (add-one) smoothing and use the `<UNK>` token for handling OOV words in the evaluation set. Complete the following class definition to achieve this. _(15 points)_"
      ]
    },
    {
      "cell_type": "code",
      "execution_count": null,
      "metadata": {
        "id": "v6a4wXKvTf6E",
        "pycharm": {
          "name": "#%%\n"
        },
        "tags": []
      },
      "outputs": [],
      "source": [
        "class NgramLMWithLaplaceSmoothing(NgramLM):\n",
        "    \"\"\"An n-gram language model with OOV handling and Laplace smoothing.\n",
        "    This class inherits all bahaviors from previous defined `NgramLM`.\n",
        "    Please be careful with the implementations here as you have to be consistent\n",
        "    with all interfaces.\n",
        "    \"\"\"\n",
        "\n",
        "    def __init__(self, n: int):\n",
        "        super(NgramLMWithLaplaceSmoothing, self).__init__(n=n)\n",
        "\n",
        "    def next_word_candidates(self, context: Tuple[str]) -> List[str]:\n",
        "        \"\"\"Generates a list of tokens based on the given context, which would be\n",
        "        later used as candidates for the next word prediction.\n",
        "\n",
        "        Note: in this overriden version, you should deal with the OOV words.\n",
        "\n",
        "        Parameters\n",
        "        ----------\n",
        "        context : Tuple[str]\n",
        "            A tuple of words describing the context for the next word.\n",
        "\n",
        "        Returns\n",
        "        -------\n",
        "        words : List[str]\n",
        "            A list of candidate tokens for the next word.\n",
        "        \"\"\"\n",
        "        # TODO: Your code here\n",
        "        ...\n",
        "\n",
        "    def word_prob(self, context: Tuple[str], word: str) -> float:\n",
        "        \"\"\"Returns the probability of a word given a context. The context is a\n",
        "        string of words, with length n-1.\n",
        "\n",
        "        Note: in this overriden version, you should deal with the OOV words.\n",
        "\n",
        "        Parameters\n",
        "        ----------\n",
        "        context : Tuple[str]\n",
        "            A tuple of words describing the context for the next word.\n",
        "        word : str\n",
        "            The next word that the probability is computed for.\n",
        "\n",
        "        Returns\n",
        "        -------\n",
        "        prob : float\n",
        "            The estimated probability of the next word given the context.\n",
        "        \"\"\"\n",
        "        # TODO: Your code here\n",
        "        ..."
      ]
    },
    {
      "cell_type": "code",
      "execution_count": null,
      "metadata": {
        "pycharm": {
          "name": "#%%\n"
        },
        "tags": [],
        "id": "TXX1--Dxl3Gb"
      },
      "outputs": [],
      "source": [
        "# Training block for a trigram language model with Laplace smoothing\n",
        "trigramlm_laplace = NgramLMWithLaplaceSmoothing(3)\n",
        "for sentence in corpus:\n",
        "    trigramlm_laplace.update(sentence)"
      ]
    },
    {
      "cell_type": "markdown",
      "metadata": {
        "id": "rE7UsXK5UL-_",
        "pycharm": {
          "name": "#%% md\n"
        }
      },
      "source": [
        "__Question:__ Report the perplexity of the new LM on the development data. (3 points)"
      ]
    },
    {
      "cell_type": "code",
      "execution_count": null,
      "metadata": {
        "pycharm": {
          "name": "#%%\n"
        },
        "tags": [],
        "id": "bVQdsbGRl3Gb"
      },
      "outputs": [],
      "source": [
        "# TODO: Your code here\n",
        "trigram_laplace_perp_on_training = ...\n",
        "trigram_laplace_perp_on_training"
      ]
    },
    {
      "cell_type": "markdown",
      "metadata": {
        "pycharm": {
          "name": "#%% md\n"
        },
        "id": "lJd1baM1l3Gc"
      },
      "source": [
        "<!-- BEGIN QUESTION -->\n",
        "\n",
        "__Question:__ Can you think of a different way to solve the OOV problem? _(2 points)_"
      ]
    },
    {
      "cell_type": "markdown",
      "metadata": {
        "pycharm": {
          "name": "#%% md\n"
        },
        "id": "h2lLlbjDl3Gc"
      },
      "source": [
        "__Answer:__"
      ]
    },
    {
      "cell_type": "markdown",
      "metadata": {
        "id": "88-jmIt-l3Gc"
      },
      "source": [
        "_Type your answer here, replacing this text._"
      ]
    },
    {
      "cell_type": "markdown",
      "metadata": {
        "id": "14Kjgo2NSc1A",
        "pycharm": {
          "name": "#%% md\n"
        }
      },
      "source": [
        "<!-- END QUESTION -->\n",
        "\n",
        "__Question (extra credit):__ Laplace smoothing is a relatively naive smoothing method. In the lectures, you learnt about more advanced methods: Good-Turing, Backoff, Interpolation, Kneser-Ney. Implement any one of these smoothing methods (pick your favorite). Evaluate the resulting trigram LM on the development data and report the perplexity. Could you get some improvements (an improvement from the baseline would secure you to get an extra credit of 10 points)? _(10 points)_\n",
        "\n",
        "__Leaderboard:__ It would be interesting to explore different techniques or combinations of techniques to improve trigram language models. For this extra credit question, we also introduce a leaderboard for people to compete their designs of language models. To encourage participantion, the top 15% and 30% would be given another 10 points and 5 points extra credit respectively. Have fun :-)"
      ]
    },
    {
      "cell_type": "code",
      "execution_count": null,
      "metadata": {
        "id": "HapmEPF4cDUa",
        "pycharm": {
          "name": "#%%\n"
        },
        "tags": []
      },
      "outputs": [],
      "source": [
        "class ImprovedNgramLM(NgramLM):\n",
        "    \"\"\"An improved version of n-gram language model with OOV handling.\n",
        "    This class inherits all bahaviors from previous defined `NgramLM`.\n",
        "    Please be careful with the implementations here as you have to be consistent\n",
        "    with all interfaces.\n",
        "\n",
        "    Note: you could override more methods provided by the base class, but you have\n",
        "    to maintain their ability of handling the same types of inputs and outputs.\n",
        "    \"\"\"\n",
        "\n",
        "    def __init__(self, n: int):\n",
        "        super(ImprovedNgramLM, self).__init__(n=n)\n",
        "\n",
        "        # TODO: Your code here, if you would like to change the behavior of init.\n",
        "\n",
        "    def next_word_candidates(self, context: Tuple[str]) -> List[str]:\n",
        "        \"\"\"Generates a list of tokens based on the given context, which would be\n",
        "        later used as candidates for the next word prediction.\n",
        "\n",
        "        Note: in this overriden version, you should deal with the OOV words.\n",
        "\n",
        "        Parameters\n",
        "        ----------\n",
        "        context : Tuple[str]\n",
        "            A tuple of words describing the context for the next word.\n",
        "\n",
        "        Returns\n",
        "        -------\n",
        "        words : List[str]\n",
        "            A list of candidate tokens for the next word.\n",
        "        \"\"\"\n",
        "        # TODO: Your code here\n",
        "        ...\n",
        "\n",
        "    def word_prob(self, context: Tuple[str], word: str) -> float:\n",
        "        \"\"\"Returns the probability of a word given a context. The context is a\n",
        "        string of words, with length n-1.\n",
        "\n",
        "        Note: in this overriden version, you should deal with the OOV words.\n",
        "\n",
        "        Parameters\n",
        "        ----------\n",
        "        context : Tuple[str]\n",
        "            A tuple of words describing the context for the next word.\n",
        "        word : str\n",
        "            The next word that the probability is computed for.\n",
        "\n",
        "        Returns\n",
        "        -------\n",
        "        prob : float\n",
        "            The estimated probability of the next word given the context.\n",
        "        \"\"\"\n",
        "        # TODO: Your code here\n",
        "        ..."
      ]
    },
    {
      "cell_type": "code",
      "execution_count": null,
      "metadata": {
        "pycharm": {
          "name": "#%%\n"
        },
        "tags": [],
        "id": "neDXt1Zwl3Gc"
      },
      "outputs": [],
      "source": [
        "# Training block for a trigram language model\n",
        "improved_trigramlm = ImprovedNgramLM(3)\n",
        "for sentence in corpus:\n",
        "    improved_trigramlm.update(sentence)"
      ]
    },
    {
      "cell_type": "code",
      "execution_count": null,
      "metadata": {
        "deletable": false,
        "editable": false,
        "id": "gYmH4KZ3l3Gc"
      },
      "outputs": [],
      "source": [
        "grader.check(\"ngramlm-improvement-impl\")"
      ]
    },
    {
      "cell_type": "markdown",
      "metadata": {
        "id": "gwOF-lAWVE94",
        "pycharm": {
          "name": "#%% md\n"
        }
      },
      "source": [
        "## Part 2: Parsing and the CYK algorithm\n",
        "\n",
        "In the lecture on Syntax, you learnt about parsing algorithms, including the bottom-up CYK algorithm. In this section, you will implement the CYK algorithm for computing the parse tree of a sentence given a grammar.\n",
        "\n",
        "You may look at the pseudocode on [Wikipedia](https://en.wikipedia.org/wiki/CYK_algorithm#As_pseudocode) or refer to descriptions of the CYK algorithm online (such as [this](https://courses.engr.illinois.edu/cs373/sp2009/lectures/lect_15.pdf)), but you may not copy code directly from another source. The objective of this exercise is to familiarize yourself with parsing.\n",
        "\n",
        "First, we will provide some starter code to load a simple grammar which can be used to test your implementation. The CYK algorithm only works with context-free grammars (CFGs) in the [Chomsky Normal Form (CNF)](https://en.wikipedia.org/wiki/Chomsky_normal_form), but any CFG can be represented as an equivalent CNF. You can use NLTK to check if the grammar is in CNF."
      ]
    },
    {
      "cell_type": "code",
      "execution_count": null,
      "metadata": {
        "id": "44xCk4nMYVWL",
        "pycharm": {
          "name": "#%%\n"
        }
      },
      "outputs": [],
      "source": [
        "# grammar rules\n",
        "\n",
        "cfg_rules = \"\"\"\n",
        "S -> NP VP\n",
        "PP -> P NP\n",
        "NP -> Det N\n",
        "NP -> Det N PP\n",
        "NP -> 'I'\n",
        "VP -> V NP\n",
        "VP -> VP PP\n",
        "Det -> 'an'\n",
        "Det -> 'my'\n",
        "N -> 'elephant'\n",
        "N -> 'pajamas'\n",
        "V -> 'shot'\n",
        "P -> 'in'\n",
        "\"\"\""
      ]
    },
    {
      "cell_type": "markdown",
      "metadata": {
        "id": "npLfx9CveUeI",
        "pycharm": {
          "name": "#%% md\n"
        }
      },
      "source": [
        "__Question:__ Use NLTK to check if the grammar `cfg` is in the Chomsky Normal Form. _(1 point)_"
      ]
    },
    {
      "cell_type": "code",
      "execution_count": null,
      "metadata": {
        "id": "SVY6CyYhc1zn",
        "pycharm": {
          "name": "#%%\n"
        },
        "tags": []
      },
      "outputs": [],
      "source": [
        "# TODO: Your code here\n",
        "# Note:\n",
        "# `is_cfg_cnf` should be the function name without executing it (by removing `()`).\n",
        "# Executing this cell should give you a boolean result indicating whether the given CFG\n",
        "# is in the Chomsky Normal Form.\n",
        "is_cfg_cnf = ...\n",
        "is_cfg_cnf()"
      ]
    },
    {
      "cell_type": "markdown",
      "metadata": {
        "id": "uatLXceVepso",
        "pycharm": {
          "name": "#%% md\n"
        }
      },
      "source": [
        "__Question:__ Convert the above CFG into CNF (use pen and paper) and create a new grammar using it. Use NLTK to verify if it is in CNF. _(4 points)_\n",
        "\n",
        "Here are the steps to convert any CFG into a CNF:\n",
        "\n",
        "1. Eliminate start symbol from the RHS. If the start symbol S is at the right-hand side of any production, create a new production as: S1 -> S\n",
        "2. If CFG contains null, unit or useless production rules, eliminate them.\n",
        "3. Eliminate terminals from RHS if they exist with other terminals or non-terminals.\n",
        "4. Eliminate RHS with more than two non-terminals.\n",
        "\n",
        "(Hint: There is only one offending rule in the above grammar.)"
      ]
    },
    {
      "cell_type": "code",
      "execution_count": null,
      "metadata": {
        "id": "qgnhok80g5io",
        "pycharm": {
          "name": "#%%\n"
        },
        "tags": []
      },
      "outputs": [],
      "source": [
        "# Write the CNF grammar here as a string\n",
        "\n",
        "# TODO: Your code here\n",
        "cnf_cfg_rules = ...\n",
        "cnf_cfg_rules"
      ]
    },
    {
      "cell_type": "markdown",
      "metadata": {
        "id": "hkL26o73dKJq",
        "pycharm": {
          "name": "#%% md\n"
        }
      },
      "source": [
        "You can now use the above grammar and the sentence: _\"I shot an elephant in my pajamas\"_ to demonstrate your implementation of the CYK parser.\n",
        "\n",
        "Complete the following code block to implement the parser. We have provided the definition of the Node class which stores a non-terminal, and some boilerplate code to ease you into the implementation. Your main task is to implement the `parse()` function, which generates the parse table in a bottom-up manner. The `parse_table` in the `CYKParser` class below can be thought of as a table which contains number of rows equal to the number of words in the sentence. _(25 points)_\n",
        "\n",
        "_Note_:\n",
        "\n",
        "We recommend reading the usage of [NLTK grammar object](https://www.nltk.org/howto/grammar.html) as we would parse the grammar to this object. It allows us to easily play with different grammar production rules. Sample usages (`grammar` is a `nltk.grammar.CFG` object instantiated from a given grammar):\n",
        "  - `grammar.productions()`: list all production rules defined in the grammar.\n",
        "  - `rule_i = grammar.productions()[i]`: get the ith rule from the grammar.\n",
        "  - `rule_i.lhs()`: get the LHS for the given rule.\n",
        "  - `rule_i.rhs()`: get the RHS for the given rule.\n",
        "  - `rule_i.is_lexical()`: determine whether it is a terminal rule.\n",
        "  - `rule_i.is_nonlexical()`: determine whether it is a non-terminal rule.\n",
        "  - `rhs_0 = rule_i.rhs()[0]`: get the first element on the RHS for the given rule.\n",
        "  - `rhs_0.symbol()`: get the `str` symbol of the RHS element (this also applies to the LHS element).\n",
        "  \n",
        "_Hint: It may be beneficial to first run through the algorithm for the given grammar and the sentence on pen and paper._"
      ]
    },
    {
      "cell_type": "code",
      "execution_count": null,
      "metadata": {
        "id": "sk2mYJWnhomu",
        "pycharm": {
          "name": "#%%\n"
        },
        "tags": []
      },
      "outputs": [],
      "source": [
        "class Node:\n",
        "    \"\"\" Equivalent to a non-terminal. Since our grammar is CNF, a node can have at\n",
        "    most 2 children. Following 2 cases are possible:\n",
        "\n",
        "    Case 1 -> child1 is a terminal symbol\n",
        "    Case 2 -> both child1 and child2 are Nodes.\n",
        "    \"\"\"\n",
        "\n",
        "    def __init__(self, symbol, child1, child2=None):\n",
        "        self.symbol = symbol\n",
        "        self.child1 = child1\n",
        "        self.child2 = child2\n",
        "\n",
        "    def __repr__(self):\n",
        "        \"\"\"Returns the string representation of a Node object.\"\"\"\n",
        "        return self.symbol\n",
        "\n",
        "    def generate_tree(self) -> str:\n",
        "        \"\"\"Generates the string representation of the tree rooted at the current node.\n",
        "        It is done via pre-order tree traversal.\n",
        "\n",
        "        Returns\n",
        "        -------\n",
        "        str_tree : str\n",
        "            The tree in its string form.\n",
        "        \"\"\"\n",
        "        if self.child2 is None:\n",
        "            return f\"[{self.symbol} '{self.child1}']\"\n",
        "        return f\"[{self.symbol} {self.child1.generate_tree()} {self.child2.generate_tree()}]\"\n",
        "\n",
        "\n",
        "class CYKParser(object):\n",
        "    \"\"\"A CYK parser which is able to parse any grammar in CNF. The parser object\n",
        "    is created from a CNF grammar and can be used to parse any sentence.\n",
        "    \"\"\"\n",
        "\n",
        "    def __init__(self, grammar: str):\n",
        "        \"\"\"Creates a new parser object.\n",
        "\n",
        "        Parameters\n",
        "        ----------\n",
        "        grammar : str\n",
        "            Input grammar as a string of rules.\n",
        "        \"\"\"\n",
        "        self.grammar: nltk.grammar.CFG = nltk.grammar.CFG.fromstring(grammar)\n",
        "\n",
        "    def print_tree(self, parse_table: List[List[List[Node]]]):\n",
        "        \"\"\"Prints the parse tree starting with the start symbol.\n",
        "        \"\"\"\n",
        "        start_symbol = self.grammar.start().symbol()\n",
        "        final_nodes = [n for n in parse_table[-1][0] if n.symbol == start_symbol]\n",
        "        if final_nodes:\n",
        "            print(\"\\nPossible parse(s):\")\n",
        "            trees = [node.generate_tree() for node in final_nodes]\n",
        "            for tree in trees:\n",
        "                print(tree)\n",
        "        else:\n",
        "            print(\"The given sentence is not contained in the language produced by the given grammar!\")\n",
        "\n",
        "    def parse(self, sentence: List[str]) -> List[List[List[Node]]]:\n",
        "        \"\"\"Does the actual parsing according to the CYK algorithm.\n",
        "\n",
        "        Parameters\n",
        "        ----------\n",
        "        sentence : List[str]\n",
        "            An input sentence in the form of list of tokens.\n",
        "\n",
        "        Returns\n",
        "        -------\n",
        "        parse_table : List[List[List[Node]]]\n",
        "            The resulting parse table for the sentence under the grammar.\n",
        "        \"\"\"\n",
        "        num_tokens = len(sentence)\n",
        "        # parse_table[y][x] is the list of nodes in the x+1 cell\n",
        "        # of y+1 row in the table. That cell covers the word below it\n",
        "        # and y more words after.\n",
        "        parse_table: List[List[List[Node]]] = [[[] for x in range(num_tokens - y)] for y in range(num_tokens)]\n",
        "\n",
        "        # TODO: Your code here\n",
        "        ...\n",
        "        return parse_table"
      ]
    },
    {
      "cell_type": "code",
      "execution_count": null,
      "metadata": {
        "id": "cbDKhmkgCGmu",
        "pycharm": {
          "name": "#%%\n"
        },
        "tags": []
      },
      "outputs": [],
      "source": [
        "parser = CYKParser(cnf_cfg_rules)\n",
        "parse_table = parser.parse(\"I shot an elephant in my pajamas\".split())"
      ]
    },
    {
      "cell_type": "code",
      "execution_count": null,
      "metadata": {
        "pycharm": {
          "name": "#%%\n"
        },
        "tags": [],
        "id": "6uk7V8K9l3Gd"
      },
      "outputs": [],
      "source": [
        "parser.print_tree(parse_table)"
      ]
    },
    {
      "cell_type": "code",
      "source": [
        "grader.check('cyk-impl')"
      ],
      "metadata": {
        "id": "Lw206TRr1PfT"
      },
      "execution_count": null,
      "outputs": []
    }
  ],
  "metadata": {
    "colab": {
      "provenance": [],
      "include_colab_link": true
    },
    "kernelspec": {
      "display_name": "Python 3 (ipykernel)",
      "language": "python",
      "name": "python3"
    },
    "language_info": {
      "codemirror_mode": {
        "name": "ipython",
        "version": 3
      },
      "file_extension": ".py",
      "mimetype": "text/x-python",
      "name": "python",
      "nbconvert_exporter": "python",
      "pygments_lexer": "ipython3",
      "version": "3.10.4"
    }
  },
  "nbformat": 4,
  "nbformat_minor": 0
}